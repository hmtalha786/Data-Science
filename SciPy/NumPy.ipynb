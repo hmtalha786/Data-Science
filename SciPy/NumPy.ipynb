{
 "cells": [
  {
   "cell_type": "markdown",
   "metadata": {
    "colab_type": "text",
    "id": "bzkpbTYpZwsm"
   },
   "source": [
    "# NumPy Tutorial\n"
   ]
  },
  {
   "cell_type": "markdown",
   "metadata": {
    "colab_type": "text",
    "id": "wMN81GU6Y67k"
   },
   "source": [
    "### Install NumPy Library (pip install numpy)"
   ]
  },
  {
   "cell_type": "code",
   "execution_count": null,
   "metadata": {
    "colab": {},
    "colab_type": "code",
    "id": "bVBar7DbY67m"
   },
   "outputs": [],
   "source": [
    "import numpy as np"
   ]
  },
  {
   "cell_type": "markdown",
   "metadata": {
    "colab_type": "text",
    "id": "mOsL-0KmUCFj"
   },
   "source": [
    "## 1) Numpy Array"
   ]
  },
  {
   "cell_type": "code",
   "execution_count": null,
   "metadata": {
    "colab": {
     "base_uri": "https://localhost:8080/",
     "height": 34
    },
    "colab_type": "code",
    "executionInfo": {
     "elapsed": 4397,
     "status": "ok",
     "timestamp": 1584621375686,
     "user": {
      "displayName": "PyPower Projects",
      "photoUrl": "https://lh3.googleusercontent.com/a-/AOh14GjT0Y2aP1NhTWWW0VCGgy3-k663Vk9Y78aGv98t=s64",
      "userId": "01403907081476548056"
     },
     "user_tz": -330
    },
    "id": "AXmxQjZcUqO9",
    "outputId": "4f47ad56-9a58-44b2-b0bc-049ee63c1e87"
   },
   "outputs": [],
   "source": [
    "#1D array of int type\n",
    "a = np.array([1,2,3,4],dtype=int) \n",
    "print(a)"
   ]
  },
  {
   "cell_type": "code",
   "execution_count": null,
   "metadata": {
    "colab": {
     "base_uri": "https://localhost:8080/",
     "height": 34
    },
    "colab_type": "code",
    "executionInfo": {
     "elapsed": 4379,
     "status": "ok",
     "timestamp": 1584621375688,
     "user": {
      "displayName": "PyPower Projects",
      "photoUrl": "https://lh3.googleusercontent.com/a-/AOh14GjT0Y2aP1NhTWWW0VCGgy3-k663Vk9Y78aGv98t=s64",
      "userId": "01403907081476548056"
     },
     "user_tz": -330
    },
    "id": "TxWA9cS7U32v",
    "outputId": "e15a7e7a-1aa1-40f9-f104-cefe47c83d96"
   },
   "outputs": [],
   "source": [
    "#1D array of float type\n",
    "b  = np.array([1,2,3,4],dtype=float) \n",
    "print(b)"
   ]
  },
  {
   "cell_type": "code",
   "execution_count": null,
   "metadata": {
    "colab": {
     "base_uri": "https://localhost:8080/",
     "height": 52
    },
    "colab_type": "code",
    "executionInfo": {
     "elapsed": 4365,
     "status": "ok",
     "timestamp": 1584621375692,
     "user": {
      "displayName": "PyPower Projects",
      "photoUrl": "https://lh3.googleusercontent.com/a-/AOh14GjT0Y2aP1NhTWWW0VCGgy3-k663Vk9Y78aGv98t=s64",
      "userId": "01403907081476548056"
     },
     "user_tz": -330
    },
    "id": "c-Lncv5pU3mV",
    "outputId": "24f61471-2d31-4aeb-f122-d101ddac418c"
   },
   "outputs": [],
   "source": [
    "#2D array\n",
    "a = np.array([[1,2,3,4],[5,6,7,8]],dtype=int) \n",
    "print(a)"
   ]
  },
  {
   "cell_type": "code",
   "execution_count": null,
   "metadata": {
    "colab": {
     "base_uri": "https://localhost:8080/",
     "height": 105
    },
    "colab_type": "code",
    "executionInfo": {
     "elapsed": 4349,
     "status": "ok",
     "timestamp": 1584621375694,
     "user": {
      "displayName": "PyPower Projects",
      "photoUrl": "https://lh3.googleusercontent.com/a-/AOh14GjT0Y2aP1NhTWWW0VCGgy3-k663Vk9Y78aGv98t=s64",
      "userId": "01403907081476548056"
     },
     "user_tz": -330
    },
    "id": "B65lcJMSh0E_",
    "outputId": "5d73912d-9df6-4a81-bc91-fdce9375ca39"
   },
   "outputs": [],
   "source": [
    "#3D array\n",
    "a1 = np.array([[[1,2,3],[4,5,6]],[[10,20,30],[40,50,60]]],dtype=int) \n",
    "print(a1)"
   ]
  },
  {
   "cell_type": "code",
   "execution_count": null,
   "metadata": {
    "colab": {},
    "colab_type": "code",
    "id": "7IfQ7aDLW9Wr"
   },
   "outputs": [],
   "source": []
  },
  {
   "cell_type": "markdown",
   "metadata": {
    "colab_type": "text",
    "id": "ZCmnjnJnY67q"
   },
   "source": [
    "## 2) Basics of Numpy"
   ]
  },
  {
   "cell_type": "code",
   "execution_count": null,
   "metadata": {
    "colab": {
     "base_uri": "https://localhost:8080/",
     "height": 34
    },
    "colab_type": "code",
    "executionInfo": {
     "elapsed": 4325,
     "status": "ok",
     "timestamp": 1584621375696,
     "user": {
      "displayName": "PyPower Projects",
      "photoUrl": "https://lh3.googleusercontent.com/a-/AOh14GjT0Y2aP1NhTWWW0VCGgy3-k663Vk9Y78aGv98t=s64",
      "userId": "01403907081476548056"
     },
     "user_tz": -330
    },
    "id": "mUvvtBzlY67r",
    "outputId": "1b71302d-2e3b-417c-a24c-85554f8fdce2"
   },
   "outputs": [],
   "source": [
    "a = np.array([1,2,3], dtype='int')\n",
    "print(a)"
   ]
  },
  {
   "cell_type": "code",
   "execution_count": null,
   "metadata": {
    "colab": {
     "base_uri": "https://localhost:8080/",
     "height": 52
    },
    "colab_type": "code",
    "executionInfo": {
     "elapsed": 4305,
     "status": "ok",
     "timestamp": 1584621375697,
     "user": {
      "displayName": "PyPower Projects",
      "photoUrl": "https://lh3.googleusercontent.com/a-/AOh14GjT0Y2aP1NhTWWW0VCGgy3-k663Vk9Y78aGv98t=s64",
      "userId": "01403907081476548056"
     },
     "user_tz": -330
    },
    "id": "iyFt9HYrihY9",
    "outputId": "14f1f7a8-c5ab-4372-b6af-99d6c08ad149"
   },
   "outputs": [],
   "source": [
    "#ARRAY with Float values\n",
    "b = np.array([[1.23,23.4,5],[21,46.8,33]])\n",
    "print(b)"
   ]
  },
  {
   "cell_type": "code",
   "execution_count": null,
   "metadata": {
    "colab": {
     "base_uri": "https://localhost:8080/",
     "height": 52
    },
    "colab_type": "code",
    "executionInfo": {
     "elapsed": 4288,
     "status": "ok",
     "timestamp": 1584621375698,
     "user": {
      "displayName": "PyPower Projects",
      "photoUrl": "https://lh3.googleusercontent.com/a-/AOh14GjT0Y2aP1NhTWWW0VCGgy3-k663Vk9Y78aGv98t=s64",
      "userId": "01403907081476548056"
     },
     "user_tz": -330
    },
    "id": "OfVN-_W9amRS",
    "outputId": "994c2558-2610-4bca-c82c-24f6150afd48"
   },
   "outputs": [],
   "source": [
    "#ARRAY with Complex values\n",
    "c=np.array([(1+5j,2j,3),(4,5,6)],dtype=\"complex\")\n",
    "\n",
    "print(c)"
   ]
  },
  {
   "cell_type": "markdown",
   "metadata": {
    "colab_type": "text",
    "id": "FtL8qHzWbnoM"
   },
   "source": [
    "#### Shape, Size, Dimension, Type, ItemSize Attributes of Array"
   ]
  },
  {
   "cell_type": "code",
   "execution_count": null,
   "metadata": {
    "colab": {
     "base_uri": "https://localhost:8080/",
     "height": 52
    },
    "colab_type": "code",
    "executionInfo": {
     "elapsed": 4273,
     "status": "ok",
     "timestamp": 1584621375700,
     "user": {
      "displayName": "PyPower Projects",
      "photoUrl": "https://lh3.googleusercontent.com/a-/AOh14GjT0Y2aP1NhTWWW0VCGgy3-k663Vk9Y78aGv98t=s64",
      "userId": "01403907081476548056"
     },
     "user_tz": -330
    },
    "id": "lVAq4hR6j5XN",
    "outputId": "a407c401-e6c7-4f37-b3cb-1c0ce72b507e"
   },
   "outputs": [],
   "source": [
    "a = np.array([[1,2,3,4],[5,6,7,8]])\n",
    "print(a)"
   ]
  },
  {
   "cell_type": "code",
   "execution_count": null,
   "metadata": {
    "colab": {
     "base_uri": "https://localhost:8080/",
     "height": 34
    },
    "colab_type": "code",
    "executionInfo": {
     "elapsed": 4259,
     "status": "ok",
     "timestamp": 1584621375701,
     "user": {
      "displayName": "PyPower Projects",
      "photoUrl": "https://lh3.googleusercontent.com/a-/AOh14GjT0Y2aP1NhTWWW0VCGgy3-k663Vk9Y78aGv98t=s64",
      "userId": "01403907081476548056"
     },
     "user_tz": -330
    },
    "id": "EX5VigNOY671",
    "outputId": "2744f2af-873b-43df-ddc4-8993e554b2da"
   },
   "outputs": [],
   "source": [
    "# Get Shape\n",
    "a.shape"
   ]
  },
  {
   "cell_type": "code",
   "execution_count": null,
   "metadata": {
    "colab": {
     "base_uri": "https://localhost:8080/",
     "height": 34
    },
    "colab_type": "code",
    "executionInfo": {
     "elapsed": 4240,
     "status": "ok",
     "timestamp": 1584621375702,
     "user": {
      "displayName": "PyPower Projects",
      "photoUrl": "https://lh3.googleusercontent.com/a-/AOh14GjT0Y2aP1NhTWWW0VCGgy3-k663Vk9Y78aGv98t=s64",
      "userId": "01403907081476548056"
     },
     "user_tz": -330
    },
    "id": "MszdM04NY67_",
    "outputId": "f3a8b746-57df-414a-98b2-8ed4f1dfda17"
   },
   "outputs": [],
   "source": [
    "# Get total number of elements\n",
    "a.size"
   ]
  },
  {
   "cell_type": "code",
   "execution_count": null,
   "metadata": {
    "colab": {
     "base_uri": "https://localhost:8080/",
     "height": 34
    },
    "colab_type": "code",
    "executionInfo": {
     "elapsed": 4226,
     "status": "ok",
     "timestamp": 1584621375703,
     "user": {
      "displayName": "PyPower Projects",
      "photoUrl": "https://lh3.googleusercontent.com/a-/AOh14GjT0Y2aP1NhTWWW0VCGgy3-k663Vk9Y78aGv98t=s64",
      "userId": "01403907081476548056"
     },
     "user_tz": -330
    },
    "id": "5LEEQxGdY67x",
    "outputId": "a0c7aada-12d4-4614-fc52-fb2cd1ad140d"
   },
   "outputs": [],
   "source": [
    "# Get Dimension\n",
    "a.ndim"
   ]
  },
  {
   "cell_type": "code",
   "execution_count": null,
   "metadata": {
    "colab": {
     "base_uri": "https://localhost:8080/",
     "height": 34
    },
    "colab_type": "code",
    "executionInfo": {
     "elapsed": 4211,
     "status": "ok",
     "timestamp": 1584621375704,
     "user": {
      "displayName": "PyPower Projects",
      "photoUrl": "https://lh3.googleusercontent.com/a-/AOh14GjT0Y2aP1NhTWWW0VCGgy3-k663Vk9Y78aGv98t=s64",
      "userId": "01403907081476548056"
     },
     "user_tz": -330
    },
    "id": "gCnWAXb2Y677",
    "outputId": "cee31f68-4e48-409e-a1ef-b90c19435cba"
   },
   "outputs": [],
   "source": [
    "# Get Size(in bytes) of single element\n",
    "a.itemsize"
   ]
  },
  {
   "cell_type": "code",
   "execution_count": null,
   "metadata": {
    "colab": {
     "base_uri": "https://localhost:8080/",
     "height": 34
    },
    "colab_type": "code",
    "executionInfo": {
     "elapsed": 4195,
     "status": "ok",
     "timestamp": 1584621375706,
     "user": {
      "displayName": "PyPower Projects",
      "photoUrl": "https://lh3.googleusercontent.com/a-/AOh14GjT0Y2aP1NhTWWW0VCGgy3-k663Vk9Y78aGv98t=s64",
      "userId": "01403907081476548056"
     },
     "user_tz": -330
    },
    "id": "Y2vP8io-khbA",
    "outputId": "9676c5cc-3396-42aa-868a-c36b35cd6199"
   },
   "outputs": [],
   "source": [
    "#Get dtype (datatype) of array\n",
    "a.dtype"
   ]
  },
  {
   "cell_type": "code",
   "execution_count": null,
   "metadata": {
    "colab": {
     "base_uri": "https://localhost:8080/",
     "height": 34
    },
    "colab_type": "code",
    "executionInfo": {
     "elapsed": 4179,
     "status": "ok",
     "timestamp": 1584621375707,
     "user": {
      "displayName": "PyPower Projects",
      "photoUrl": "https://lh3.googleusercontent.com/a-/AOh14GjT0Y2aP1NhTWWW0VCGgy3-k663Vk9Y78aGv98t=s64",
      "userId": "01403907081476548056"
     },
     "user_tz": -330
    },
    "id": "Grd1XQkDY679",
    "outputId": "fae1bc6c-b345-4df8-8d5c-ea2ef397f647"
   },
   "outputs": [],
   "source": [
    "# Get total size of array(in bytes)\n",
    "a.nbytes"
   ]
  },
  {
   "cell_type": "code",
   "execution_count": null,
   "metadata": {
    "colab": {
     "base_uri": "https://localhost:8080/",
     "height": 34
    },
    "colab_type": "code",
    "executionInfo": {
     "elapsed": 4164,
     "status": "ok",
     "timestamp": 1584621375708,
     "user": {
      "displayName": "PyPower Projects",
      "photoUrl": "https://lh3.googleusercontent.com/a-/AOh14GjT0Y2aP1NhTWWW0VCGgy3-k663Vk9Y78aGv98t=s64",
      "userId": "01403907081476548056"
     },
     "user_tz": -330
    },
    "id": "P3LfVL3ikxIu",
    "outputId": "878cac47-2755-49f2-ce25-348d03bd4e50"
   },
   "outputs": [],
   "source": [
    "#length of array\n",
    "len(a[0])"
   ]
  },
  {
   "cell_type": "code",
   "execution_count": null,
   "metadata": {
    "colab": {
     "base_uri": "https://localhost:8080/",
     "height": 34
    },
    "colab_type": "code",
    "executionInfo": {
     "elapsed": 4147,
     "status": "ok",
     "timestamp": 1584621375710,
     "user": {
      "displayName": "PyPower Projects",
      "photoUrl": "https://lh3.googleusercontent.com/a-/AOh14GjT0Y2aP1NhTWWW0VCGgy3-k663Vk9Y78aGv98t=s64",
      "userId": "01403907081476548056"
     },
     "user_tz": -330
    },
    "id": "wKw-1QOik6O_",
    "outputId": "487dcef4-e90a-4885-c980-3a22953e26dd"
   },
   "outputs": [],
   "source": [
    "#type of array object\n",
    "type(a)"
   ]
  },
  {
   "cell_type": "markdown",
   "metadata": {
    "colab_type": "text",
    "id": "dgHXAOIvY68D"
   },
   "source": [
    "## 3) Accessing array elements"
   ]
  },
  {
   "cell_type": "code",
   "execution_count": null,
   "metadata": {
    "colab": {
     "base_uri": "https://localhost:8080/",
     "height": 52
    },
    "colab_type": "code",
    "executionInfo": {
     "elapsed": 4132,
     "status": "ok",
     "timestamp": 1584621375711,
     "user": {
      "displayName": "PyPower Projects",
      "photoUrl": "https://lh3.googleusercontent.com/a-/AOh14GjT0Y2aP1NhTWWW0VCGgy3-k663Vk9Y78aGv98t=s64",
      "userId": "01403907081476548056"
     },
     "user_tz": -330
    },
    "id": "mWzcxIH9Y68E",
    "outputId": "88362e31-146f-4b8f-f09b-73b385bdde09"
   },
   "outputs": [],
   "source": [
    "a = np.array([[1,2,3,4,5,6,7],[8,9,10,11,12,13,14]])\n",
    "print(a)"
   ]
  },
  {
   "cell_type": "code",
   "execution_count": null,
   "metadata": {
    "colab": {
     "base_uri": "https://localhost:8080/",
     "height": 52
    },
    "colab_type": "code",
    "executionInfo": {
     "elapsed": 4116,
     "status": "ok",
     "timestamp": 1584621375713,
     "user": {
      "displayName": "PyPower Projects",
      "photoUrl": "https://lh3.googleusercontent.com/a-/AOh14GjT0Y2aP1NhTWWW0VCGgy3-k663Vk9Y78aGv98t=s64",
      "userId": "01403907081476548056"
     },
     "user_tz": -330
    },
    "id": "DdIUCRczY68G",
    "outputId": "b795bdbf-1546-47ca-f7ab-1e1f901f4f22"
   },
   "outputs": [],
   "source": [
    "# Get a specific element [r, c] or [r][c]\n",
    "print(a[1,5])\n",
    "print(a[0][2])"
   ]
  },
  {
   "cell_type": "code",
   "execution_count": null,
   "metadata": {
    "colab": {
     "base_uri": "https://localhost:8080/",
     "height": 34
    },
    "colab_type": "code",
    "executionInfo": {
     "elapsed": 4102,
     "status": "ok",
     "timestamp": 1584621375714,
     "user": {
      "displayName": "PyPower Projects",
      "photoUrl": "https://lh3.googleusercontent.com/a-/AOh14GjT0Y2aP1NhTWWW0VCGgy3-k663Vk9Y78aGv98t=s64",
      "userId": "01403907081476548056"
     },
     "user_tz": -330
    },
    "id": "R-3Wx4_UY68J",
    "outputId": "6d2f4a34-efe9-45f5-ac4e-af32f09e3f1e"
   },
   "outputs": [],
   "source": [
    "# Get a specific row \n",
    "a[0,:]"
   ]
  },
  {
   "cell_type": "code",
   "execution_count": null,
   "metadata": {
    "colab": {
     "base_uri": "https://localhost:8080/",
     "height": 34
    },
    "colab_type": "code",
    "executionInfo": {
     "elapsed": 4087,
     "status": "ok",
     "timestamp": 1584621375715,
     "user": {
      "displayName": "PyPower Projects",
      "photoUrl": "https://lh3.googleusercontent.com/a-/AOh14GjT0Y2aP1NhTWWW0VCGgy3-k663Vk9Y78aGv98t=s64",
      "userId": "01403907081476548056"
     },
     "user_tz": -330
    },
    "id": "xHqnZdcGY68L",
    "outputId": "fe441f90-5251-41f8-f7cb-69617c4b2e1e"
   },
   "outputs": [],
   "source": [
    "# Get a specific column\n",
    "a[:, 4]"
   ]
  },
  {
   "cell_type": "code",
   "execution_count": null,
   "metadata": {
    "colab": {
     "base_uri": "https://localhost:8080/",
     "height": 105
    },
    "colab_type": "code",
    "executionInfo": {
     "elapsed": 4073,
     "status": "ok",
     "timestamp": 1584621375717,
     "user": {
      "displayName": "PyPower Projects",
      "photoUrl": "https://lh3.googleusercontent.com/a-/AOh14GjT0Y2aP1NhTWWW0VCGgy3-k663Vk9Y78aGv98t=s64",
      "userId": "01403907081476548056"
     },
     "user_tz": -330
    },
    "id": "x7FuMJd_Y68Q",
    "outputId": "5b1ffecf-af32-44ca-ff5d-139df66c49af"
   },
   "outputs": [],
   "source": [
    "a[0,3] = 20\n",
    "print(a)\n",
    "print()\n",
    "\n",
    "a[:,1] = [100,200]\n",
    "print(a)"
   ]
  },
  {
   "cell_type": "markdown",
   "metadata": {
    "colab_type": "text",
    "id": "FeXDZun7q3_E"
   },
   "source": [
    "#### 3D Array Example"
   ]
  },
  {
   "cell_type": "code",
   "execution_count": null,
   "metadata": {
    "colab": {
     "base_uri": "https://localhost:8080/",
     "height": 105
    },
    "colab_type": "code",
    "executionInfo": {
     "elapsed": 4060,
     "status": "ok",
     "timestamp": 1584621375718,
     "user": {
      "displayName": "PyPower Projects",
      "photoUrl": "https://lh3.googleusercontent.com/a-/AOh14GjT0Y2aP1NhTWWW0VCGgy3-k663Vk9Y78aGv98t=s64",
      "userId": "01403907081476548056"
     },
     "user_tz": -330
    },
    "id": "Sm4HrzbxY68U",
    "outputId": "f376115c-73d0-45d1-96b7-cca706962587"
   },
   "outputs": [],
   "source": [
    "#3D Array\n",
    "a1 = np.array([[[1,2],[3,4]],[[5,6],[7,8]]])\n",
    "print(a1)"
   ]
  },
  {
   "cell_type": "code",
   "execution_count": null,
   "metadata": {
    "colab": {
     "base_uri": "https://localhost:8080/",
     "height": 34
    },
    "colab_type": "code",
    "executionInfo": {
     "elapsed": 4045,
     "status": "ok",
     "timestamp": 1584621375719,
     "user": {
      "displayName": "PyPower Projects",
      "photoUrl": "https://lh3.googleusercontent.com/a-/AOh14GjT0Y2aP1NhTWWW0VCGgy3-k663Vk9Y78aGv98t=s64",
      "userId": "01403907081476548056"
     },
     "user_tz": -330
    },
    "id": "5yyXvaS3Y68W",
    "outputId": "84526162-943d-435e-900f-2560fc82a344"
   },
   "outputs": [],
   "source": [
    "# Get specific element b[f,r,c]\n",
    "a1[1,1,1]"
   ]
  },
  {
   "cell_type": "code",
   "execution_count": null,
   "metadata": {
    "colab": {
     "base_uri": "https://localhost:8080/",
     "height": 228
    },
    "colab_type": "code",
    "executionInfo": {
     "elapsed": 4031,
     "status": "ok",
     "timestamp": 1584621375721,
     "user": {
      "displayName": "PyPower Projects",
      "photoUrl": "https://lh3.googleusercontent.com/a-/AOh14GjT0Y2aP1NhTWWW0VCGgy3-k663Vk9Y78aGv98t=s64",
      "userId": "01403907081476548056"
     },
     "user_tz": -330
    },
    "id": "BMhbnzzCY68Y",
    "outputId": "4bb8035f-a321-4ffe-d7f4-b43873a4ae7c"
   },
   "outputs": [],
   "source": [
    "#Assignment \n",
    "print(a1)\n",
    "\n",
    "a1[0,:,:] = [[1,1],[1,1]]\n",
    "print(\"\\nAfter Assignment.\")\n",
    "print(a1)"
   ]
  },
  {
   "cell_type": "markdown",
   "metadata": {
    "colab_type": "text",
    "id": "PRaXyatVY682"
   },
   "source": [
    "## 4) Mathematical Operations"
   ]
  },
  {
   "cell_type": "markdown",
   "metadata": {
    "colab_type": "text",
    "id": "_cHMpINuGsMX"
   },
   "source": [
    "#### Basic"
   ]
  },
  {
   "cell_type": "code",
   "execution_count": null,
   "metadata": {
    "colab": {
     "base_uri": "https://localhost:8080/",
     "height": 34
    },
    "colab_type": "code",
    "executionInfo": {
     "elapsed": 4015,
     "status": "ok",
     "timestamp": 1584621375722,
     "user": {
      "displayName": "PyPower Projects",
      "photoUrl": "https://lh3.googleusercontent.com/a-/AOh14GjT0Y2aP1NhTWWW0VCGgy3-k663Vk9Y78aGv98t=s64",
      "userId": "01403907081476548056"
     },
     "user_tz": -330
    },
    "id": "y95dNnq9Y683",
    "outputId": "56339d0d-bc93-4308-ff24-bce18ec97376"
   },
   "outputs": [],
   "source": [
    "a = np.array([1,2,3,4,5])\n",
    "print(a)"
   ]
  },
  {
   "cell_type": "code",
   "execution_count": null,
   "metadata": {
    "colab": {
     "base_uri": "https://localhost:8080/",
     "height": 34
    },
    "colab_type": "code",
    "executionInfo": {
     "elapsed": 4000,
     "status": "ok",
     "timestamp": 1584621375724,
     "user": {
      "displayName": "PyPower Projects",
      "photoUrl": "https://lh3.googleusercontent.com/a-/AOh14GjT0Y2aP1NhTWWW0VCGgy3-k663Vk9Y78aGv98t=s64",
      "userId": "01403907081476548056"
     },
     "user_tz": -330
    },
    "id": "zGz_iJ6rY686",
    "outputId": "72eb51b0-8e27-40ac-d6fe-c79bc9466f1c"
   },
   "outputs": [],
   "source": [
    "print(a + 1) #Addition"
   ]
  },
  {
   "cell_type": "code",
   "execution_count": null,
   "metadata": {
    "colab": {
     "base_uri": "https://localhost:8080/",
     "height": 34
    },
    "colab_type": "code",
    "executionInfo": {
     "elapsed": 3986,
     "status": "ok",
     "timestamp": 1584621375725,
     "user": {
      "displayName": "PyPower Projects",
      "photoUrl": "https://lh3.googleusercontent.com/a-/AOh14GjT0Y2aP1NhTWWW0VCGgy3-k663Vk9Y78aGv98t=s64",
      "userId": "01403907081476548056"
     },
     "user_tz": -330
    },
    "id": "wpERrTtAY689",
    "outputId": "abace8e1-2c84-4b70-db07-3347b9d08358"
   },
   "outputs": [],
   "source": [
    "print(a - 1) #Subtraction"
   ]
  },
  {
   "cell_type": "code",
   "execution_count": null,
   "metadata": {
    "colab": {
     "base_uri": "https://localhost:8080/",
     "height": 34
    },
    "colab_type": "code",
    "executionInfo": {
     "elapsed": 3973,
     "status": "ok",
     "timestamp": 1584621375727,
     "user": {
      "displayName": "PyPower Projects",
      "photoUrl": "https://lh3.googleusercontent.com/a-/AOh14GjT0Y2aP1NhTWWW0VCGgy3-k663Vk9Y78aGv98t=s64",
      "userId": "01403907081476548056"
     },
     "user_tz": -330
    },
    "id": "XV9vekAkY68_",
    "outputId": "e4188b0d-02a0-4a11-aa10-ecb0f6d2e6e8"
   },
   "outputs": [],
   "source": [
    "print(a * 3) #Product (Dot Product)"
   ]
  },
  {
   "cell_type": "code",
   "execution_count": null,
   "metadata": {
    "colab": {
     "base_uri": "https://localhost:8080/",
     "height": 52
    },
    "colab_type": "code",
    "executionInfo": {
     "elapsed": 3959,
     "status": "ok",
     "timestamp": 1584621375728,
     "user": {
      "displayName": "PyPower Projects",
      "photoUrl": "https://lh3.googleusercontent.com/a-/AOh14GjT0Y2aP1NhTWWW0VCGgy3-k663Vk9Y78aGv98t=s64",
      "userId": "01403907081476548056"
     },
     "user_tz": -330
    },
    "id": "WEKguU-f98p-",
    "outputId": "42005956-45a2-4128-bff1-cb67c097099b"
   },
   "outputs": [],
   "source": [
    "x = np.array([[1,2,3], [4,5,6]])\n",
    "y = np.array([[4,5,6], [1,2,3]])\n",
    "np.cross(x, y)      #Cross Product\n"
   ]
  },
  {
   "cell_type": "code",
   "execution_count": null,
   "metadata": {
    "colab": {
     "base_uri": "https://localhost:8080/",
     "height": 70
    },
    "colab_type": "code",
    "executionInfo": {
     "elapsed": 3943,
     "status": "ok",
     "timestamp": 1584621375729,
     "user": {
      "displayName": "PyPower Projects",
      "photoUrl": "https://lh3.googleusercontent.com/a-/AOh14GjT0Y2aP1NhTWWW0VCGgy3-k663Vk9Y78aGv98t=s64",
      "userId": "01403907081476548056"
     },
     "user_tz": -330
    },
    "id": "l1c_6Wc_Y69B",
    "outputId": "e922312b-183f-42f5-e537-d4031a4ac0ab"
   },
   "outputs": [],
   "source": [
    "print(a,end=\"\\n\\n\")\n",
    "print(a / 2) #Division"
   ]
  },
  {
   "cell_type": "code",
   "execution_count": null,
   "metadata": {
    "colab": {
     "base_uri": "https://localhost:8080/",
     "height": 34
    },
    "colab_type": "code",
    "executionInfo": {
     "elapsed": 3929,
     "status": "ok",
     "timestamp": 1584621375730,
     "user": {
      "displayName": "PyPower Projects",
      "photoUrl": "https://lh3.googleusercontent.com/a-/AOh14GjT0Y2aP1NhTWWW0VCGgy3-k663Vk9Y78aGv98t=s64",
      "userId": "01403907081476548056"
     },
     "user_tz": -330
    },
    "id": "LgYf3jaYY69D",
    "outputId": "10bccb10-d797-4d24-be95-5a7cb7c4c108"
   },
   "outputs": [],
   "source": [
    "b = np.array([1,1,1,1,1])\n",
    "print(a + b)    #ADDs 2 Array"
   ]
  },
  {
   "cell_type": "code",
   "execution_count": null,
   "metadata": {
    "colab": {
     "base_uri": "https://localhost:8080/",
     "height": 34
    },
    "colab_type": "code",
    "executionInfo": {
     "elapsed": 3911,
     "status": "ok",
     "timestamp": 1584621375731,
     "user": {
      "displayName": "PyPower Projects",
      "photoUrl": "https://lh3.googleusercontent.com/a-/AOh14GjT0Y2aP1NhTWWW0VCGgy3-k663Vk9Y78aGv98t=s64",
      "userId": "01403907081476548056"
     },
     "user_tz": -330
    },
    "id": "fCZTRv3BY69H",
    "outputId": "fa9895ae-2ac8-46c9-b998-390f4da1ad52"
   },
   "outputs": [],
   "source": [
    "print(a ** 2)  #Power Operator"
   ]
  },
  {
   "cell_type": "code",
   "execution_count": null,
   "metadata": {
    "colab": {
     "base_uri": "https://localhost:8080/",
     "height": 34
    },
    "colab_type": "code",
    "executionInfo": {
     "elapsed": 3898,
     "status": "ok",
     "timestamp": 1584621375732,
     "user": {
      "displayName": "PyPower Projects",
      "photoUrl": "https://lh3.googleusercontent.com/a-/AOh14GjT0Y2aP1NhTWWW0VCGgy3-k663Vk9Y78aGv98t=s64",
      "userId": "01403907081476548056"
     },
     "user_tz": -330
    },
    "id": "vVU_-KoNKgZG",
    "outputId": "859b0920-db17-4a65-8c06-5a7281abe262"
   },
   "outputs": [],
   "source": [
    "print(np.sqrt(a))"
   ]
  },
  {
   "cell_type": "markdown",
   "metadata": {
    "colab_type": "text",
    "id": "Q6jLaQ1KGw5_"
   },
   "source": [
    "#### Min, Max, Sum"
   ]
  },
  {
   "cell_type": "code",
   "execution_count": null,
   "metadata": {
    "colab": {
     "base_uri": "https://localhost:8080/",
     "height": 105
    },
    "colab_type": "code",
    "executionInfo": {
     "elapsed": 3887,
     "status": "ok",
     "timestamp": 1584621375733,
     "user": {
      "displayName": "PyPower Projects",
      "photoUrl": "https://lh3.googleusercontent.com/a-/AOh14GjT0Y2aP1NhTWWW0VCGgy3-k663Vk9Y78aGv98t=s64",
      "userId": "01403907081476548056"
     },
     "user_tz": -330
    },
    "id": "6nK_Fqk-CuvH",
    "outputId": "40c03f74-b729-4f04-bd22-576396032081"
   },
   "outputs": [],
   "source": [
    "print(a,end=\"\\n\\n\")\n",
    "\n",
    "print(a.min()) #Minimum element of array \n",
    "print(a.max()) #Maximum element of array\n",
    "print(a.sum())"
   ]
  },
  {
   "cell_type": "markdown",
   "metadata": {
    "colab_type": "text",
    "id": "pSmVRydcDdbb"
   },
   "source": [
    "#### NOTE (AXIS) : \n",
    "#### axis=0 : Column\n",
    "####       axis=1 : Row"
   ]
  },
  {
   "cell_type": "code",
   "execution_count": null,
   "metadata": {
    "colab": {
     "base_uri": "https://localhost:8080/",
     "height": 122
    },
    "colab_type": "code",
    "executionInfo": {
     "elapsed": 3876,
     "status": "ok",
     "timestamp": 1584621375733,
     "user": {
      "displayName": "PyPower Projects",
      "photoUrl": "https://lh3.googleusercontent.com/a-/AOh14GjT0Y2aP1NhTWWW0VCGgy3-k663Vk9Y78aGv98t=s64",
      "userId": "01403907081476548056"
     },
     "user_tz": -330
    },
    "id": "3E-cyzt2CudA",
    "outputId": "d765d43c-135d-4cf1-f281-bc07094a9a9a"
   },
   "outputs": [],
   "source": [
    "a1 = np.array([[1,2,3,4,5],[6,7,8,9,10]])\n",
    "\n",
    "print(a1,end=\"\\n\\n\")\n",
    "print(a1.sum(axis=0)) #Returns SUM Column wise (1+6, 2+7, 3+8, 4+9, 5+10)\n",
    "print(a1.sum(axis=1)) #Returns SUM Row wise (1+2+3+4+5, 6+7+8+9+10)\n",
    "print(a1.sum())       #Total SUM"
   ]
  },
  {
   "cell_type": "markdown",
   "metadata": {
    "colab_type": "text",
    "id": "r3O-9OpKE4Hm"
   },
   "source": [
    "#### SORTING"
   ]
  },
  {
   "cell_type": "code",
   "execution_count": null,
   "metadata": {
    "colab": {
     "base_uri": "https://localhost:8080/",
     "height": 105
    },
    "colab_type": "code",
    "executionInfo": {
     "elapsed": 3864,
     "status": "ok",
     "timestamp": 1584621375734,
     "user": {
      "displayName": "PyPower Projects",
      "photoUrl": "https://lh3.googleusercontent.com/a-/AOh14GjT0Y2aP1NhTWWW0VCGgy3-k663Vk9Y78aGv98t=s64",
      "userId": "01403907081476548056"
     },
     "user_tz": -330
    },
    "id": "E_mu8rh5Ctyb",
    "outputId": "80898711-0ded-4913-b2dd-116ea7cc0852"
   },
   "outputs": [],
   "source": [
    "a = np.array([[1,21,13,7,88],[51,72,29,6,90]])\n",
    "print(a,end=\"\\n\\n\")\n",
    "\n",
    "a.sort(axis=0) #Column wise sorting \n",
    "print(a)"
   ]
  },
  {
   "cell_type": "code",
   "execution_count": null,
   "metadata": {
    "colab": {
     "base_uri": "https://localhost:8080/",
     "height": 105
    },
    "colab_type": "code",
    "executionInfo": {
     "elapsed": 3853,
     "status": "ok",
     "timestamp": 1584621375735,
     "user": {
      "displayName": "PyPower Projects",
      "photoUrl": "https://lh3.googleusercontent.com/a-/AOh14GjT0Y2aP1NhTWWW0VCGgy3-k663Vk9Y78aGv98t=s64",
      "userId": "01403907081476548056"
     },
     "user_tz": -330
    },
    "id": "j0jXcitcCtlD",
    "outputId": "d8707f7d-6496-490c-a91a-f532bc11b0ec"
   },
   "outputs": [],
   "source": [
    "a = np.array([[1,21,13,7,88],[51,72,29,6,90]])\n",
    "print(a,end=\"\\n\\n\")\n",
    "\n",
    "a.sort(axis=1) #Row wise sorting \n",
    "print(a)"
   ]
  },
  {
   "cell_type": "code",
   "execution_count": null,
   "metadata": {
    "colab": {
     "base_uri": "https://localhost:8080/",
     "height": 105
    },
    "colab_type": "code",
    "executionInfo": {
     "elapsed": 3841,
     "status": "ok",
     "timestamp": 1584621375736,
     "user": {
      "displayName": "PyPower Projects",
      "photoUrl": "https://lh3.googleusercontent.com/a-/AOh14GjT0Y2aP1NhTWWW0VCGgy3-k663Vk9Y78aGv98t=s64",
      "userId": "01403907081476548056"
     },
     "user_tz": -330
    },
    "id": "dJx0egfICuZS",
    "outputId": "cc011492-530a-4341-c8a8-f3c6cc8b4006"
   },
   "outputs": [],
   "source": [
    "a = np.array([[1,21,13,7,88],[51,72,29,6,90]])\n",
    "print(a,end=\"\\n\\n\")\n",
    "\n",
    "a.sort() #Sorts array. Doesn't returns sorted array.\n",
    "print(a)"
   ]
  },
  {
   "cell_type": "code",
   "execution_count": null,
   "metadata": {
    "colab": {
     "base_uri": "https://localhost:8080/",
     "height": 105
    },
    "colab_type": "code",
    "executionInfo": {
     "elapsed": 3825,
     "status": "ok",
     "timestamp": 1584621375737,
     "user": {
      "displayName": "PyPower Projects",
      "photoUrl": "https://lh3.googleusercontent.com/a-/AOh14GjT0Y2aP1NhTWWW0VCGgy3-k663Vk9Y78aGv98t=s64",
      "userId": "01403907081476548056"
     },
     "user_tz": -330
    },
    "id": "DzdPV8CsHi_m",
    "outputId": "659ecc7a-6458-46a7-d058-9816a7b314fe"
   },
   "outputs": [],
   "source": [
    "#MERGE SORT\n",
    "a = np.array([[1,21,13,7,88],[51,72,29,6,90]])\n",
    "print(a,end=\"\\n\\n\")\n",
    "\n",
    "a.sort(kind=\"mergesort\") #Merge Sort \n",
    "print(a)"
   ]
  },
  {
   "cell_type": "code",
   "execution_count": null,
   "metadata": {
    "colab": {
     "base_uri": "https://localhost:8080/",
     "height": 105
    },
    "colab_type": "code",
    "executionInfo": {
     "elapsed": 3809,
     "status": "ok",
     "timestamp": 1584621375737,
     "user": {
      "displayName": "PyPower Projects",
      "photoUrl": "https://lh3.googleusercontent.com/a-/AOh14GjT0Y2aP1NhTWWW0VCGgy3-k663Vk9Y78aGv98t=s64",
      "userId": "01403907081476548056"
     },
     "user_tz": -330
    },
    "id": "cTMiWPIvH7Y-",
    "outputId": "c5f8abbe-439a-42ab-a8d6-d9e208ec6b68"
   },
   "outputs": [],
   "source": [
    "#HEAP SORT\n",
    "a = np.array([[1,21,13,7,88],[51,72,29,6,90]])\n",
    "print(a,end=\"\\n\\n\")\n",
    "\n",
    "a.sort(kind=\"heapsort\") #heap Sort \n",
    "print(a)"
   ]
  },
  {
   "cell_type": "markdown",
   "metadata": {
    "colab_type": "text",
    "id": "cjbRDRRuHNtN"
   },
   "source": [
    "#### Statistics"
   ]
  },
  {
   "cell_type": "code",
   "execution_count": null,
   "metadata": {
    "colab": {},
    "colab_type": "code",
    "id": "8HhJuzYOCtVE"
   },
   "outputs": [],
   "source": [
    "a = np.array([1,2,3,4])"
   ]
  },
  {
   "cell_type": "code",
   "execution_count": null,
   "metadata": {
    "colab": {
     "base_uri": "https://localhost:8080/",
     "height": 34
    },
    "colab_type": "code",
    "executionInfo": {
     "elapsed": 3791,
     "status": "ok",
     "timestamp": 1584621375739,
     "user": {
      "displayName": "PyPower Projects",
      "photoUrl": "https://lh3.googleusercontent.com/a-/AOh14GjT0Y2aP1NhTWWW0VCGgy3-k663Vk9Y78aGv98t=s64",
      "userId": "01403907081476548056"
     },
     "user_tz": -330
    },
    "id": "68MdSV8AHYjF",
    "outputId": "4c42f885-9d7e-49da-e4b0-b0519e489a9e"
   },
   "outputs": [],
   "source": [
    "print(np.mean(a))   #Mean of data"
   ]
  },
  {
   "cell_type": "code",
   "execution_count": null,
   "metadata": {
    "colab": {
     "base_uri": "https://localhost:8080/",
     "height": 34
    },
    "colab_type": "code",
    "executionInfo": {
     "elapsed": 3775,
     "status": "ok",
     "timestamp": 1584621375739,
     "user": {
      "displayName": "PyPower Projects",
      "photoUrl": "https://lh3.googleusercontent.com/a-/AOh14GjT0Y2aP1NhTWWW0VCGgy3-k663Vk9Y78aGv98t=s64",
      "userId": "01403907081476548056"
     },
     "user_tz": -330
    },
    "id": "aL85l23uJ8Mo",
    "outputId": "ae4b8f96-5309-424a-8909-f52ecb1f5204"
   },
   "outputs": [],
   "source": [
    "print(np.median(a)) #Median of data"
   ]
  },
  {
   "cell_type": "code",
   "execution_count": null,
   "metadata": {
    "colab": {
     "base_uri": "https://localhost:8080/",
     "height": 34
    },
    "colab_type": "code",
    "executionInfo": {
     "elapsed": 3759,
     "status": "ok",
     "timestamp": 1584621375740,
     "user": {
      "displayName": "PyPower Projects",
      "photoUrl": "https://lh3.googleusercontent.com/a-/AOh14GjT0Y2aP1NhTWWW0VCGgy3-k663Vk9Y78aGv98t=s64",
      "userId": "01403907081476548056"
     },
     "user_tz": -330
    },
    "id": "d4-HutvnHYlu",
    "outputId": "3e1f18b5-b665-47af-d253-0ddb96e91836"
   },
   "outputs": [],
   "source": [
    "print(np.std(a))    #Standard Deviation"
   ]
  },
  {
   "cell_type": "code",
   "execution_count": null,
   "metadata": {
    "colab": {
     "base_uri": "https://localhost:8080/",
     "height": 34
    },
    "colab_type": "code",
    "executionInfo": {
     "elapsed": 3744,
     "status": "ok",
     "timestamp": 1584621375741,
     "user": {
      "displayName": "PyPower Projects",
      "photoUrl": "https://lh3.googleusercontent.com/a-/AOh14GjT0Y2aP1NhTWWW0VCGgy3-k663Vk9Y78aGv98t=s64",
      "userId": "01403907081476548056"
     },
     "user_tz": -330
    },
    "id": "-eogPDTUHYyp",
    "outputId": "84b57932-e1a3-42f9-d91a-f61accdf48e2"
   },
   "outputs": [],
   "source": [
    "print(np.log(a))    #natural log (base e)"
   ]
  },
  {
   "cell_type": "code",
   "execution_count": null,
   "metadata": {
    "colab": {
     "base_uri": "https://localhost:8080/",
     "height": 34
    },
    "colab_type": "code",
    "executionInfo": {
     "elapsed": 3725,
     "status": "ok",
     "timestamp": 1584621375742,
     "user": {
      "displayName": "PyPower Projects",
      "photoUrl": "https://lh3.googleusercontent.com/a-/AOh14GjT0Y2aP1NhTWWW0VCGgy3-k663Vk9Y78aGv98t=s64",
      "userId": "01403907081476548056"
     },
     "user_tz": -330
    },
    "id": "oQuTbJyzHYql",
    "outputId": "f237b7bc-ad06-4724-8139-9f1d09759b9d"
   },
   "outputs": [],
   "source": [
    "print(np.log10(a))  #log base 10"
   ]
  },
  {
   "cell_type": "markdown",
   "metadata": {
    "colab_type": "text",
    "id": "ljIN5HD1LHj8"
   },
   "source": [
    "## 5) Shape and Reshape"
   ]
  },
  {
   "cell_type": "markdown",
   "metadata": {
    "colab_type": "text",
    "id": "m2U_ELppMgto"
   },
   "source": [
    "##### This function is very much useful in components like machcine learning, image processing and deep learning."
   ]
  },
  {
   "cell_type": "markdown",
   "metadata": {
    "colab_type": "text",
    "id": "030Xhb67Mpjr"
   },
   "source": [
    "##### You can know shape and reshape it as per requirements"
   ]
  },
  {
   "cell_type": "code",
   "execution_count": null,
   "metadata": {
    "colab": {
     "base_uri": "https://localhost:8080/",
     "height": 52
    },
    "colab_type": "code",
    "executionInfo": {
     "elapsed": 3708,
     "status": "ok",
     "timestamp": 1584621375742,
     "user": {
      "displayName": "PyPower Projects",
      "photoUrl": "https://lh3.googleusercontent.com/a-/AOh14GjT0Y2aP1NhTWWW0VCGgy3-k663Vk9Y78aGv98t=s64",
      "userId": "01403907081476548056"
     },
     "user_tz": -330
    },
    "id": "r5PO-Gj-LJae",
    "outputId": "8cd4bf37-c6b6-4212-9984-6451f54840d0"
   },
   "outputs": [],
   "source": [
    "a = np.array([[1,2,3,4],[5,6,7,8]])\n",
    "print(a)\n"
   ]
  },
  {
   "cell_type": "code",
   "execution_count": null,
   "metadata": {
    "colab": {
     "base_uri": "https://localhost:8080/",
     "height": 34
    },
    "colab_type": "code",
    "executionInfo": {
     "elapsed": 3689,
     "status": "ok",
     "timestamp": 1584621375743,
     "user": {
      "displayName": "PyPower Projects",
      "photoUrl": "https://lh3.googleusercontent.com/a-/AOh14GjT0Y2aP1NhTWWW0VCGgy3-k663Vk9Y78aGv98t=s64",
      "userId": "01403907081476548056"
     },
     "user_tz": -330
    },
    "id": "B_hm5ke_LJWy",
    "outputId": "f5af9170-a314-4307-87a5-f621f0e72a0f"
   },
   "outputs": [],
   "source": [
    "a.shape    #(row,column)"
   ]
  },
  {
   "cell_type": "code",
   "execution_count": null,
   "metadata": {
    "colab": {
     "base_uri": "https://localhost:8080/",
     "height": 87
    },
    "colab_type": "code",
    "executionInfo": {
     "elapsed": 3674,
     "status": "ok",
     "timestamp": 1584621375743,
     "user": {
      "displayName": "PyPower Projects",
      "photoUrl": "https://lh3.googleusercontent.com/a-/AOh14GjT0Y2aP1NhTWWW0VCGgy3-k663Vk9Y78aGv98t=s64",
      "userId": "01403907081476548056"
     },
     "user_tz": -330
    },
    "id": "GZa8BFEGNEju",
    "outputId": "a330735a-9d25-4db4-ed49-ab9e86781706"
   },
   "outputs": [],
   "source": [
    "b = a.reshape(4,2)\n",
    "print(b)   #Reshaped to 4 Row, 2 column"
   ]
  },
  {
   "cell_type": "code",
   "execution_count": null,
   "metadata": {
    "colab": {
     "base_uri": "https://localhost:8080/",
     "height": 52
    },
    "colab_type": "code",
    "executionInfo": {
     "elapsed": 3658,
     "status": "ok",
     "timestamp": 1584621375744,
     "user": {
      "displayName": "PyPower Projects",
      "photoUrl": "https://lh3.googleusercontent.com/a-/AOh14GjT0Y2aP1NhTWWW0VCGgy3-k663Vk9Y78aGv98t=s64",
      "userId": "01403907081476548056"
     },
     "user_tz": -330
    },
    "id": "N-qu4aF6NEfs",
    "outputId": "911ea9be-bc0c-450c-b538-4eabf904e62b"
   },
   "outputs": [],
   "source": [
    "print(a.shape)\n",
    "print(b.shape)"
   ]
  },
  {
   "cell_type": "code",
   "execution_count": null,
   "metadata": {
    "colab": {
     "base_uri": "https://localhost:8080/",
     "height": 157
    },
    "colab_type": "code",
    "executionInfo": {
     "elapsed": 3643,
     "status": "ok",
     "timestamp": 1584621375745,
     "user": {
      "displayName": "PyPower Projects",
      "photoUrl": "https://lh3.googleusercontent.com/a-/AOh14GjT0Y2aP1NhTWWW0VCGgy3-k663Vk9Y78aGv98t=s64",
      "userId": "01403907081476548056"
     },
     "user_tz": -330
    },
    "id": "L-oXmsZiNEcL",
    "outputId": "004b1550-47b0-4933-ccc1-5d6365bef530"
   },
   "outputs": [],
   "source": [
    "b = a.reshape(8,1)\n",
    "print(b)   #Reshaped to 8 Row, 1 column"
   ]
  },
  {
   "cell_type": "code",
   "execution_count": null,
   "metadata": {
    "colab": {
     "base_uri": "https://localhost:8080/",
     "height": 34
    },
    "colab_type": "code",
    "executionInfo": {
     "elapsed": 3626,
     "status": "ok",
     "timestamp": 1584621375745,
     "user": {
      "displayName": "PyPower Projects",
      "photoUrl": "https://lh3.googleusercontent.com/a-/AOh14GjT0Y2aP1NhTWWW0VCGgy3-k663Vk9Y78aGv98t=s64",
      "userId": "01403907081476548056"
     },
     "user_tz": -330
    },
    "id": "-3XFC3IVLIhs",
    "outputId": "8704f469-5be8-4ba2-f28f-9fe2c44aded9"
   },
   "outputs": [],
   "source": [
    "b = a.reshape(1,8)\n",
    "print(b)   #Reshaped to 1 Row, 8 column"
   ]
  },
  {
   "cell_type": "code",
   "execution_count": null,
   "metadata": {
    "colab": {
     "base_uri": "https://localhost:8080/",
     "height": 52
    },
    "colab_type": "code",
    "executionInfo": {
     "elapsed": 3612,
     "status": "ok",
     "timestamp": 1584621375746,
     "user": {
      "displayName": "PyPower Projects",
      "photoUrl": "https://lh3.googleusercontent.com/a-/AOh14GjT0Y2aP1NhTWWW0VCGgy3-k663Vk9Y78aGv98t=s64",
      "userId": "01403907081476548056"
     },
     "user_tz": -330
    },
    "id": "23zEG8q5RZ12",
    "outputId": "329670e8-847b-4d3e-fe33-e5429066fbfe"
   },
   "outputs": [],
   "source": [
    "print(a)"
   ]
  },
  {
   "cell_type": "code",
   "execution_count": null,
   "metadata": {
    "colab": {
     "base_uri": "https://localhost:8080/",
     "height": 34
    },
    "colab_type": "code",
    "executionInfo": {
     "elapsed": 3596,
     "status": "ok",
     "timestamp": 1584621375747,
     "user": {
      "displayName": "PyPower Projects",
      "photoUrl": "https://lh3.googleusercontent.com/a-/AOh14GjT0Y2aP1NhTWWW0VCGgy3-k663Vk9Y78aGv98t=s64",
      "userId": "01403907081476548056"
     },
     "user_tz": -330
    },
    "id": "3YgRKT33RAiL",
    "outputId": "04173a8f-9d2d-489f-f485-ca23ed7e5681"
   },
   "outputs": [],
   "source": [
    "b = a.flatten()    #Convert into 1D Array (By Default:Row Major)\n",
    "print(b)"
   ]
  },
  {
   "cell_type": "code",
   "execution_count": null,
   "metadata": {
    "colab": {
     "base_uri": "https://localhost:8080/",
     "height": 34
    },
    "colab_type": "code",
    "executionInfo": {
     "elapsed": 3580,
     "status": "ok",
     "timestamp": 1584621375747,
     "user": {
      "displayName": "PyPower Projects",
      "photoUrl": "https://lh3.googleusercontent.com/a-/AOh14GjT0Y2aP1NhTWWW0VCGgy3-k663Vk9Y78aGv98t=s64",
      "userId": "01403907081476548056"
     },
     "user_tz": -330
    },
    "id": "ShDfsu1uReJB",
    "outputId": "96cfc334-35b6-4e19-b0c0-c63e03c89137"
   },
   "outputs": [],
   "source": [
    "b = a.flatten('F')    #Convert into 1D Array (Column Major)\n",
    "print(b)"
   ]
  },
  {
   "cell_type": "markdown",
   "metadata": {
    "colab_type": "text",
    "id": "B8QwguTGOea4"
   },
   "source": [
    "## 6) Indexing and Slicing"
   ]
  },
  {
   "cell_type": "code",
   "execution_count": null,
   "metadata": {
    "colab": {
     "base_uri": "https://localhost:8080/",
     "height": 34
    },
    "colab_type": "code",
    "executionInfo": {
     "elapsed": 3567,
     "status": "ok",
     "timestamp": 1584621375748,
     "user": {
      "displayName": "PyPower Projects",
      "photoUrl": "https://lh3.googleusercontent.com/a-/AOh14GjT0Y2aP1NhTWWW0VCGgy3-k663Vk9Y78aGv98t=s64",
      "userId": "01403907081476548056"
     },
     "user_tz": -330
    },
    "id": "Jtu-CBA6Ol7F",
    "outputId": "e9439589-a16e-4530-8dc4-68d6c624854e"
   },
   "outputs": [],
   "source": [
    "a = np.arange(1,11)   #Creates array from 1,10 with inverval=1\n",
    "print(a)"
   ]
  },
  {
   "cell_type": "code",
   "execution_count": null,
   "metadata": {
    "colab": {
     "base_uri": "https://localhost:8080/",
     "height": 34
    },
    "colab_type": "code",
    "executionInfo": {
     "elapsed": 3548,
     "status": "ok",
     "timestamp": 1584621375749,
     "user": {
      "displayName": "PyPower Projects",
      "photoUrl": "https://lh3.googleusercontent.com/a-/AOh14GjT0Y2aP1NhTWWW0VCGgy3-k663Vk9Y78aGv98t=s64",
      "userId": "01403907081476548056"
     },
     "user_tz": -330
    },
    "id": "dKVT0h9uOl4r",
    "outputId": "59d59f21-ed06-4d04-c73f-6d22d9060cb4"
   },
   "outputs": [],
   "source": [
    "b = a[1:5]    #a[start : end : interval] (from 1 to end-1)\n",
    "print(b)"
   ]
  },
  {
   "cell_type": "code",
   "execution_count": null,
   "metadata": {
    "colab": {
     "base_uri": "https://localhost:8080/",
     "height": 34
    },
    "colab_type": "code",
    "executionInfo": {
     "elapsed": 3531,
     "status": "ok",
     "timestamp": 1584621375750,
     "user": {
      "displayName": "PyPower Projects",
      "photoUrl": "https://lh3.googleusercontent.com/a-/AOh14GjT0Y2aP1NhTWWW0VCGgy3-k663Vk9Y78aGv98t=s64",
      "userId": "01403907081476548056"
     },
     "user_tz": -330
    },
    "id": "JNuCJEByOl0R",
    "outputId": "c676c7a1-4400-4b0f-8919-bba1a8ad9421"
   },
   "outputs": [],
   "source": [
    "b = a[0::2]    #a[start : end : interval] (from 1 to end-1)\n",
    "print(b)       #Interval = 2"
   ]
  },
  {
   "cell_type": "code",
   "execution_count": null,
   "metadata": {
    "colab": {
     "base_uri": "https://localhost:8080/",
     "height": 34
    },
    "colab_type": "code",
    "executionInfo": {
     "elapsed": 3469,
     "status": "ok",
     "timestamp": 1584621375750,
     "user": {
      "displayName": "PyPower Projects",
      "photoUrl": "https://lh3.googleusercontent.com/a-/AOh14GjT0Y2aP1NhTWWW0VCGgy3-k663Vk9Y78aGv98t=s64",
      "userId": "01403907081476548056"
     },
     "user_tz": -330
    },
    "id": "Hl5awSUNOluq",
    "outputId": "306396f9-09e3-4841-917e-ed6c621c1314"
   },
   "outputs": [],
   "source": [
    "b = a[3:9:3]    #a[start : end : interval] (from 1 to end-1)\n",
    "print(b)        #Interval = 2"
   ]
  },
  {
   "cell_type": "code",
   "execution_count": null,
   "metadata": {
    "colab": {
     "base_uri": "https://localhost:8080/",
     "height": 52
    },
    "colab_type": "code",
    "executionInfo": {
     "elapsed": 3440,
     "status": "ok",
     "timestamp": 1584621375751,
     "user": {
      "displayName": "PyPower Projects",
      "photoUrl": "https://lh3.googleusercontent.com/a-/AOh14GjT0Y2aP1NhTWWW0VCGgy3-k663Vk9Y78aGv98t=s64",
      "userId": "01403907081476548056"
     },
     "user_tz": -330
    },
    "id": "4EIuaCSuOlqJ",
    "outputId": "5254965d-2462-4777-f8b9-4ba3a2a67deb"
   },
   "outputs": [],
   "source": [
    "a1 = a[::2]       #Initialization using SLICING\n",
    "print(a1)\n",
    "\n",
    "a1 = a[1::2]       #EVEN Numbers\n",
    "print(a1)"
   ]
  },
  {
   "cell_type": "code",
   "execution_count": null,
   "metadata": {
    "colab": {
     "base_uri": "https://localhost:8080/",
     "height": 52
    },
    "colab_type": "code",
    "executionInfo": {
     "elapsed": 3427,
     "status": "ok",
     "timestamp": 1584621375752,
     "user": {
      "displayName": "PyPower Projects",
      "photoUrl": "https://lh3.googleusercontent.com/a-/AOh14GjT0Y2aP1NhTWWW0VCGgy3-k663Vk9Y78aGv98t=s64",
      "userId": "01403907081476548056"
     },
     "user_tz": -330
    },
    "id": "W28o8RGMOllE",
    "outputId": "5dc85ae7-533c-4400-fb30-43fe1c987903"
   },
   "outputs": [],
   "source": [
    "b = a[0:5]        #Slicing only returns a part of original array but doesnt returns new array object.\n",
    "b[1] = 100        #So any change in b will also make change in a.\n",
    "print(b)\n",
    "print(a)"
   ]
  },
  {
   "cell_type": "code",
   "execution_count": null,
   "metadata": {
    "colab": {
     "base_uri": "https://localhost:8080/",
     "height": 52
    },
    "colab_type": "code",
    "executionInfo": {
     "elapsed": 3418,
     "status": "ok",
     "timestamp": 1584621375752,
     "user": {
      "displayName": "PyPower Projects",
      "photoUrl": "https://lh3.googleusercontent.com/a-/AOh14GjT0Y2aP1NhTWWW0VCGgy3-k663Vk9Y78aGv98t=s64",
      "userId": "01403907081476548056"
     },
     "user_tz": -330
    },
    "id": "QNkPkCmzOle7",
    "outputId": "24780479-9c02-493b-b7c4-519c430fac76"
   },
   "outputs": [],
   "source": [
    "#COPY method in numpy\n",
    "b = a[0:5].copy()       #copy will return new array object.\n",
    "b[1] = 50              #So any change in b will not affect a.\n",
    "print(b)\n",
    "print(a)"
   ]
  },
  {
   "cell_type": "markdown",
   "metadata": {
    "colab_type": "text",
    "id": "ADKtkMhLrODa"
   },
   "source": [
    "## 7) Initializing Arrays with Different Methods"
   ]
  },
  {
   "cell_type": "code",
   "execution_count": null,
   "metadata": {
    "colab": {
     "base_uri": "https://localhost:8080/",
     "height": 52
    },
    "colab_type": "code",
    "executionInfo": {
     "elapsed": 3406,
     "status": "ok",
     "timestamp": 1584621375753,
     "user": {
      "displayName": "PyPower Projects",
      "photoUrl": "https://lh3.googleusercontent.com/a-/AOh14GjT0Y2aP1NhTWWW0VCGgy3-k663Vk9Y78aGv98t=s64",
      "userId": "01403907081476548056"
     },
     "user_tz": -330
    },
    "id": "Jpe5JyJLXCao",
    "outputId": "c9c44173-d253-49b8-e95d-65efbad5d1ea"
   },
   "outputs": [],
   "source": [
    "#Array elements at given interval\n",
    "print(np.arange(1,7,3))\n",
    "print(np.arange(3,31,3))    #Table of 3"
   ]
  },
  {
   "cell_type": "code",
   "execution_count": null,
   "metadata": {
    "colab": {
     "base_uri": "https://localhost:8080/",
     "height": 52
    },
    "colab_type": "code",
    "executionInfo": {
     "elapsed": 5072,
     "status": "ok",
     "timestamp": 1584621377438,
     "user": {
      "displayName": "PyPower Projects",
      "photoUrl": "https://lh3.googleusercontent.com/a-/AOh14GjT0Y2aP1NhTWWW0VCGgy3-k663Vk9Y78aGv98t=s64",
      "userId": "01403907081476548056"
     },
     "user_tz": -330
    },
    "id": "8NCorTAFrODj",
    "outputId": "5c8f8551-a5fc-45a2-81a4-d4fb36bfb46d"
   },
   "outputs": [],
   "source": [
    "# All 0s matrix\n",
    "np.zeros((2,3))     #Default dtype is float"
   ]
  },
  {
   "cell_type": "code",
   "execution_count": null,
   "metadata": {
    "colab": {
     "base_uri": "https://localhost:8080/",
     "height": 157
    },
    "colab_type": "code",
    "executionInfo": {
     "elapsed": 5055,
     "status": "ok",
     "timestamp": 1584621377439,
     "user": {
      "displayName": "PyPower Projects",
      "photoUrl": "https://lh3.googleusercontent.com/a-/AOh14GjT0Y2aP1NhTWWW0VCGgy3-k663Vk9Y78aGv98t=s64",
      "userId": "01403907081476548056"
     },
     "user_tz": -330
    },
    "id": "ocMxMT9LrODr",
    "outputId": "3a7a0d39-6b5f-423a-e57e-1c8f273aa86f"
   },
   "outputs": [],
   "source": [
    "# All 1s matrix\n",
    "np.ones((3,2,2), dtype=int)  #3 Frames, 2 rows, 2 columns"
   ]
  },
  {
   "cell_type": "code",
   "execution_count": null,
   "metadata": {
    "colab": {
     "base_uri": "https://localhost:8080/",
     "height": 52
    },
    "colab_type": "code",
    "executionInfo": {
     "elapsed": 5039,
     "status": "ok",
     "timestamp": 1584621377441,
     "user": {
      "displayName": "PyPower Projects",
      "photoUrl": "https://lh3.googleusercontent.com/a-/AOh14GjT0Y2aP1NhTWWW0VCGgy3-k663Vk9Y78aGv98t=s64",
      "userId": "01403907081476548056"
     },
     "user_tz": -330
    },
    "id": "rESvK53xrODx",
    "outputId": "7786d291-7219-4467-a7df-958ee9e38740"
   },
   "outputs": [],
   "source": [
    "# Complete Array of same number\n",
    "np.full((2,3),6.67)"
   ]
  },
  {
   "cell_type": "code",
   "execution_count": null,
   "metadata": {
    "colab": {
     "base_uri": "https://localhost:8080/",
     "height": 140
    },
    "colab_type": "code",
    "executionInfo": {
     "elapsed": 5025,
     "status": "ok",
     "timestamp": 1584621377443,
     "user": {
      "displayName": "PyPower Projects",
      "photoUrl": "https://lh3.googleusercontent.com/a-/AOh14GjT0Y2aP1NhTWWW0VCGgy3-k663Vk9Y78aGv98t=s64",
      "userId": "01403907081476548056"
     },
     "user_tz": -330
    },
    "id": "kuqQtl8TrOD6",
    "outputId": "64d55850-2909-4776-bb08-28147ee4da23"
   },
   "outputs": [],
   "source": [
    "# Any other number (full_like)\n",
    "a = np.array([[1,2],[3,4],[5,6]])\n",
    "print(a,end=\"\\n\\n\")\n",
    "np.full_like(a, 4)   #All elements of array are replaces with 4"
   ]
  },
  {
   "cell_type": "code",
   "execution_count": null,
   "metadata": {
    "colab": {
     "base_uri": "https://localhost:8080/",
     "height": 87
    },
    "colab_type": "code",
    "executionInfo": {
     "elapsed": 4941,
     "status": "ok",
     "timestamp": 1584621377444,
     "user": {
      "displayName": "PyPower Projects",
      "photoUrl": "https://lh3.googleusercontent.com/a-/AOh14GjT0Y2aP1NhTWWW0VCGgy3-k663Vk9Y78aGv98t=s64",
      "userId": "01403907081476548056"
     },
     "user_tz": -330
    },
    "id": "ZrM0jNKzrOD_",
    "outputId": "a78b6eb6-303c-4fb5-c3f2-9a381d16ba69"
   },
   "outputs": [],
   "source": [
    "# Random decimal numbers\n",
    "np.random.rand(4,2)"
   ]
  },
  {
   "cell_type": "code",
   "execution_count": null,
   "metadata": {
    "colab": {
     "base_uri": "https://localhost:8080/",
     "height": 70
    },
    "colab_type": "code",
    "executionInfo": {
     "elapsed": 4922,
     "status": "ok",
     "timestamp": 1584621377445,
     "user": {
      "displayName": "PyPower Projects",
      "photoUrl": "https://lh3.googleusercontent.com/a-/AOh14GjT0Y2aP1NhTWWW0VCGgy3-k663Vk9Y78aGv98t=s64",
      "userId": "01403907081476548056"
     },
     "user_tz": -330
    },
    "id": "oVbqEV5yrOEF",
    "outputId": "db8d38d1-e9ce-4bd5-fa11-25bb0b4c91c9"
   },
   "outputs": [],
   "source": [
    "# Random Integer values\n",
    "np.random.randint(1,11, size=(3,3))   #3x3 matrix of integers ranging 1 to 10"
   ]
  },
  {
   "cell_type": "code",
   "execution_count": null,
   "metadata": {
    "colab": {
     "base_uri": "https://localhost:8080/",
     "height": 105
    },
    "colab_type": "code",
    "executionInfo": {
     "elapsed": 4909,
     "status": "ok",
     "timestamp": 1584621377446,
     "user": {
      "displayName": "PyPower Projects",
      "photoUrl": "https://lh3.googleusercontent.com/a-/AOh14GjT0Y2aP1NhTWWW0VCGgy3-k663Vk9Y78aGv98t=s64",
      "userId": "01403907081476548056"
     },
     "user_tz": -330
    },
    "id": "5BbKKac9rOEL",
    "outputId": "78ad8c38-1055-494c-d000-eee26912f29e"
   },
   "outputs": [],
   "source": [
    "# The identity matrix\n",
    "np.identity(5,dtype=int)"
   ]
  },
  {
   "cell_type": "code",
   "execution_count": null,
   "metadata": {
    "colab": {
     "base_uri": "https://localhost:8080/",
     "height": 70
    },
    "colab_type": "code",
    "executionInfo": {
     "elapsed": 4895,
     "status": "ok",
     "timestamp": 1584621377447,
     "user": {
      "displayName": "PyPower Projects",
      "photoUrl": "https://lh3.googleusercontent.com/a-/AOh14GjT0Y2aP1NhTWWW0VCGgy3-k663Vk9Y78aGv98t=s64",
      "userId": "01403907081476548056"
     },
     "user_tz": -330
    },
    "id": "OK7kZEkYrOER",
    "outputId": "ef7b39fe-6b6e-48b6-f204-3bd2d82b8dd1"
   },
   "outputs": [],
   "source": [
    "# Repeat an array\n",
    "arr = np.array([[1,2,3]])\n",
    "r1 = np.repeat(arr,3, axis=0)\n",
    "print(r1)"
   ]
  },
  {
   "cell_type": "code",
   "execution_count": null,
   "metadata": {
    "colab": {
     "base_uri": "https://localhost:8080/",
     "height": 34
    },
    "colab_type": "code",
    "executionInfo": {
     "elapsed": 4879,
     "status": "ok",
     "timestamp": 1584621377448,
     "user": {
      "displayName": "PyPower Projects",
      "photoUrl": "https://lh3.googleusercontent.com/a-/AOh14GjT0Y2aP1NhTWWW0VCGgy3-k663Vk9Y78aGv98t=s64",
      "userId": "01403907081476548056"
     },
     "user_tz": -330
    },
    "id": "qJoZexqrXdq7",
    "outputId": "efa2c517-dce1-4461-860f-1bd4b153d7d4"
   },
   "outputs": [],
   "source": [
    "#Array with equal interval\n",
    "np.linspace(0,5,11)     #Returns array with 11 elements ranging 0 to 5 with equal interval"
   ]
  },
  {
   "cell_type": "code",
   "execution_count": null,
   "metadata": {
    "colab": {
     "base_uri": "https://localhost:8080/",
     "height": 245
    },
    "colab_type": "code",
    "executionInfo": {
     "elapsed": 4875,
     "status": "ok",
     "timestamp": 1584621377449,
     "user": {
      "displayName": "PyPower Projects",
      "photoUrl": "https://lh3.googleusercontent.com/a-/AOh14GjT0Y2aP1NhTWWW0VCGgy3-k663Vk9Y78aGv98t=s64",
      "userId": "01403907081476548056"
     },
     "user_tz": -330
    },
    "id": "DJUMCSdQrOEX",
    "outputId": "17b483b3-d179-4243-f12d-0113eca0c75a"
   },
   "outputs": [],
   "source": [
    "output = np.ones((5,5))\n",
    "print(output)\n",
    "\n",
    "z = np.zeros((3,3))\n",
    "z[1,1] = 9\n",
    "print(z)\n",
    "\n",
    "output[1:-1,1:-1] = z\n",
    "print(output)\n",
    "\n",
    "#Think output\n",
    "#Try it youself"
   ]
  },
  {
   "cell_type": "markdown",
   "metadata": {
    "colab_type": "text",
    "id": "qLg8BPgYY69p"
   },
   "source": [
    "## 8) Miscellaneous\n",
    "##### Numpy and matplotlib"
   ]
  },
  {
   "cell_type": "code",
   "execution_count": null,
   "metadata": {
    "colab": {
     "base_uri": "https://localhost:8080/",
     "height": 265
    },
    "colab_type": "code",
    "executionInfo": {
     "elapsed": 4856,
     "status": "ok",
     "timestamp": 1584621377450,
     "user": {
      "displayName": "PyPower Projects",
      "photoUrl": "https://lh3.googleusercontent.com/a-/AOh14GjT0Y2aP1NhTWWW0VCGgy3-k663Vk9Y78aGv98t=s64",
      "userId": "01403907081476548056"
     },
     "user_tz": -330
    },
    "id": "_dv-qG1WY69q",
    "outputId": "96e7cb07-f299-416c-a7ee-017a1b95f857"
   },
   "outputs": [],
   "source": [
    "import matplotlib.pyplot as plt\n",
    "import numpy as np\n",
    "\n",
    "x = np.arange(0,4*np.pi,0.1)\n",
    "y = np.sin(x)\n",
    "\n",
    "plt.plot(x,y,'g-',linewidth=3)      #graph of sin\n",
    "plt.show()\n"
   ]
  },
  {
   "cell_type": "code",
   "execution_count": null,
   "metadata": {
    "colab": {
     "base_uri": "https://localhost:8080/",
     "height": 265
    },
    "colab_type": "code",
    "executionInfo": {
     "elapsed": 4842,
     "status": "ok",
     "timestamp": 1584621377451,
     "user": {
      "displayName": "PyPower Projects",
      "photoUrl": "https://lh3.googleusercontent.com/a-/AOh14GjT0Y2aP1NhTWWW0VCGgy3-k663Vk9Y78aGv98t=s64",
      "userId": "01403907081476548056"
     },
     "user_tz": -330
    },
    "id": "fHgMckW2Zcy3",
    "outputId": "b9c3b568-bef3-4f6e-c9fb-bdbf595e0881"
   },
   "outputs": [],
   "source": [
    "import matplotlib.pyplot as plt\n",
    "import numpy as np\n",
    "\n",
    "x = np.arange(0,2*np.pi,0.1)\n",
    "y = np.tan(x)\n",
    "\n",
    "plt.plot(x,y,'r-')    #graph of tan\n",
    "plt.show()"
   ]
  }
 ],
 "metadata": {
  "colab": {
   "collapsed_sections": [],
   "name": "PyPower-NumPy Tutorial_1.ipynb",
   "provenance": []
  },
  "kernelspec": {
   "display_name": "Python 3",
   "language": "python",
   "name": "python3"
  },
  "language_info": {
   "codemirror_mode": {
    "name": "ipython",
    "version": 3
   },
   "file_extension": ".py",
   "mimetype": "text/x-python",
   "name": "python",
   "nbconvert_exporter": "python",
   "pygments_lexer": "ipython3",
   "version": "3.8.5"
  }
 },
 "nbformat": 4,
 "nbformat_minor": 1
}
