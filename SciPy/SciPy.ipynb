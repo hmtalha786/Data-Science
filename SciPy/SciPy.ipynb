{
 "cells": [
  {
   "cell_type": "markdown",
   "metadata": {
    "colab_type": "text",
    "id": "bPCajDS6opzk"
   },
   "source": [
    "# SciPy Tutorial"
   ]
  },
  {
   "cell_type": "markdown",
   "metadata": {
    "colab_type": "text",
    "id": "Nt-q9V5MosfC"
   },
   "source": [
    "## Scipy Intoduction\n",
    "\n",
    "SciPy ( Scientific Python ) is a collection of mathematical algorithms and convenience functions built on the Numpy extension of Python. It with high-level commands and classes for manipulating and visualizing data. \n",
    "\n",
    "The additional benefit of basing SciPy on Python is that this also makes a powerful programming language available for use in developing sophisticated programs and specialized applications. \n",
    "\n",
    "Let's start with the contents of tutorial."
   ]
  },
  {
   "cell_type": "markdown",
   "metadata": {
    "colab_type": "text",
    "id": "4PlaTlY4pNSr"
   },
   "source": [
    "## Contents Covered :\n",
    "\n",
    "#### 1) Basic -  Polynomial\n",
    "#### 2) Special Funtion \n",
    "#### 3) Integration\n",
    "#### 4) Linear Algebra \n",
    "#### 5) Fourier Transformation\n",
    "#### 6) Interpolation \n",
    "#### 7) Statistics\n",
    "#### 8) Miscellaneous "
   ]
  },
  {
   "cell_type": "markdown",
   "metadata": {
    "colab_type": "text",
    "id": "HfgrlCWaqEs_"
   },
   "source": [
    "## 1) Basic - Polynomial"
   ]
  },
  {
   "cell_type": "code",
   "execution_count": null,
   "metadata": {
    "colab": {
     "base_uri": "https://localhost:8080/",
     "height": 52
    },
    "colab_type": "code",
    "id": "siEfISeAbCNT",
    "outputId": "2d68a2f8-68c1-406b-f725-a1f8dba57773"
   },
   "outputs": [],
   "source": [
    "from numpy import poly1d\n",
    "p = poly1d([3,6,8])\n",
    "print(p)"
   ]
  },
  {
   "cell_type": "code",
   "execution_count": null,
   "metadata": {
    "colab": {
     "base_uri": "https://localhost:8080/",
     "height": 52
    },
    "colab_type": "code",
    "id": "_UZHr4b8bCNo",
    "outputId": "87af4728-561e-4291-ed71-a81b4eff960b"
   },
   "outputs": [],
   "source": [
    "print(p*p)  #(3x^2 + 4^x + 5)^2"
   ]
  },
  {
   "cell_type": "code",
   "execution_count": null,
   "metadata": {
    "colab": {
     "base_uri": "https://localhost:8080/",
     "height": 87
    },
    "colab_type": "code",
    "id": "Y3rr1SZ4bCOE",
    "outputId": "b8ec8d12-9af9-4dbd-faba-c03c03221424"
   },
   "outputs": [],
   "source": [
    "print(p)\n",
    "print(\" p(2) = \",p(2))\n",
    "print(\" p(2) and p(3) = \",p([2,3]))"
   ]
  },
  {
   "cell_type": "code",
   "execution_count": null,
   "metadata": {
    "colab": {
     "base_uri": "https://localhost:8080/",
     "height": 35
    },
    "colab_type": "code",
    "id": "K-STCxXFcAtE",
    "outputId": "cedde40b-6fa6-4551-d8a5-2fd83936f56f"
   },
   "outputs": [],
   "source": [
    "#Roots of p\n",
    "p.r"
   ]
  },
  {
   "cell_type": "code",
   "execution_count": null,
   "metadata": {
    "colab": {
     "base_uri": "https://localhost:8080/",
     "height": 35
    },
    "colab_type": "code",
    "id": "cxMSBLaVcAtP",
    "outputId": "61ee3290-ae83-4fbc-df05-373f4da1285b"
   },
   "outputs": [],
   "source": [
    "#coefficients of p\n",
    "p "
   ]
  },
  {
   "cell_type": "code",
   "execution_count": null,
   "metadata": {
    "colab": {
     "base_uri": "https://localhost:8080/",
     "height": 104
    },
    "colab_type": "code",
    "id": "ZTUT0iHCcAtW",
    "outputId": "73bc0b66-3d72-488a-95da-a6bcd26b6f3c"
   },
   "outputs": [],
   "source": [
    "print(p)\n",
    "p1 = poly1d([1,2,3],variable='y') #equation with variable as y\n",
    "print()\n",
    "print(p1)"
   ]
  },
  {
   "cell_type": "code",
   "execution_count": null,
   "metadata": {
    "colab": {
     "base_uri": "https://localhost:8080/",
     "height": 52
    },
    "colab_type": "code",
    "id": "nq2l5F29bCNy",
    "outputId": "a1341ca8-1fd6-48b7-b913-b52968f45fc0"
   },
   "outputs": [],
   "source": [
    "#Integration of a Polynomial\n",
    "\n",
    "print(p.integ(k=6)) #k = indefinite integration constant"
   ]
  },
  {
   "cell_type": "code",
   "execution_count": null,
   "metadata": {
    "colab": {
     "base_uri": "https://localhost:8080/",
     "height": 52
    },
    "colab_type": "code",
    "id": "etrJF9oXbCN8",
    "outputId": "bad5064c-f2a3-41a2-a6ab-2ace14c29d89"
   },
   "outputs": [],
   "source": [
    "# Differentiation of a Polynomial\n",
    "\n",
    "print(p.deriv())"
   ]
  },
  {
   "cell_type": "markdown",
   "metadata": {
    "colab_type": "text",
    "id": "fYkXtvnncmrK"
   },
   "source": [
    "## 2) Special Function (import scipy.special)"
   ]
  },
  {
   "cell_type": "code",
   "execution_count": null,
   "metadata": {
    "colab": {},
    "colab_type": "code",
    "id": "04i0M9kIqZ_a"
   },
   "outputs": [],
   "source": [
    "import scipy.special"
   ]
  },
  {
   "cell_type": "code",
   "execution_count": null,
   "metadata": {
    "colab": {
     "base_uri": "https://localhost:8080/",
     "height": 35
    },
    "colab_type": "code",
    "id": "rRhljNHWqZ9J",
    "outputId": "a532f712-4e0e-449f-c4d7-18bb0941f297"
   },
   "outputs": [],
   "source": [
    "import numpy as np\n",
    "a = np.arange(1,11)\n",
    "a"
   ]
  },
  {
   "cell_type": "code",
   "execution_count": null,
   "metadata": {
    "colab": {
     "base_uri": "https://localhost:8080/",
     "height": 52
    },
    "colab_type": "code",
    "id": "EWAkBnj4qZzK",
    "outputId": "3aca23d2-49fd-497d-a727-e9def5c5b90d"
   },
   "outputs": [],
   "source": [
    "#Cube Root\n",
    "scipy.special.cbrt(a)"
   ]
  },
  {
   "cell_type": "code",
   "execution_count": null,
   "metadata": {
    "colab": {
     "base_uri": "https://localhost:8080/",
     "height": 35
    },
    "colab_type": "code",
    "id": "XBBYPr2rqZvw",
    "outputId": "c9542800-d759-4c2f-b719-d39c338c569c"
   },
   "outputs": [],
   "source": [
    "# Exponent of 10 (exp10())\n",
    "x = 3\n",
    "scipy.special.exp10(x)"
   ]
  },
  {
   "cell_type": "code",
   "execution_count": null,
   "metadata": {
    "colab": {
     "base_uri": "https://localhost:8080/",
     "height": 35
    },
    "colab_type": "code",
    "id": "4V2DkcL2qZtP",
    "outputId": "adf4c3f6-6058-4259-ea97-42859dadc9d9"
   },
   "outputs": [],
   "source": [
    "# Exponent of 2 (exp2())\n",
    "x = 3\n",
    "scipy.special.exp2(x)"
   ]
  },
  {
   "cell_type": "code",
   "execution_count": null,
   "metadata": {
    "colab": {
     "base_uri": "https://localhost:8080/",
     "height": 35
    },
    "colab_type": "code",
    "id": "kzzY6jLZrZLr",
    "outputId": "11b54b14-5046-4df6-e8bc-0ca29a16e294"
   },
   "outputs": [],
   "source": [
    "# Degree to Radian (radian(d,m,s))\n",
    "d = 30\n",
    "m = 10\n",
    "s = 50\n",
    "scipy.special.radian(d,m,s)"
   ]
  },
  {
   "cell_type": "code",
   "execution_count": null,
   "metadata": {
    "colab": {
     "base_uri": "https://localhost:8080/",
     "height": 69
    },
    "colab_type": "code",
    "id": "HWlPQoMmrY5O",
    "outputId": "31615b05-3c2b-41c2-dcba-993b23ec05a3"
   },
   "outputs": [],
   "source": [
    "# Trigonometric Funtions (in degrees)\n",
    "print(\"Sine of 30 degrees = \",scipy.special.sindg(30))\n",
    "print(\"Cosine of 30 degrees = \",scipy.special.cosdg(30))\n",
    "print(\"Tangent of 30 degrees = \",scipy.special.tandg(30))\n"
   ]
  },
  {
   "cell_type": "code",
   "execution_count": null,
   "metadata": {
    "colab": {
     "base_uri": "https://localhost:8080/",
     "height": 35
    },
    "colab_type": "code",
    "id": "lkUiTpZmrY1Y",
    "outputId": "92c9e410-1c11-40fe-d023-7dfef8872450"
   },
   "outputs": [],
   "source": [
    "# Permutation\n",
    "scipy.special.perm(5,2) #5P2 = 20"
   ]
  },
  {
   "cell_type": "code",
   "execution_count": null,
   "metadata": {
    "colab": {
     "base_uri": "https://localhost:8080/",
     "height": 35
    },
    "colab_type": "code",
    "id": "Tkn4kIm3rYza",
    "outputId": "3498161a-245a-46fc-bd4a-032f7aedf317"
   },
   "outputs": [],
   "source": [
    "# Combination\n",
    "scipy.special.comb(5,2) #5C2 = 10"
   ]
  },
  {
   "cell_type": "markdown",
   "metadata": {
    "colab_type": "text",
    "id": "GakHOhpvs7hV"
   },
   "source": [
    "## 3) Integration (import scipy.integrate)"
   ]
  },
  {
   "cell_type": "markdown",
   "metadata": {
    "colab_type": "text",
    "id": "P8bRT6lDtFXH"
   },
   "source": [
    "### Numerous Types of Integration are available in scipy\n",
    "\n",
    "   1. quad - Single integration \n",
    "   2. dblquad - Double integration \n",
    "   3. tplquad - Triple integration \n",
    "   4. nquad  - n-fold multiple integration\n",
    "   5. and many more..."
   ]
  },
  {
   "cell_type": "code",
   "execution_count": null,
   "metadata": {
    "colab": {},
    "colab_type": "code",
    "id": "Ptc5Y5m4vH6o"
   },
   "outputs": [],
   "source": [
    "import scipy.integrate"
   ]
  },
  {
   "cell_type": "markdown",
   "metadata": {
    "colab_type": "text",
    "id": "mbruD-xYvcrW"
   },
   "source": [
    "#### Lambda Function in brief"
   ]
  },
  {
   "cell_type": "code",
   "execution_count": null,
   "metadata": {
    "colab": {
     "base_uri": "https://localhost:8080/",
     "height": 35
    },
    "colab_type": "code",
    "id": "xRIickcxvU0b",
    "outputId": "deeae1ff-3bbb-454a-c9ff-c3ea4437b7c8"
   },
   "outputs": [],
   "source": [
    "f = lambda x : x**2\n",
    "f(3)"
   ]
  },
  {
   "cell_type": "code",
   "execution_count": null,
   "metadata": {
    "colab": {
     "base_uri": "https://localhost:8080/",
     "height": 35
    },
    "colab_type": "code",
    "id": "DfW6X_VvvUlk",
    "outputId": "843ce278-adb9-4bb3-d108-b3acc70215d5"
   },
   "outputs": [],
   "source": [
    "g = lambda x,y : x*y\n",
    "g(2,3)"
   ]
  },
  {
   "cell_type": "code",
   "execution_count": null,
   "metadata": {
    "colab": {
     "base_uri": "https://localhost:8080/",
     "height": 35
    },
    "colab_type": "code",
    "id": "OBhuqAjGwGGN",
    "outputId": "02a7c117-a3ac-4447-a3ae-4b48d87b9051"
   },
   "outputs": [],
   "source": [
    "h = lambda x,y : x**2 + 2*x*y + y**2 #(x+y)^2\n",
    "h(1,2)  #(1+2)^2"
   ]
  },
  {
   "cell_type": "code",
   "execution_count": null,
   "metadata": {
    "colab": {},
    "colab_type": "code",
    "id": "EhXRIKCHxHkD"
   },
   "outputs": [],
   "source": [
    "# scipy.integrate.quad(func, lower_limit, upper_limit)"
   ]
  },
  {
   "cell_type": "code",
   "execution_count": null,
   "metadata": {
    "colab": {
     "base_uri": "https://localhost:8080/",
     "height": 35
    },
    "colab_type": "code",
    "id": "o4CujjzOw-QQ",
    "outputId": "b4d980cf-5f56-4480-cfad-c788ed5433b8"
   },
   "outputs": [],
   "source": [
    "f = lambda x : x**3\n",
    "i = scipy.integrate.quad(f, 1, 2)\n",
    "i"
   ]
  },
  {
   "cell_type": "code",
   "execution_count": null,
   "metadata": {
    "colab": {
     "base_uri": "https://localhost:8080/",
     "height": 35
    },
    "colab_type": "code",
    "id": "NSmn0KJHwrH4",
    "outputId": "02c87ce0-b03a-4bdd-f758-7aba28095b94"
   },
   "outputs": [],
   "source": [
    "from numpy import exp\n",
    "f= lambda x:exp(-x**3)\n",
    "i = scipy.integrate.quad(f, 1, 4)\n",
    "i"
   ]
  },
  {
   "cell_type": "code",
   "execution_count": null,
   "metadata": {
    "colab": {
     "base_uri": "https://localhost:8080/",
     "height": 35
    },
    "colab_type": "code",
    "id": "2xMiyTQuiFvi",
    "outputId": "4da029a9-9ed8-4369-d10e-4c163c0075ba"
   },
   "outputs": [],
   "source": [
    "# Double Integration (Used for area under curve)\n",
    "\n",
    "#scipy.integrate.dblquad(func, lower_limit, upper_limit, func2, func3)\n",
    "area = scipy.integrate.dblquad(lambda x, y: x*y, 0, 0.5, lambda x: 0, lambda y: 1-2*y)\n",
    "area"
   ]
  },
  {
   "cell_type": "markdown",
   "metadata": {
    "colab_type": "text",
    "id": "J8rxlXY4p6dk"
   },
   "source": [
    "## 4) Linear Algebra (import scipy.linalg)"
   ]
  },
  {
   "cell_type": "code",
   "execution_count": null,
   "metadata": {
    "colab": {},
    "colab_type": "code",
    "id": "iZQVHA8JZot5"
   },
   "outputs": [],
   "source": [
    "from scipy import linalg"
   ]
  },
  {
   "cell_type": "code",
   "execution_count": null,
   "metadata": {
    "colab": {},
    "colab_type": "code",
    "id": "Zr2YnM9Hqpca"
   },
   "outputs": [],
   "source": [
    "import numpy as np"
   ]
  },
  {
   "cell_type": "code",
   "execution_count": null,
   "metadata": {
    "colab": {
     "base_uri": "https://localhost:8080/",
     "height": 52
    },
    "colab_type": "code",
    "id": "nAGivflOq1Fr",
    "outputId": "348ae339-aad4-4b1b-f10e-3184870d27d0"
   },
   "outputs": [],
   "source": [
    "a1 = np.array([[1,2],[3,4]])\n",
    "a1"
   ]
  },
  {
   "cell_type": "code",
   "execution_count": null,
   "metadata": {
    "colab": {
     "base_uri": "https://localhost:8080/",
     "height": 35
    },
    "colab_type": "code",
    "id": "A8_qk2hKZot9",
    "outputId": "240c9e02-14f8-49cd-be01-bfeba57fc71b"
   },
   "outputs": [],
   "source": [
    "# Determinant of a matrix\n",
    "linalg.det(a1)"
   ]
  },
  {
   "cell_type": "markdown",
   "metadata": {
    "colab_type": "text",
    "id": "FC6IcPCCZouI"
   },
   "source": [
    "Compute pivoted LU decomposition of a matrix.\n",
    "\n",
    "The decomposition is::\n",
    "\n",
    "    A = P L U\n",
    "\n",
    "where P is a permutation matrix, L lower triangular with unit\n",
    "diagonal elements, and U upper triangular."
   ]
  },
  {
   "cell_type": "code",
   "execution_count": null,
   "metadata": {
    "colab": {
     "base_uri": "https://localhost:8080/",
     "height": 69
    },
    "colab_type": "code",
    "id": "aYtU2t8UrIqP",
    "outputId": "27594e01-b81a-4ea7-ec60-a36f744c20b1"
   },
   "outputs": [],
   "source": [
    "A = np.array([[1,2,3],[4,5,6],[7,8,8]])\n",
    "A"
   ]
  },
  {
   "cell_type": "code",
   "execution_count": null,
   "metadata": {
    "colab": {},
    "colab_type": "code",
    "id": "5cbO7pr-ZouJ"
   },
   "outputs": [],
   "source": [
    "P, L, U = linalg.lu(A)"
   ]
  },
  {
   "cell_type": "code",
   "execution_count": null,
   "metadata": {
    "colab": {
     "base_uri": "https://localhost:8080/",
     "height": 69
    },
    "colab_type": "code",
    "id": "qaWAMd8yZouN",
    "outputId": "5dc37105-7df3-43f3-84ae-b967bb24045a"
   },
   "outputs": [],
   "source": [
    "P"
   ]
  },
  {
   "cell_type": "code",
   "execution_count": null,
   "metadata": {
    "colab": {
     "base_uri": "https://localhost:8080/",
     "height": 69
    },
    "colab_type": "code",
    "id": "D9GzuNwUZouR",
    "outputId": "31ae7a4f-a374-4896-f7f5-3a46f839f3d8"
   },
   "outputs": [],
   "source": [
    "L"
   ]
  },
  {
   "cell_type": "code",
   "execution_count": null,
   "metadata": {
    "colab": {
     "base_uri": "https://localhost:8080/",
     "height": 69
    },
    "colab_type": "code",
    "id": "swbkpJbLZouW",
    "outputId": "78b5a92b-b464-4a5e-a792-35bc1940eafb"
   },
   "outputs": [],
   "source": [
    "U"
   ]
  },
  {
   "cell_type": "markdown",
   "metadata": {
    "colab_type": "text",
    "id": "G6ITeJDJZoud"
   },
   "source": [
    "We can find out the eigenvector and eigenvalues of a matrix:"
   ]
  },
  {
   "cell_type": "code",
   "execution_count": null,
   "metadata": {
    "colab": {},
    "colab_type": "code",
    "id": "3loowADHZouf"
   },
   "outputs": [],
   "source": [
    "EV, EW = linalg.eig(A)"
   ]
  },
  {
   "cell_type": "code",
   "execution_count": null,
   "metadata": {
    "colab": {
     "base_uri": "https://localhost:8080/",
     "height": 35
    },
    "colab_type": "code",
    "id": "FEV9bt6hZoum",
    "outputId": "942a1b99-ec0a-4896-c71c-090320cca9ee"
   },
   "outputs": [],
   "source": [
    "#Eigen Values\n",
    "EV"
   ]
  },
  {
   "cell_type": "code",
   "execution_count": null,
   "metadata": {
    "colab": {
     "base_uri": "https://localhost:8080/",
     "height": 69
    },
    "colab_type": "code",
    "id": "X0CMdqVzZouq",
    "outputId": "e1161fa0-d7a5-4ebf-8258-612c7a2ab3ed"
   },
   "outputs": [],
   "source": [
    "#Eigen Vectors\n",
    "EW"
   ]
  },
  {
   "cell_type": "markdown",
   "metadata": {
    "colab_type": "text",
    "id": "pTuP9SRKZous"
   },
   "source": [
    "Solving systems of linear equations can also be done:"
   ]
  },
  {
   "cell_type": "code",
   "execution_count": null,
   "metadata": {
    "colab": {
     "base_uri": "https://localhost:8080/",
     "height": 69
    },
    "colab_type": "code",
    "id": "GbbnLw3MZout",
    "outputId": "2d87cee2-438a-483c-ade0-9e23a058194e"
   },
   "outputs": [],
   "source": [
    "B = np.array([[2],[3],[5]])\n",
    "B"
   ]
  },
  {
   "cell_type": "code",
   "execution_count": null,
   "metadata": {
    "colab": {
     "base_uri": "https://localhost:8080/",
     "height": 69
    },
    "colab_type": "code",
    "id": "UjENHu4arudU",
    "outputId": "dafc189a-54f3-40a6-bf6c-00a0a1d52aa9"
   },
   "outputs": [],
   "source": [
    "A"
   ]
  },
  {
   "cell_type": "code",
   "execution_count": null,
   "metadata": {
    "colab": {},
    "colab_type": "code",
    "id": "qFmzrTvIZou0"
   },
   "outputs": [],
   "source": [
    "#Solve Linear Equation using Matrix (AX=B)\n",
    "#linalg.solve()\n",
    "\n",
    "X = linalg.solve(A,B)\n"
   ]
  },
  {
   "cell_type": "code",
   "execution_count": null,
   "metadata": {
    "colab": {
     "base_uri": "https://localhost:8080/",
     "height": 69
    },
    "colab_type": "code",
    "id": "8rZ-rQa7Zou3",
    "outputId": "7b76c514-d458-45dc-fea2-a69fb14a8df4"
   },
   "outputs": [],
   "source": [
    "X    #Solution : (7/3, 11/3, 1)"
   ]
  },
  {
   "cell_type": "markdown",
   "metadata": {
    "colab_type": "text",
    "id": "5Ez0Jbg7uDRF"
   },
   "source": [
    "#### Inverse of a matrix"
   ]
  },
  {
   "cell_type": "code",
   "execution_count": null,
   "metadata": {
    "colab": {
     "base_uri": "https://localhost:8080/",
     "height": 69
    },
    "colab_type": "code",
    "id": "-SLYGx11ZoYN",
    "outputId": "ae55d2c5-ef5b-4f5b-ec43-65bfae30455d"
   },
   "outputs": [],
   "source": [
    "A = np.array([[1,3,5],[2,5,1],[2,3,8]])\n",
    "A"
   ]
  },
  {
   "cell_type": "code",
   "execution_count": null,
   "metadata": {
    "colab": {
     "base_uri": "https://localhost:8080/",
     "height": 69
    },
    "colab_type": "code",
    "id": "gbq5eouFZoYR",
    "outputId": "e367b826-ca96-4997-d79e-216f59e6dabe"
   },
   "outputs": [],
   "source": [
    "#Inverse : linalg.inv()\n",
    "\n",
    "linalg.inv(A)"
   ]
  },
  {
   "cell_type": "code",
   "execution_count": null,
   "metadata": {
    "colab": {
     "base_uri": "https://localhost:8080/",
     "height": 69
    },
    "colab_type": "code",
    "id": "Pwl9Bi70ZoYU",
    "outputId": "8da3bb1f-f67d-4f2d-c8b3-047bcc657aa8"
   },
   "outputs": [],
   "source": [
    "#Cross Check\n",
    "# A * inv(A) = I\n",
    "\n",
    "I = A.dot(linalg.inv(A))\n",
    "print(np.around(I))"
   ]
  },
  {
   "cell_type": "markdown",
   "metadata": {
    "colab_type": "text",
    "id": "NgM24HhCz9sR"
   },
   "source": [
    "## 5) Fourier Transformation (import scipy.fftpack)"
   ]
  },
  {
   "cell_type": "markdown",
   "metadata": {
    "colab_type": "text",
    "id": "STNat5oI0mea"
   },
   "source": [
    "#### What is Fourier Transformation\n",
    "The Fourier Transform is a tool that breaks a waveform (a function or signal) into an alternate representation, characterized by sine and cosines. The Fourier Transform shows that any waveform can be re-written as the sum of sinusoidal functions.\n",
    "\n",
    "There are two major functions of fftpack :\n",
    "- fft : fast fourier transformation\n",
    "- ifft : inverse fast fourier transformation"
   ]
  },
  {
   "cell_type": "code",
   "execution_count": null,
   "metadata": {
    "colab": {},
    "colab_type": "code",
    "id": "LF4YBZaErYkS"
   },
   "outputs": [],
   "source": [
    "import scipy.fftpack"
   ]
  },
  {
   "cell_type": "code",
   "execution_count": null,
   "metadata": {
    "colab": {
     "base_uri": "https://localhost:8080/",
     "height": 35
    },
    "colab_type": "code",
    "id": "YYRFJMV2rYh8",
    "outputId": "93eaf76b-2901-45d7-9b86-bc9045c7425f"
   },
   "outputs": [],
   "source": [
    "import numpy as np\n",
    "a = np.array([1,5,6,14,25,40])\n",
    "a"
   ]
  },
  {
   "cell_type": "code",
   "execution_count": null,
   "metadata": {
    "colab": {
     "base_uri": "https://localhost:8080/",
     "height": 52
    },
    "colab_type": "code",
    "id": "ieCpxVys22q1",
    "outputId": "e45994e7-1b0a-40c8-ef09-444d34f2fe27"
   },
   "outputs": [],
   "source": [
    "# Fourier Transform\n",
    "y = scipy.fftpack.fft(a)\n",
    "y"
   ]
  },
  {
   "cell_type": "code",
   "execution_count": null,
   "metadata": {
    "colab": {
     "base_uri": "https://localhost:8080/",
     "height": 69
    },
    "colab_type": "code",
    "id": "9gIkP4uK22nk",
    "outputId": "1bfe9973-ebc5-44f3-985f-6e41c9929ca9"
   },
   "outputs": [],
   "source": [
    "# Inverse Fourier Transform\n",
    "invy = scipy.fftpack.ifft(a)\n",
    "invy"
   ]
  },
  {
   "cell_type": "code",
   "execution_count": null,
   "metadata": {
    "colab": {
     "base_uri": "https://localhost:8080/",
     "height": 69
    },
    "colab_type": "code",
    "id": "SzzAhzD122lV",
    "outputId": "bb219caa-256f-4c1d-fd93-84f6f89ce32a"
   },
   "outputs": [],
   "source": [
    "# Cross Verification\n",
    "i = scipy.fftpack.fft(invy)\n",
    "print(i)\n",
    "print()\n",
    "print(a)"
   ]
  },
  {
   "cell_type": "markdown",
   "metadata": {
    "colab_type": "text",
    "id": "I2L12Mon4Bj8"
   },
   "source": [
    "## 6) Interpolation (import scipy.interpolate)"
   ]
  },
  {
   "cell_type": "markdown",
   "metadata": {
    "colab_type": "text",
    "id": "8c9HoTpi4Bj-"
   },
   "source": [
    "#### What is Interpolation\n",
    "interpolation is a type of estimation, a method of constructing new data points within the range of a discrete set of known data points.\n",
    "\n",
    "Polynomial interpolation is a method of estimating values between known data points."
   ]
  },
  {
   "cell_type": "code",
   "execution_count": null,
   "metadata": {
    "colab": {},
    "colab_type": "code",
    "id": "WHjdkDEU4KFa"
   },
   "outputs": [],
   "source": [
    "from scipy.interpolate import interp1d\n",
    "import numpy as np"
   ]
  },
  {
   "cell_type": "code",
   "execution_count": null,
   "metadata": {
    "colab": {
     "base_uri": "https://localhost:8080/",
     "height": 265
    },
    "colab_type": "code",
    "id": "n7IaCpNk4KFs",
    "outputId": "59290110-bf64-4ee7-e60e-1bb670fc77f3"
   },
   "outputs": [],
   "source": [
    "x = np.arange(0, 6, 1)\n",
    "y = np.array([0.1, 0.2, 0.3, 0.5, 1.0, 0.9])\n",
    "\n",
    "xp = np.linspace(0, 5, 100)\n",
    "\n",
    "import matplotlib.pyplot as plt\n",
    "plt.plot(x, y, 'bo')\n",
    "\n",
    "# for linear interpolation\n",
    "y1 = interp1d(x, y, kind='linear')\n",
    "plt.plot(xp, y1(xp), 'r-')\n",
    "\n",
    "# for quadratic interpolation\n",
    "y2 = interp1d(x, y, kind='quadratic')\n",
    "plt.plot(xp, y2(xp), 'b--')\n",
    "\n",
    "# y3 = interp1d(x, y, kind='cubic')\n",
    "# plt.plot(xp, y3(xp), 'g+')\n",
    "\n",
    "plt.legend([\"Points\",\"Linear\",\"Quadratic\"])\n",
    "plt.show()"
   ]
  },
  {
   "cell_type": "markdown",
   "metadata": {
    "colab_type": "text",
    "id": "Y0Mv2lAC6-7a"
   },
   "source": [
    "## 7) Statistics (import scipy.stats)"
   ]
  },
  {
   "cell_type": "markdown",
   "metadata": {
    "colab_type": "text",
    "id": "qJ8BrnFikHFT"
   },
   "source": [
    "### Common Methods\n",
    "\n",
    "The main public methods for continuous RVs are:\n",
    "\n",
    "- rvs: Random Variates\n",
    "- pdf: Probability Density Function\n",
    "- cdf: Cumulative Distribution Function\n",
    "- sf: Survival Function (1-CDF)\n",
    "- ppf: Percent Point Function (Inverse of CDF)\n",
    "- isf: Inverse Survival Function (Inverse of SF)\n",
    "- stats: Return mean, variance, (Fisher’s) skew, or (Fisher’s) kurtosis\n",
    "- moment: non-central moments of the distribution\n",
    "\n",
    "Let’s take a normal RV as an example. "
   ]
  },
  {
   "cell_type": "markdown",
   "metadata": {
    "colab_type": "text",
    "collapsed": true,
    "id": "o0mLU84S6i3x"
   },
   "source": [
    "### Probability Distributions"
   ]
  },
  {
   "cell_type": "code",
   "execution_count": null,
   "metadata": {
    "colab": {},
    "colab_type": "code",
    "id": "8qrvB4iO6i3y"
   },
   "outputs": [],
   "source": [
    "from scipy.stats import norm"
   ]
  },
  {
   "cell_type": "code",
   "execution_count": null,
   "metadata": {
    "colab": {
     "base_uri": "https://localhost:8080/",
     "height": 35
    },
    "colab_type": "code",
    "id": "iGWAhcmq6i33",
    "outputId": "de311181-0ced-4f1b-d96a-211e0827add8"
   },
   "outputs": [],
   "source": [
    "#this gives you a numpy array with 500 elements, \n",
    "#randomly valued according to the standard normal distribution (mean = 0, std =1)\n",
    "x_norm = norm.rvs(size = 500)\n",
    "print(type(x_norm))"
   ]
  },
  {
   "cell_type": "code",
   "execution_count": null,
   "metadata": {
    "colab": {
     "base_uri": "https://localhost:8080/",
     "height": 35
    },
    "colab_type": "code",
    "id": "EnitenpgDJ0u",
    "outputId": "da4b07a5-a4c0-4f4c-b409-ea08478f23d7"
   },
   "outputs": [],
   "source": [
    "norm.mean(), norm.std(), norm.var() #Mean = 0, std = 1"
   ]
  },
  {
   "cell_type": "code",
   "execution_count": null,
   "metadata": {
    "colab": {
     "base_uri": "https://localhost:8080/",
     "height": 52
    },
    "colab_type": "code",
    "id": "L4wWOyzQ6i4f",
    "outputId": "fb5ea8f6-485f-41f2-ba7a-3ac1acc62b4e"
   },
   "outputs": [],
   "source": [
    "#CDF\n",
    "import numpy as np\n",
    "norm.cdf(np.array([1,-1., 0, 1, 3, 4, -2, 6])) #Continous Distribution Function"
   ]
  },
  {
   "cell_type": "code",
   "execution_count": null,
   "metadata": {
    "colab": {
     "base_uri": "https://localhost:8080/",
     "height": 35
    },
    "colab_type": "code",
    "id": "hEnQmr8C4Asg",
    "outputId": "37e73c60-0295-4f3a-99fa-00d81d0c60c7"
   },
   "outputs": [],
   "source": [
    "#PPF\n",
    "# It is reverse of CDF\n",
    "norm.ppf(0.5)   #Percent Point Function"
   ]
  },
  {
   "cell_type": "code",
   "execution_count": null,
   "metadata": {
    "colab": {
     "base_uri": "https://localhost:8080/",
     "height": 35
    },
    "colab_type": "code",
    "id": "rEOqDC2O4ApD",
    "outputId": "bcc1e7f9-55ef-4d1c-8c69-14d96e222df4"
   },
   "outputs": [],
   "source": [
    "x = np.array([1,2,3,4,5,6,7,8,9])\n",
    "print(x.max(),x.min(),x.mean(),x.var(),sep=\",\")"
   ]
  },
  {
   "cell_type": "code",
   "execution_count": null,
   "metadata": {
    "colab": {
     "base_uri": "https://localhost:8080/",
     "height": 35
    },
    "colab_type": "code",
    "id": "rSsOPRMO22jE",
    "outputId": "e47bc5a5-e1cb-4e1c-ee36-ad88791bde4f"
   },
   "outputs": [],
   "source": [
    "#Geometric Mean\n",
    "from scipy.stats.mstats import gmean \n",
    "g = gmean([1, 5, 20]) \n",
    "\n",
    "print(\"Geometric Mean is :\", g) \n"
   ]
  },
  {
   "cell_type": "code",
   "execution_count": null,
   "metadata": {
    "colab": {
     "base_uri": "https://localhost:8080/",
     "height": 35
    },
    "colab_type": "code",
    "id": "L6Cqh1cU22hW",
    "outputId": "1d08f038-1e7d-4575-ad2d-1ca6ae7f6e80"
   },
   "outputs": [],
   "source": [
    "#Harmonic Mean\n",
    "from scipy.stats.mstats import hmean \n",
    "h = hmean([1, 5, 20]) \n",
    "\n",
    "print(\"Harmonic Mean is :\", h)"
   ]
  },
  {
   "cell_type": "code",
   "execution_count": null,
   "metadata": {
    "colab": {
     "base_uri": "https://localhost:8080/",
     "height": 35
    },
    "colab_type": "code",
    "id": "gzuNrwKJ22e5",
    "outputId": "bdd7ee30-1819-4845-ecae-9ee14910b5a6"
   },
   "outputs": [],
   "source": [
    "#Mode \n",
    "from scipy import stats\n",
    "arr1 = np.array([1, 3, 15, 11, 9, 3]) \n",
    "print(\"Arithmetic mode is : \", stats.mode(arr1)) \n"
   ]
  },
  {
   "cell_type": "code",
   "execution_count": null,
   "metadata": {
    "colab": {
     "base_uri": "https://localhost:8080/",
     "height": 52
    },
    "colab_type": "code",
    "id": "JC0Yv7pFno_O",
    "outputId": "ffc21a0c-907e-4b62-ea19-a664aac87db3"
   },
   "outputs": [],
   "source": [
    "#Z-Score\t\n",
    "arr1 = [20, 2, 7, 1, 25] \n",
    "\n",
    "print (\"\\nZ-score for arr1 : \", stats.zscore(arr1)) \n"
   ]
  },
  {
   "cell_type": "markdown",
   "metadata": {
    "colab_type": "text",
    "id": "WNLueiMevWoh"
   },
   "source": [
    "## 8) Miscellaneous"
   ]
  },
  {
   "cell_type": "markdown",
   "metadata": {
    "colab_type": "text",
    "id": "WriXWEgzvkIG"
   },
   "source": [
    "#### Scientific Contants"
   ]
  },
  {
   "cell_type": "code",
   "execution_count": null,
   "metadata": {
    "colab": {
     "base_uri": "https://localhost:8080/",
     "height": 1000
    },
    "colab_type": "code",
    "id": "88VikpQEno6J",
    "outputId": "9628be69-1761-4d52-bcfc-9143913d79d5"
   },
   "outputs": [],
   "source": [
    "scipy.constants.find()"
   ]
  },
  {
   "cell_type": "code",
   "execution_count": null,
   "metadata": {
    "colab": {
     "base_uri": "https://localhost:8080/",
     "height": 208
    },
    "colab_type": "code",
    "id": "TaMJqJo0nozu",
    "outputId": "f44599b9-bc88-4c16-80f4-42851b6132d1"
   },
   "outputs": [],
   "source": [
    "#Find Specific Constants\n",
    "#gives all constants starting with given keyword\n",
    "\n",
    "scipy.constants.find(\"Planck\")"
   ]
  },
  {
   "cell_type": "code",
   "execution_count": null,
   "metadata": {
    "colab": {
     "base_uri": "https://localhost:8080/",
     "height": 35
    },
    "colab_type": "code",
    "id": "Xf4xV97Ynoxa",
    "outputId": "983197ce-3114-4d10-cbfe-ba60b7498300"
   },
   "outputs": [],
   "source": [
    "#Physical_Constant method\n",
    "\n",
    "scipy.constants.physical_constants[\"Planck constant\"]"
   ]
  },
  {
   "cell_type": "code",
   "execution_count": null,
   "metadata": {
    "colab": {
     "base_uri": "https://localhost:8080/",
     "height": 35
    },
    "colab_type": "code",
    "id": "WrzfcYs8novH",
    "outputId": "573a1455-3b0f-4dd2-d564-85f01db4fb5b"
   },
   "outputs": [],
   "source": [
    "#Returns value of particular Constant\n",
    "\n",
    "scipy.constants.value(\"Planck constant\")"
   ]
  },
  {
   "cell_type": "code",
   "execution_count": null,
   "metadata": {
    "colab": {
     "base_uri": "https://localhost:8080/",
     "height": 35
    },
    "colab_type": "code",
    "id": "qRe0Hgqv73s-",
    "outputId": "f9a627e0-dd17-4b4d-d424-64f310b0a499"
   },
   "outputs": [],
   "source": [
    "scipy.constants.value(\"Boltzmann constant\")"
   ]
  },
  {
   "cell_type": "code",
   "execution_count": null,
   "metadata": {
    "colab": {
     "base_uri": "https://localhost:8080/",
     "height": 35
    },
    "colab_type": "code",
    "id": "v4F8Qd2wno3m",
    "outputId": "5c066d12-959c-46a2-e72f-8291f0f78711"
   },
   "outputs": [],
   "source": [
    "scipy.constants.pi"
   ]
  },
  {
   "cell_type": "markdown",
   "metadata": {
    "colab_type": "text",
    "id": "fFZsrlit8Dox"
   },
   "source": [
    "### For more information about SciPy, visit SciPy Official Documentation\n",
    "\n",
    "#### https://docs.scipy.org/doc/"
   ]
  }
 ],
 "metadata": {
  "colab": {
   "collapsed_sections": [],
   "name": "PyPower_SciPy.ipynb",
   "provenance": []
  },
  "kernelspec": {
   "display_name": "Python 3",
   "language": "python",
   "name": "python3"
  },
  "language_info": {
   "codemirror_mode": {
    "name": "ipython",
    "version": 3
   },
   "file_extension": ".py",
   "mimetype": "text/x-python",
   "name": "python",
   "nbconvert_exporter": "python",
   "pygments_lexer": "ipython3",
   "version": "3.8.5"
  }
 },
 "nbformat": 4,
 "nbformat_minor": 1
}
