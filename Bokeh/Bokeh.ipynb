{
 "cells": [
  {
   "cell_type": "markdown",
   "metadata": {},
   "source": [
    "# Bokeh Tutorial"
   ]
  },
  {
   "cell_type": "markdown",
   "metadata": {},
   "source": [
    "### Bokeh is an interactive visualization library.\n",
    "\n",
    "Currently, Bokeh has two main interfaces:\n",
    "* bokeh.models - A low-level interface that provides the most flexibility to application developers\n",
    "* bokeh.plotting - A higher-level interface centered around composing visual glyphs\n",
    "\n",
    "Bokeh can also be used with the HoloViews library.\n",
    "\n",
    "bokeh.charts is deprecated."
   ]
  },
  {
   "cell_type": "markdown",
   "metadata": {},
   "source": [
    "### Installation\n",
    "\n",
    "Go to python package index at python.org and see install instructions for bokeh."
   ]
  },
  {
   "cell_type": "markdown",
   "metadata": {
    "colab_type": "text",
    "id": "XoMOtv_TIzLj"
   },
   "source": [
    "### Documentation"
   ]
  },
  {
   "cell_type": "code",
   "execution_count": null,
   "metadata": {
    "colab": {
     "base_uri": "https://localhost:8080/",
     "height": 821
    },
    "colab_type": "code",
    "id": "4oUGLYKAIwzh",
    "outputId": "387086ed-62d9-47ab-d6c5-fe46077c9fe6"
   },
   "outputs": [],
   "source": [
    "from IPython.display import IFrame\n",
    "\n",
    "documentation = IFrame(src='https://bokeh.pydata.org/en/latest/', width=1000, height=450)\n",
    "display(documentation)"
   ]
  },
  {
   "cell_type": "markdown",
   "metadata": {
    "colab_type": "text",
    "id": "123FEnAKcNUA"
   },
   "source": [
    "### Imports\n",
    "Some imports can be imported in different ways and appear to do the same thing (i.e.-bokeh.io.show, bokeh.plotting.show)"
   ]
  },
  {
   "cell_type": "code",
   "execution_count": null,
   "metadata": {
    "colab": {},
    "colab_type": "code",
    "id": "Jbo-SCZocQIa"
   },
   "outputs": [],
   "source": [
    "# standard bokeh imports\n",
    "from bokeh.io import output_notebook, show, reset_output"
   ]
  },
  {
   "cell_type": "code",
   "execution_count": null,
   "metadata": {},
   "outputs": [],
   "source": [
    "# other bokeh imports\n",
    "import bokeh\n",
    "from bokeh.plotting import figure"
   ]
  },
  {
   "cell_type": "code",
   "execution_count": null,
   "metadata": {},
   "outputs": [],
   "source": [
    "# other imports\n",
    "import numpy as np\n",
    "import pandas as pd\n",
    "from vega_datasets import data as vds"
   ]
  },
  {
   "cell_type": "markdown",
   "metadata": {
    "colab_type": "text",
    "id": "r2zK0ZaqxCb-"
   },
   "source": [
    "### Troubleshooting\n",
    "\n",
    "* reset_output(), then output_notebook() to keep from opening new tabs and display plots in notebook\n",
    "* from bokeh.charts import 'Plot Type' is deprecated, use from bokeh.plotting import figure instead\n",
    "* if something is not working, try to update to the latest version of bokeh"
   ]
  },
  {
   "cell_type": "markdown",
   "metadata": {
    "colab_type": "text",
    "id": "m-5-zgxjyzOP"
   },
   "source": [
    "### Sample Data Sets"
   ]
  },
  {
   "cell_type": "code",
   "execution_count": null,
   "metadata": {
    "colab": {
     "base_uri": "https://localhost:8080/",
     "height": 204
    },
    "colab_type": "code",
    "id": "45kIS_95y5jo",
    "outputId": "54bf21a0-e103-4734-89c4-422faaf1d8be"
   },
   "outputs": [],
   "source": [
    "from bokeh.sampledata import iris\n",
    "\n",
    "# sample data set (dataframe)\n",
    "iris_dataset = iris.flowers\n",
    "iris_dataset.head()"
   ]
  },
  {
   "cell_type": "markdown",
   "metadata": {
    "colab_type": "text",
    "id": "E-lf6hxcwsgF"
   },
   "source": [
    "### To Display Plots In Notebook"
   ]
  },
  {
   "cell_type": "code",
   "execution_count": null,
   "metadata": {
    "colab": {
     "base_uri": "https://localhost:8080/",
     "height": 47
    },
    "colab_type": "code",
    "id": "L0_cUPcedMMo",
    "outputId": "be21ec7d-f75d-4d22-d682-002701e1bd44"
   },
   "outputs": [],
   "source": [
    "# configure the default output state to generate output in notebook cells when show() is called\n",
    "# in colab, output_notebook() is called in each cell (this is not always the case)\n",
    "output_notebook()"
   ]
  },
  {
   "cell_type": "code",
   "execution_count": null,
   "metadata": {
    "colab": {},
    "colab_type": "code",
    "id": "d5dtpUMQdN1v"
   },
   "outputs": [],
   "source": [
    "# output_notebook?"
   ]
  },
  {
   "cell_type": "markdown",
   "metadata": {
    "colab_type": "text",
    "id": "cgCYTtzc28Of"
   },
   "source": [
    "### To Save Plots"
   ]
  },
  {
   "cell_type": "code",
   "execution_count": null,
   "metadata": {
    "colab": {},
    "colab_type": "code",
    "id": "Ncg4_peA3ADt"
   },
   "outputs": [],
   "source": [
    "# if not using a notebook environment, use this to save/open your bokeh plots\n",
    "# save your plot to html file or click save icon next to plot\n",
    "# output_file()\n",
    "\n",
    "'''\n",
    "comment out output_file(), run reset_output(), then run output_notebook() to keep from opening new tabs \n",
    "and display plots in notebook\n",
    "'''"
   ]
  },
  {
   "cell_type": "markdown",
   "metadata": {
    "colab_type": "text",
    "id": "ALnP9aXhtIB5"
   },
   "source": [
    "### Steps to Create Plots\n",
    "\n",
    "1. create figure - used to create/house plot\n",
    "\n",
    "2. call plot (glyph) method (types = line, bar, scatter, etc.)\n",
    "\n",
    "3. show figure plot"
   ]
  },
  {
   "cell_type": "markdown",
   "metadata": {
    "colab_type": "text",
    "id": "YL2R256ENhGS"
   },
   "source": [
    "### Column Data Source\n",
    "\n",
    "The ColumnDataSource is a data source used throughout Bokeh. Bokeh often creates the ColumnDataSource automatically, however there are times when it is useful to create them explicitly.\n",
    "\n",
    "The ColumnDataSource is a (dictionary) mapping of column names (strings) to sequences of values. The mapping is provided by passing a dictionary with string keys and lists (or similar data structures) as values."
   ]
  },
  {
   "cell_type": "code",
   "execution_count": null,
   "metadata": {
    "colab": {
     "base_uri": "https://localhost:8080/",
     "height": 34
    },
    "colab_type": "code",
    "id": "L7J1krCcNfRk",
    "outputId": "fbd46480-d617-4a85-dbe4-8d2fb7e03112"
   },
   "outputs": [],
   "source": [
    "from bokeh.models import ColumnDataSource\n",
    "\n",
    "column_data_source = ColumnDataSource({'A': [1, 2, 3, 4, 5],\n",
    "                                       'B': [5, 4, 3, 2, 1],\n",
    "                                       'C': [1, 3, 5, 1, 2]})\n",
    "\n",
    "column_data_source.data"
   ]
  },
  {
   "cell_type": "markdown",
   "metadata": {
    "colab_type": "text",
    "id": "iwlTbIJriHZ6"
   },
   "source": [
    "### Line Plot"
   ]
  },
  {
   "cell_type": "code",
   "execution_count": null,
   "metadata": {
    "colab": {
     "base_uri": "https://localhost:8080/",
     "height": 347
    },
    "colab_type": "code",
    "id": "OyTCuj7JJBJu",
    "outputId": "55abab31-ff88-498c-e2ce-a833f4c1bd3a"
   },
   "outputs": [],
   "source": [
    "from bokeh.models import HoverTool"
   ]
  },
  {
   "cell_type": "code",
   "execution_count": null,
   "metadata": {},
   "outputs": [],
   "source": [
    "# data\n",
    "x_line = np.arange(10)\n",
    "y_line = np.random.rand(10)"
   ]
  },
  {
   "cell_type": "code",
   "execution_count": null,
   "metadata": {},
   "outputs": [],
   "source": [
    "# line plot\n",
    "line_plot = figure(plot_width=500, plot_height=325, title='Line Plot', x_axis_label='x', y_axis_label='y')\n",
    "line_plot.line(x_line, y_line, legend='line', line_width=2)"
   ]
  },
  {
   "cell_type": "code",
   "execution_count": null,
   "metadata": {},
   "outputs": [],
   "source": [
    "# add hover tool\n",
    "line_plot.add_tools(HoverTool())\n",
    "\n",
    "# another way to set axis labels\n",
    "# line_plot.xaxis.axis_label = 'x-axis'\n",
    "# line_plot.yaxis.axis_label = 'y-axis'"
   ]
  },
  {
   "cell_type": "code",
   "execution_count": null,
   "metadata": {},
   "outputs": [],
   "source": [
    "show(line_plot)"
   ]
  },
  {
   "cell_type": "markdown",
   "metadata": {},
   "source": [
    "Plot Tools = Documentation, Pan, Box Zoom, Wheel Zoom, Save, Reset, Hover, Bokeh Plot Tools Information, Additional Tools Can Be Added"
   ]
  },
  {
   "cell_type": "markdown",
   "metadata": {},
   "source": [
    "### Line Plot ( Multiple Lines )"
   ]
  },
  {
   "cell_type": "code",
   "execution_count": null,
   "metadata": {
    "colab": {
     "base_uri": "https://localhost:8080/",
     "height": 347
    },
    "colab_type": "code",
    "id": "C-Q46qQKlILa",
    "outputId": "dcd37882-db9c-4d8a-b016-381730e24284"
   },
   "outputs": [],
   "source": [
    "# data\n",
    "multi_line_x = np.arange(10)\n",
    "multi_line_y1 = np.random.rand(10)\n",
    "multi_line_y2 = np.random.rand(10)\n",
    "multi_line_y3 = np.random.rand(10)"
   ]
  },
  {
   "cell_type": "code",
   "execution_count": null,
   "metadata": {},
   "outputs": [],
   "source": [
    "# plot \n",
    "multi_line_plot = figure(plot_width=500, plot_height=300, toolbar_location='below')\n",
    "multi_line_plot.line(multi_line_x, multi_line_y1, color='red', line_width=3)\n",
    "multi_line_plot.line(multi_line_x, multi_line_y2, color='blue', line_width=3)\n",
    "multi_line_plot.line(multi_line_x, multi_line_y3, color='yellow', line_width=3)\n",
    "show(multi_line_plot)"
   ]
  },
  {
   "cell_type": "markdown",
   "metadata": {
    "colab_type": "text",
    "id": "ysGyGjP4F2fJ"
   },
   "source": [
    "### Bar Charts"
   ]
  },
  {
   "cell_type": "code",
   "execution_count": null,
   "metadata": {
    "colab": {
     "base_uri": "https://localhost:8080/",
     "height": 647
    },
    "colab_type": "code",
    "id": "g2CC8gbNfluJ",
    "outputId": "79fe3d16-0dde-4b9a-9511-6938fc0a7184"
   },
   "outputs": [],
   "source": [
    "# data\n",
    "x_bar = ['category1', 'category2', 'category3', 'category4', 'category5']\n",
    "y_bar = np.random.rand(5)*10"
   ]
  },
  {
   "cell_type": "code",
   "execution_count": null,
   "metadata": {},
   "outputs": [],
   "source": [
    "# sort data (sort x by its cooresponding y)\n",
    "sorted_categories = sorted(x_bar, key=lambda x: y_bar[x_bar.index(x)], reverse=True)"
   ]
  },
  {
   "cell_type": "code",
   "execution_count": null,
   "metadata": {},
   "outputs": [],
   "source": [
    "# plot\n",
    "bar_chart = figure(x_range=sorted_categories, title='Bar Plot', x_axis_label='x', y_axis_label='y', plot_height=300)\n",
    "bar_chart.vbar(x_bar, top=y_bar, color='blue', width=0.5)\n",
    "bar_chart.y_range.start = 0\n",
    "show(bar_chart)\n",
    "\n",
    "# use hbar for horizontal bar chart"
   ]
  },
  {
   "cell_type": "markdown",
   "metadata": {},
   "source": [
    "### Stacked Bar Chart"
   ]
  },
  {
   "cell_type": "code",
   "execution_count": null,
   "metadata": {},
   "outputs": [],
   "source": [
    "# note - appears to work fine with dataframe or column data source converted dataframe\n",
    "# if dataframe does not work, use column data source\n",
    "\n",
    "stacked_bar_df = pd.DataFrame({'y': [1, 2, 3, 4, 5],\n",
    "                               'x1': [1, 2, 4, 3, 4],\n",
    "                               'x2': [1, 4, 2, 2, 3]})"
   ]
  },
  {
   "cell_type": "code",
   "execution_count": null,
   "metadata": {},
   "outputs": [],
   "source": [
    "cds_stacked_bar_df = ColumnDataSource(stacked_bar_df)"
   ]
  },
  {
   "cell_type": "code",
   "execution_count": null,
   "metadata": {},
   "outputs": [],
   "source": [
    "stacked_bar_chart = figure(plot_width=600, plot_height=300, title='stacked bar chart')"
   ]
  },
  {
   "cell_type": "code",
   "execution_count": null,
   "metadata": {
    "colab": {},
    "colab_type": "code",
    "id": "QNetkzBhJ0lu"
   },
   "outputs": [],
   "source": [
    "stacked_bar_chart.hbar_stack(['x1', 'x2'], \n",
    "                             y='y', \n",
    "                             height=0.8, \n",
    "                             color=('grey', 'lightgrey'), \n",
    "                             source=cds_stacked_bar_df)"
   ]
  },
  {
   "cell_type": "code",
   "execution_count": null,
   "metadata": {},
   "outputs": [],
   "source": [
    "show(stacked_bar_chart)"
   ]
  },
  {
   "cell_type": "markdown",
   "metadata": {},
   "source": [
    "### Grouped Bar Chart"
   ]
  },
  {
   "cell_type": "code",
   "execution_count": null,
   "metadata": {},
   "outputs": [],
   "source": [
    "from bokeh.core.properties import value\n",
    "from bokeh.transform import dodge"
   ]
  },
  {
   "cell_type": "code",
   "execution_count": null,
   "metadata": {},
   "outputs": [],
   "source": [
    "# data\n",
    "categories = ['category1', 'category2', 'category3']\n",
    "grouped_bar_df = pd.DataFrame({'categories' : categories,\n",
    "                               '2015': [2, 1, 4],\n",
    "                               '2016': [5, 3, 3],\n",
    "                               '2017': [3, 2, 4]})"
   ]
  },
  {
   "cell_type": "code",
   "execution_count": null,
   "metadata": {},
   "outputs": [],
   "source": [
    "# plot\n",
    "grouped_bar = figure(x_range=categories, y_range=(0, 10), plot_height=250)"
   ]
  },
  {
   "cell_type": "code",
   "execution_count": null,
   "metadata": {},
   "outputs": [],
   "source": [
    "# offsets bars / bar locations on axis\n",
    "dodge1 = dodge('categories', -0.25, range=grouped_bar.x_range)\n",
    "dodge2 = dodge('categories',  0.0,  range=grouped_bar.x_range)\n",
    "dodge3 = dodge('categories',  0.25, range=grouped_bar.x_range)\n",
    "\n",
    "grouped_bar.vbar(x=dodge1, top='2015', width=0.2, source=grouped_bar_df, color='gray', legend=value('2015'))\n",
    "grouped_bar.vbar(x=dodge2, top='2016', width=0.2, source=grouped_bar_df, color='blue', legend=value('2016'))\n",
    "grouped_bar.vbar(x=dodge3, top='2017', width=0.2, source=grouped_bar_df, color='green', legend=value('2017'))"
   ]
  },
  {
   "cell_type": "code",
   "execution_count": null,
   "metadata": {},
   "outputs": [],
   "source": [
    "# format legend\n",
    "grouped_bar.legend.location = 'top_left'\n",
    "grouped_bar.legend.orientation = 'horizontal'"
   ]
  },
  {
   "cell_type": "code",
   "execution_count": null,
   "metadata": {},
   "outputs": [],
   "source": [
    "show(grouped_bar)"
   ]
  },
  {
   "cell_type": "markdown",
   "metadata": {},
   "source": [
    "### Stacked Area Chart"
   ]
  },
  {
   "cell_type": "code",
   "execution_count": null,
   "metadata": {},
   "outputs": [],
   "source": [
    "stacked_area_df = pd.DataFrame({'x': [1, 2, 3, 4, 5],\n",
    "                                'y1': [1, 2, 4, 3, 4],\n",
    "                                'y2': [1, 4, 2, 2, 3]})"
   ]
  },
  {
   "cell_type": "code",
   "execution_count": null,
   "metadata": {},
   "outputs": [],
   "source": [
    "stacked_area_plot = figure(plot_width=600, plot_height=300)"
   ]
  },
  {
   "cell_type": "code",
   "execution_count": null,
   "metadata": {},
   "outputs": [],
   "source": [
    "stacked_area_plot.varea_stack(['y1', 'y2'],\n",
    "                              x='x',\n",
    "                              color=('green', 'lightgreen'),\n",
    "                              source=stacked_area_df)"
   ]
  },
  {
   "cell_type": "code",
   "execution_count": null,
   "metadata": {},
   "outputs": [],
   "source": [
    "show(stacked_area_plot)"
   ]
  },
  {
   "cell_type": "code",
   "execution_count": null,
   "metadata": {},
   "outputs": [],
   "source": [
    "# stacked_area_plot.varea_stack?"
   ]
  },
  {
   "cell_type": "markdown",
   "metadata": {
    "colab_type": "text",
    "id": "h0zow8J_HRdJ"
   },
   "source": [
    "### Scatter Plots"
   ]
  },
  {
   "cell_type": "code",
   "execution_count": null,
   "metadata": {
    "colab": {
     "base_uri": "https://localhost:8080/",
     "height": 204
    },
    "colab_type": "code",
    "id": "2EFdzYx0fhUW",
    "outputId": "2bac8924-242e-4cf2-fecc-0d262a9b0e45"
   },
   "outputs": [],
   "source": [
    "# vega data sets cars data\n",
    "cars = vds.cars()\n",
    "cars.tail()"
   ]
  },
  {
   "cell_type": "code",
   "execution_count": null,
   "metadata": {},
   "outputs": [],
   "source": [
    "# data\n",
    "x_scatter = cars.Weight_in_lbs\n",
    "y_scatter = cars.Miles_per_Gallon"
   ]
  },
  {
   "cell_type": "code",
   "execution_count": null,
   "metadata": {
    "colab": {
     "base_uri": "https://localhost:8080/",
     "height": 347
    },
    "colab_type": "code",
    "id": "OTJC6Ugpg2O5",
    "outputId": "6ffe1e14-66da-4fda-8e8a-37b286d0ce07"
   },
   "outputs": [],
   "source": [
    "# plot \n",
    "scatter_plot = figure(plot_width=500, plot_height=300, x_axis_label='Weight_in_lbs', y_axis_label='Miles_per_Gallon')\n",
    "scatter_plot.circle(x_scatter, y_scatter, size=15, line_color='navy', fill_color='orange', fill_alpha=0.5)\n",
    "show(scatter_plot)"
   ]
  },
  {
   "cell_type": "markdown",
   "metadata": {
    "colab_type": "text",
    "id": "E6mffj8pHRi7"
   },
   "source": [
    "Other scatter plot variations include: cross, x, diamond, diamond_cross, circle_x, circle_cross, triangle, \n",
    "inverted_triangle, square, square_x, square_cross, asterisk"
   ]
  },
  {
   "cell_type": "code",
   "execution_count": null,
   "metadata": {
    "colab": {
     "base_uri": "https://localhost:8080/",
     "height": 204
    },
    "colab_type": "code",
    "id": "pPYAaVM2rZtw",
    "outputId": "2c9830e0-41ca-485d-88c7-a102a4b6898e",
    "scrolled": true
   },
   "outputs": [],
   "source": [
    "# vega data sets iris data\n",
    "iris = vds.iris()\n",
    "iris.tail()"
   ]
  },
  {
   "cell_type": "markdown",
   "metadata": {},
   "source": [
    "### Scatter Plot Subgroups"
   ]
  },
  {
   "cell_type": "code",
   "execution_count": null,
   "metadata": {},
   "outputs": [],
   "source": [
    "# scatter plot subgroups using iris data\n",
    "\n",
    "from bokeh.transform import factor_cmap, factor_mark"
   ]
  },
  {
   "cell_type": "code",
   "execution_count": null,
   "metadata": {},
   "outputs": [],
   "source": [
    "# data\n",
    "# use vega_datasets iris data\n",
    "\n",
    "# plot \n",
    "species = ['setosa', 'versicolor', 'virginica']\n",
    "markers = ['hex', 'cross', 'triangle']"
   ]
  },
  {
   "cell_type": "code",
   "execution_count": null,
   "metadata": {},
   "outputs": [],
   "source": [
    "scatter_plot_subgroups = figure(plot_width=600, \n",
    "                                plot_height=400, \n",
    "                                title ='Iris', \n",
    "                                x_axis_label='petalLength', \n",
    "                                y_axis_label='petalWidth')"
   ]
  },
  {
   "cell_type": "code",
   "execution_count": null,
   "metadata": {},
   "outputs": [],
   "source": [
    "scatter_plot_subgroups.scatter(x='petalLength',\n",
    "                               y='petalWidth',\n",
    "                               source=iris,\n",
    "                               legend='species',\n",
    "                               fill_alpha=0.5,\n",
    "                               size=15,\n",
    "                               color=factor_cmap(field_name='species', palette='Dark2_3', factors=species),\n",
    "                               marker=factor_mark('species', markers, species)\n",
    "                              )"
   ]
  },
  {
   "cell_type": "code",
   "execution_count": null,
   "metadata": {
    "colab": {
     "base_uri": "https://localhost:8080/",
     "height": 447
    },
    "colab_type": "code",
    "id": "9tLMFhgNHeyC",
    "outputId": "6ffe776c-ed2f-41fc-e009-bc27b1b586dc"
   },
   "outputs": [],
   "source": [
    "# move legend\n",
    "scatter_plot_subgroups.legend.location = 'top_left'\n",
    "show(scatter_plot_subgroups)"
   ]
  },
  {
   "cell_type": "code",
   "execution_count": null,
   "metadata": {},
   "outputs": [],
   "source": [
    "# scatter_plot_subgroups.scatter?"
   ]
  },
  {
   "cell_type": "markdown",
   "metadata": {
    "colab_type": "text",
    "id": "VtNjJ-GVFoNl"
   },
   "source": [
    "### Subplots"
   ]
  },
  {
   "cell_type": "code",
   "execution_count": null,
   "metadata": {},
   "outputs": [],
   "source": [
    "from bokeh.layouts import gridplot"
   ]
  },
  {
   "cell_type": "code",
   "execution_count": null,
   "metadata": {},
   "outputs": [],
   "source": [
    "# data\n",
    "subplot_x1 = cars['Acceleration']; subplot_y1 = cars['Miles_per_Gallon']\n",
    "subplot_x2 = cars['Cylinders']; subplot_y2 = cars['Miles_per_Gallon']\n",
    "subplot_x3 = cars['Horsepower']; subplot_y3 = cars['Miles_per_Gallon']\n",
    "subplot_x4 = cars['Weight_in_lbs']; subplot_y4 = cars['Miles_per_Gallon']"
   ]
  },
  {
   "cell_type": "code",
   "execution_count": null,
   "metadata": {},
   "outputs": [],
   "source": [
    "# figures\n",
    "subplot1 = figure(plot_width=300, plot_height=300)\n",
    "subplot2 = figure(plot_width=300, plot_height=300)\n",
    "subplot3 = figure(plot_width=300, plot_height=300)\n",
    "subplot4 = figure(plot_width=300, plot_height=300)"
   ]
  },
  {
   "cell_type": "code",
   "execution_count": null,
   "metadata": {},
   "outputs": [],
   "source": [
    "# plots\n",
    "subplot1.circle(subplot_x1, subplot_y1)\n",
    "subplot2.circle(subplot_x2, subplot_y2)\n",
    "subplot3.circle(subplot_x3, subplot_y3)\n",
    "subplot4.circle(subplot_x4, subplot_y4)"
   ]
  },
  {
   "cell_type": "code",
   "execution_count": null,
   "metadata": {},
   "outputs": [],
   "source": [
    "# subplots gridplot\n",
    "grid = gridplot([subplot1, subplot2, subplot3, subplot4], ncols=2)"
   ]
  },
  {
   "cell_type": "code",
   "execution_count": null,
   "metadata": {
    "colab": {
     "base_uri": "https://localhost:8080/",
     "height": 677
    },
    "colab_type": "code",
    "id": "Ynt0mf4sFreV",
    "outputId": "3a3dc3e4-758b-4c64-bf00-9df8e847c98d",
    "scrolled": false
   },
   "outputs": [],
   "source": [
    "# show\n",
    "show(grid)"
   ]
  },
  {
   "cell_type": "markdown",
   "metadata": {},
   "source": [
    "### Link Plots"
   ]
  },
  {
   "cell_type": "code",
   "execution_count": null,
   "metadata": {},
   "outputs": [],
   "source": [
    "from bokeh.layouts import gridplot\n",
    "\n",
    "linked_data_x = np.arange(10)\n",
    "linked_data_y = np.random.rand(10)"
   ]
  },
  {
   "cell_type": "code",
   "execution_count": null,
   "metadata": {},
   "outputs": [],
   "source": [
    "# linked plot 1\n",
    "linked_plot1 = figure(width=250, height=250)\n",
    "linked_plot1.circle(linked_data_x, linked_data_y)"
   ]
  },
  {
   "cell_type": "code",
   "execution_count": null,
   "metadata": {},
   "outputs": [],
   "source": [
    "# create new plots and share both ranges\n",
    "linked_plot2 = figure(width=250, height=250, x_range=linked_plot1.x_range, y_range=linked_plot1.y_range)\n",
    "linked_plot2.line(linked_data_x, linked_data_y)\n",
    "\n",
    "linked_plot3 = figure(width=250, height=250, x_range=linked_plot1.x_range, y_range=linked_plot1.y_range)\n",
    "linked_plot3.vbar(linked_data_x, top=linked_data_y, width=0.5)"
   ]
  },
  {
   "cell_type": "code",
   "execution_count": null,
   "metadata": {},
   "outputs": [],
   "source": [
    "# the subplots in a gridplot\n",
    "linked_gridplot = gridplot([[linked_plot1, linked_plot2, linked_plot3]])"
   ]
  },
  {
   "cell_type": "code",
   "execution_count": null,
   "metadata": {},
   "outputs": [],
   "source": [
    "# show the results\n",
    "show(linked_gridplot)"
   ]
  },
  {
   "cell_type": "markdown",
   "metadata": {},
   "source": [
    "### Linked Selection - Box Select, Lasso Select"
   ]
  },
  {
   "cell_type": "code",
   "execution_count": null,
   "metadata": {},
   "outputs": [],
   "source": [
    "# data\n",
    "seattle_weather = vds.seattle_weather()\n",
    "seattle_weather.tail()"
   ]
  },
  {
   "cell_type": "code",
   "execution_count": null,
   "metadata": {},
   "outputs": [],
   "source": [
    "from bokeh.transform import factor_cmap, factor_mark\n",
    "\n",
    "TOOLS = 'box_select, lasso_select, reset, wheel_zoom, pan'\n",
    "\n",
    "weather_types = ['drizzle', 'rain', 'sun', 'snow', 'fog']\n",
    "weather_markers = ['hex', 'cross', 'triangle', 'square', 'circle_x']"
   ]
  },
  {
   "cell_type": "code",
   "execution_count": null,
   "metadata": {},
   "outputs": [],
   "source": [
    "# use ColumnDataSource for linking interactions\n",
    "seattle_weather_source = ColumnDataSource(seattle_weather)"
   ]
  },
  {
   "cell_type": "code",
   "execution_count": null,
   "metadata": {},
   "outputs": [],
   "source": [
    "# scatter plot 1\n",
    "weather_scatter = figure(plot_width=900, plot_height=300, y_axis_label='Temp', x_axis_type='datetime', tools=TOOLS)\n",
    "weather_scatter.circle('date', 'temp_max', size=15, fill_alpha=0.1, source=seattle_weather_source)"
   ]
  },
  {
   "cell_type": "code",
   "execution_count": null,
   "metadata": {},
   "outputs": [],
   "source": [
    "# scatter plot 2\n",
    "weather_scatter_zoom = figure(plot_width=900, plot_height=500, x_axis_type='datetime', tools=TOOLS)\n",
    "weather_scatter_zoom.scatter('date', \n",
    "                             'temp_max', \n",
    "                             size=15, \n",
    "                             fill_alpha=0.1,\n",
    "                             color=factor_cmap(field_name='weather', palette='Dark2_5', factors=weather_types),\n",
    "                             marker=factor_mark('weather', weather_markers, weather_types),\n",
    "                             legend='weather',\n",
    "                             source=seattle_weather_source\n",
    "                             )"
   ]
  },
  {
   "cell_type": "code",
   "execution_count": null,
   "metadata": {},
   "outputs": [],
   "source": [
    "# shared data between plots helps the linked selection to work\n",
    "\n",
    "# format legend\n",
    "weather_scatter_zoom.legend.location = 'top_left'\n",
    "weather_scatter_zoom.legend.orientation = 'horizontal'"
   ]
  },
  {
   "cell_type": "code",
   "execution_count": null,
   "metadata": {},
   "outputs": [],
   "source": [
    "weather_grid = gridplot([[weather_scatter], [weather_scatter_zoom]])\n",
    "show(weather_grid)"
   ]
  },
  {
   "cell_type": "markdown",
   "metadata": {
    "colab_type": "text",
    "id": "5lkbFHfaUAmY"
   },
   "source": [
    "### Labels and Annotations"
   ]
  },
  {
   "cell_type": "code",
   "execution_count": null,
   "metadata": {},
   "outputs": [],
   "source": [
    "from bokeh.models.annotations import Label, LabelSet, Arrow\n",
    "from bokeh.models.arrow_heads import NormalHead\n",
    "\n",
    "output_notebook()"
   ]
  },
  {
   "cell_type": "code",
   "execution_count": null,
   "metadata": {},
   "outputs": [],
   "source": [
    "# data\n",
    "fig_with_label_data = ColumnDataSource({'x': np.arange(10), \n",
    "                                        'y': [4, 7, 5, 5, 9, 2, 3, 4, 3, 4]})"
   ]
  },
  {
   "cell_type": "code",
   "execution_count": null,
   "metadata": {},
   "outputs": [],
   "source": [
    "# plot\n",
    "fig_with_label = figure()\n",
    "fig_with_label.line(x='x', y='y', source=fig_with_label_data)"
   ]
  },
  {
   "cell_type": "code",
   "execution_count": null,
   "metadata": {},
   "outputs": [],
   "source": [
    "# add label\n",
    "label = Label(x=4, y=9, x_offset=10, text='Higest Point', text_baseline='middle')\n",
    "fig_with_label.add_layout(label)"
   ]
  },
  {
   "cell_type": "code",
   "execution_count": null,
   "metadata": {},
   "outputs": [],
   "source": [
    "# add multiple labels\n",
    "labels = LabelSet(x='x', y='y', text='y', level='glyph', source=fig_with_label_data)\n",
    "fig_with_label.add_layout(labels)"
   ]
  },
  {
   "cell_type": "code",
   "execution_count": null,
   "metadata": {},
   "outputs": [],
   "source": [
    "# arrow annotation\n",
    "fig_with_label.add_layout(Arrow(end=NormalHead(fill_color='orange'), x_start=5, y_start=7.5, x_end=4.5, y_end=8.8))"
   ]
  },
  {
   "cell_type": "code",
   "execution_count": null,
   "metadata": {
    "colab": {
     "base_uri": "https://localhost:8080/",
     "height": 647
    },
    "colab_type": "code",
    "id": "YC2-Ex3ET_5N",
    "outputId": "3deecc76-79e5-4d85-8055-c6a323a1d06c"
   },
   "outputs": [],
   "source": [
    "show(fig_with_label)"
   ]
  },
  {
   "cell_type": "markdown",
   "metadata": {
    "colab_type": "text",
    "id": "AwJxRUYj_9oa"
   },
   "source": [
    "### Color Bar"
   ]
  },
  {
   "cell_type": "code",
   "execution_count": null,
   "metadata": {
    "colab": {
     "base_uri": "https://localhost:8080/",
     "height": 204
    },
    "colab_type": "code",
    "id": "aCH4CksZBF43",
    "outputId": "05946b3e-2132-4764-fe6f-5204d87abfa7"
   },
   "outputs": [],
   "source": [
    "cars.head()"
   ]
  },
  {
   "cell_type": "code",
   "execution_count": null,
   "metadata": {},
   "outputs": [],
   "source": [
    "from bokeh.models import LinearColorMapper, ColorBar\n",
    "from bokeh.transform import transform"
   ]
  },
  {
   "cell_type": "code",
   "execution_count": null,
   "metadata": {},
   "outputs": [],
   "source": [
    "# data\n",
    "# use vega_datasets cars data\n",
    "\n",
    "# map numbers in a range low, high - linearly into a sequence of colors (a palette)\n",
    "color_mapper = LinearColorMapper(palette='Viridis256', low=cars.Weight_in_lbs.min(), high=cars.Weight_in_lbs.max())"
   ]
  },
  {
   "cell_type": "code",
   "execution_count": null,
   "metadata": {},
   "outputs": [],
   "source": [
    "# plot\n",
    "colorbar_fig = figure(plot_width=600, plot_height=400, x_axis_label='Horsepower', y_axis_label='Miles_per_Gallon')\n",
    "colorbar_fig.circle(x='Horsepower', \n",
    "                    y='Miles_per_Gallon',\n",
    "                    source=cars,\n",
    "                    color=transform('Weight_in_lbs', color_mapper), \n",
    "                    size=15, \n",
    "                    alpha=0.5)"
   ]
  },
  {
   "cell_type": "code",
   "execution_count": null,
   "metadata": {},
   "outputs": [],
   "source": [
    "# render a color bar based on a color mapper\n",
    "color_bar = ColorBar(color_mapper=color_mapper, label_standoff=12, location=(0,0), title='Weight')\n",
    "colorbar_fig.add_layout(color_bar, 'right')"
   ]
  },
  {
   "cell_type": "code",
   "execution_count": null,
   "metadata": {
    "colab": {
     "base_uri": "https://localhost:8080/",
     "height": 447
    },
    "colab_type": "code",
    "id": "NDTdUq8B_8SS",
    "outputId": "adfed17b-56ef-46e5-d034-3a248ec32696"
   },
   "outputs": [],
   "source": [
    "show(colorbar_fig)"
   ]
  },
  {
   "cell_type": "markdown",
   "metadata": {},
   "source": [
    "### Map"
   ]
  },
  {
   "cell_type": "code",
   "execution_count": null,
   "metadata": {},
   "outputs": [],
   "source": [
    "# convert longitude, latitude to mercator coordinates\n",
    "# example - Detroit Michigan 42.334197, -83.047752"
   ]
  },
  {
   "cell_type": "code",
   "execution_count": null,
   "metadata": {},
   "outputs": [],
   "source": [
    "from pyproj import Proj, transform"
   ]
  },
  {
   "cell_type": "code",
   "execution_count": null,
   "metadata": {},
   "outputs": [],
   "source": [
    "def create_coordinates(long_arg,lat_arg):\n",
    "    in_wgs = Proj(init='epsg:4326')\n",
    "    out_mercator = Proj(init='epsg:3857')\n",
    "    long, lat = long_arg, lat_arg\n",
    "    mercator_x, mercator_y = transform(in_wgs, out_mercator, long, lat)\n",
    "    print(mercator_x, mercator_y)"
   ]
  },
  {
   "cell_type": "code",
   "execution_count": null,
   "metadata": {},
   "outputs": [],
   "source": [
    "# Detroit\n",
    "create_coordinates(-83.047752,42.334197)"
   ]
  },
  {
   "cell_type": "code",
   "execution_count": null,
   "metadata": {},
   "outputs": [],
   "source": [
    "# Cleveland\n",
    "create_coordinates(-81.694703,41.499437)"
   ]
  },
  {
   "cell_type": "code",
   "execution_count": null,
   "metadata": {},
   "outputs": [],
   "source": [
    "# Chicago \n",
    "create_coordinates(-87.629849,41.878111)"
   ]
  },
  {
   "cell_type": "code",
   "execution_count": null,
   "metadata": {},
   "outputs": [],
   "source": [
    "from bokeh.tile_providers import get_provider, Vendors"
   ]
  },
  {
   "cell_type": "code",
   "execution_count": null,
   "metadata": {},
   "outputs": [],
   "source": [
    "tile_provider = get_provider(Vendors.CARTODBPOSITRON)\n",
    "# tile_provider = get_provider(Vendors.STAMEN_TONER_BACKGROUND)"
   ]
  },
  {
   "cell_type": "code",
   "execution_count": null,
   "metadata": {},
   "outputs": [],
   "source": [
    "# range bounds supplied in web mercator coordinates\n",
    "m = figure(plot_width=800, \n",
    "           plot_height=400,\n",
    "           x_range=(-12000000, 9000000), \n",
    "           y_range=(-1000000, 7000000), \n",
    "           x_axis_type='mercator', \n",
    "           y_axis_type='mercator')"
   ]
  },
  {
   "cell_type": "code",
   "execution_count": null,
   "metadata": {},
   "outputs": [],
   "source": [
    "m.add_tile(tile_provider)"
   ]
  },
  {
   "cell_type": "code",
   "execution_count": null,
   "metadata": {},
   "outputs": [],
   "source": [
    "m.circle(x=-9244833, y=5211172, size=10, color='red')\n",
    "m.circle(x=-9094212, y=5086289, size=10, color='blue')\n",
    "m.circle(x=-9754910, y=5142738, size=10, color='orange')"
   ]
  },
  {
   "cell_type": "code",
   "execution_count": null,
   "metadata": {},
   "outputs": [],
   "source": [
    "show(m)"
   ]
  },
  {
   "cell_type": "markdown",
   "metadata": {
    "colab_type": "text",
    "id": "TFuk6elUG7h5"
   },
   "source": [
    "### Interactive Widgets"
   ]
  },
  {
   "cell_type": "code",
   "execution_count": null,
   "metadata": {},
   "outputs": [],
   "source": [
    "# change size of scatter plot circles\n",
    "from bokeh.layouts import column\n",
    "from bokeh.models import Slider"
   ]
  },
  {
   "cell_type": "code",
   "execution_count": null,
   "metadata": {},
   "outputs": [],
   "source": [
    "# create figure and plot\n",
    "change_plot_size = figure(plot_width=600, plot_height=300)\n",
    "change_plot_size_r = change_plot_size.circle([1,2,3,4,5], [3,2,5,6,4], radius=0.1, alpha=0.5)"
   ]
  },
  {
   "cell_type": "code",
   "execution_count": null,
   "metadata": {},
   "outputs": [],
   "source": [
    "# create widget and link\n",
    "slider = Slider(start=0.1, end=1, step=0.01, value=0.2)\n",
    "slider.js_link('value', change_plot_size_r.glyph, 'radius')"
   ]
  },
  {
   "cell_type": "code",
   "execution_count": null,
   "metadata": {
    "colab": {},
    "colab_type": "code",
    "id": "Y28PkVK_V6v2"
   },
   "outputs": [],
   "source": [
    "show(column(change_plot_size, slider))"
   ]
  },
  {
   "cell_type": "code",
   "execution_count": null,
   "metadata": {},
   "outputs": [],
   "source": [
    "from sklearn import linear_model\n",
    "from bokeh.layouts import layout\n",
    "from bokeh.models import Toggle\n",
    "import numpy as np"
   ]
  },
  {
   "cell_type": "code",
   "execution_count": null,
   "metadata": {},
   "outputs": [],
   "source": [
    "# data\n",
    "x = [1,2,3,4,5,6,7,8,9,10]\n",
    "X = np.array(x).reshape(-1, 1)\n",
    "y = [2,2,4,1,5,6,8,2,3,7]\n",
    "Y = np.array(y).reshape(-1, 1)"
   ]
  },
  {
   "cell_type": "code",
   "execution_count": null,
   "metadata": {},
   "outputs": [],
   "source": [
    "# linear regression object\n",
    "regr = linear_model.LinearRegression()"
   ]
  },
  {
   "cell_type": "code",
   "execution_count": null,
   "metadata": {},
   "outputs": [],
   "source": [
    "# fit linear model\n",
    "regr.fit(X, Y)"
   ]
  },
  {
   "cell_type": "code",
   "execution_count": null,
   "metadata": {},
   "outputs": [],
   "source": [
    "# make predictions\n",
    "pred = regr.predict(X)"
   ]
  },
  {
   "cell_type": "code",
   "execution_count": null,
   "metadata": {},
   "outputs": [],
   "source": [
    "# plot with regression line\n",
    "regr_plot = figure(plot_width=500, plot_height=300)\n",
    "regr_plot.scatter(x, y, size=10)\n",
    "regr_line = regr_plot.line(x, pred.flatten(), line_color='red')\n",
    "\n",
    "toggle_button = Toggle(label='line of best fit', button_type='success', active=True)\n",
    "toggle_button.js_link('active', regr_line, 'visible')\n"
   ]
  },
  {
   "cell_type": "code",
   "execution_count": null,
   "metadata": {},
   "outputs": [],
   "source": [
    "show(layout([regr_plot], [toggle_button]))"
   ]
  },
  {
   "cell_type": "code",
   "execution_count": null,
   "metadata": {},
   "outputs": [],
   "source": [
    "# slider.js_link?"
   ]
  },
  {
   "cell_type": "markdown",
   "metadata": {},
   "source": [
    "### Interactive Widgets with ipywidgets"
   ]
  },
  {
   "cell_type": "code",
   "execution_count": null,
   "metadata": {},
   "outputs": [],
   "source": [
    "seattle_weather['year'] = pd.DatetimeIndex(seattle_weather['date']).year\n",
    "seattle_weather.tail()"
   ]
  },
  {
   "cell_type": "code",
   "execution_count": null,
   "metadata": {},
   "outputs": [],
   "source": [
    "import ipywidgets\n",
    "from bokeh.io import push_notebook\n",
    "from bokeh.models import Range1d"
   ]
  },
  {
   "cell_type": "code",
   "execution_count": null,
   "metadata": {},
   "outputs": [],
   "source": [
    "sw = seattle_weather.copy()"
   ]
  },
  {
   "cell_type": "code",
   "execution_count": null,
   "metadata": {},
   "outputs": [],
   "source": [
    "# widget\n",
    "drop_down = ipywidgets.Dropdown(options=[2012, 2013, 2014, 2015],\n",
    "                                value=2012,\n",
    "                                description='years:',\n",
    "                                disabled=False)"
   ]
  },
  {
   "cell_type": "code",
   "execution_count": null,
   "metadata": {},
   "outputs": [],
   "source": [
    "# data\n",
    "x_bar_data_ipyw = ['precipitation', 'temp_max', 'temp_min', 'wind']\n",
    "y_bar_data_ipyw = [sw[sw.year==2012]['precipitation'].mean(), \n",
    "                   sw[sw.year==2012]['temp_max'].mean(), \n",
    "                   sw[sw.year==2012]['temp_min'].mean(), \n",
    "                   sw[sw.year==2012]['wind'].mean()]"
   ]
  },
  {
   "cell_type": "code",
   "execution_count": null,
   "metadata": {},
   "outputs": [],
   "source": [
    "# figure and plot\n",
    "bar_chart_interactive = figure(x_range=x_bar_data_ipyw, plot_height=300)\n",
    "bar_ipyw = bar_chart_interactive.vbar(x_bar_data_ipyw, top=y_bar_data_ipyw, color='green', width=0.5)\n",
    "bar_chart_interactive.y_range=Range1d(0, 18)"
   ]
  },
  {
   "cell_type": "code",
   "execution_count": null,
   "metadata": {},
   "outputs": [],
   "source": [
    "# function - bar chart\n",
    "def weather_averages(year):\n",
    "    if year == 2012: \n",
    "        bar_ipyw.data_source.data['top'] = [sw[sw.year==2012]['precipitation'].mean(), \n",
    "                                            sw[sw.year==2012]['temp_max'].mean(), \n",
    "                                            sw[sw.year==2012]['temp_min'].mean(), \n",
    "                                            sw[sw.year==2012]['wind'].mean()]\n",
    "    elif year == 2013: \n",
    "        bar_ipyw.data_source.data['top'] = [sw[sw.year==2013]['precipitation'].mean(), \n",
    "                                            sw[sw.year==2013]['temp_max'].mean(), \n",
    "                                            sw[sw.year==2013]['temp_min'].mean(), \n",
    "                                            sw[sw.year==2013]['wind'].mean()]\n",
    "    elif year == 2014: \n",
    "        bar_ipyw.data_source.data['top'] = [sw[sw.year==2014]['precipitation'].mean(), \n",
    "                                            sw[sw.year==2014]['temp_max'].mean(), \n",
    "                                            sw[sw.year==2014]['temp_min'].mean(), \n",
    "                                            sw[sw.year==2014]['wind'].mean()]\n",
    "    elif year == 2015: \n",
    "        bar_ipyw.data_source.data['top'] = [sw[sw.year==2015]['precipitation'].mean(), \n",
    "                                            sw[sw.year==2015]['temp_max'].mean(), \n",
    "                                            sw[sw.year==2015]['temp_min'].mean(), \n",
    "                                            sw[sw.year==2015]['wind'].mean()]\n",
    "    push_notebook()\n",
    "\n",
    "show(bar_chart_interactive, notebook_handle=True)"
   ]
  },
  {
   "cell_type": "code",
   "execution_count": null,
   "metadata": {},
   "outputs": [],
   "source": [
    "# interaction\n",
    "ipywidgets.interact(weather_averages, year=drop_down)"
   ]
  },
  {
   "cell_type": "code",
   "execution_count": null,
   "metadata": {},
   "outputs": [],
   "source": [
    "sw.groupby('year').mean().T"
   ]
  },
  {
   "cell_type": "markdown",
   "metadata": {},
   "source": [
    "### More\n",
    "* Embed images, etc. in tooltip example (Configuring Plot Tools - Mouse over the dots)\n",
    "* More examples in documentation"
   ]
  }
 ],
 "metadata": {
  "colab": {
   "collapsed_sections": [],
   "name": "Python Bokeh.ipynb",
   "provenance": [],
   "version": "0.3.2"
  },
  "kernelspec": {
   "display_name": "Python 3",
   "language": "python",
   "name": "python3"
  },
  "language_info": {
   "codemirror_mode": {
    "name": "ipython",
    "version": 3
   },
   "file_extension": ".py",
   "mimetype": "text/x-python",
   "name": "python",
   "nbconvert_exporter": "python",
   "pygments_lexer": "ipython3",
   "version": "3.8.5"
  },
  "varInspector": {
   "cols": {
    "lenName": 16,
    "lenType": 16,
    "lenVar": 40
   },
   "kernels_config": {
    "python": {
     "delete_cmd_postfix": "",
     "delete_cmd_prefix": "del ",
     "library": "var_list.py",
     "varRefreshCmd": "print(var_dic_list())"
    },
    "r": {
     "delete_cmd_postfix": ") ",
     "delete_cmd_prefix": "rm(",
     "library": "var_list.r",
     "varRefreshCmd": "cat(var_dic_list()) "
    }
   },
   "types_to_exclude": [
    "module",
    "function",
    "builtin_function_or_method",
    "instance",
    "_Feature"
   ],
   "window_display": false
  }
 },
 "nbformat": 4,
 "nbformat_minor": 1
}
