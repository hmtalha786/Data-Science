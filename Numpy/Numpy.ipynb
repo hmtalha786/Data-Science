{
 "cells": [
  {
   "cell_type": "code",
   "execution_count": 1,
   "metadata": {},
   "outputs": [],
   "source": [
    "import numpy as np"
   ]
  },
  {
   "cell_type": "markdown",
   "metadata": {},
   "source": [
    "Array Notation"
   ]
  },
  {
   "cell_type": "code",
   "execution_count": 7,
   "metadata": {},
   "outputs": [
    {
     "name": "stdout",
     "output_type": "stream",
     "text": [
      "[1 2 3]\n",
      "[[1 2 3]\n",
      " [4 5 6]]\n",
      "[[1 2 3]\n",
      " [4 5 6]\n",
      " [7 8 6]]\n"
     ]
    }
   ],
   "source": [
    "# All the Row and Column Matrices are consider as one dimention arrays\n",
    "\n",
    "one_D_array = np.array([1,2,3])     # One Dimensional Array\n",
    "print(one_D_array)\n",
    "\n",
    "two_D_array = np.array([(1,2,3),(4,5,6)])     # Two Dimensional Array\n",
    "print(two_D_array)\n",
    "\n",
    "three_D_array = np.array([(1,2,3),(4,5,6),(7,8,6)])     # Three Dimensional Array ..... and So on .....\n",
    "print(three_D_array)"
   ]
  },
  {
   "cell_type": "code",
   "execution_count": null,
   "metadata": {},
   "outputs": [],
   "source": []
  },
  {
   "cell_type": "code",
   "execution_count": null,
   "metadata": {},
   "outputs": [],
   "source": []
  }
 ],
 "metadata": {
  "kernelspec": {
   "display_name": "Python 3",
   "language": "python",
   "name": "python3"
  },
  "language_info": {
   "codemirror_mode": {
    "name": "ipython",
    "version": 3
   },
   "file_extension": ".py",
   "mimetype": "text/x-python",
   "name": "python",
   "nbconvert_exporter": "python",
   "pygments_lexer": "ipython3",
   "version": "3.8.5"
  }
 },
 "nbformat": 4,
 "nbformat_minor": 4
}
