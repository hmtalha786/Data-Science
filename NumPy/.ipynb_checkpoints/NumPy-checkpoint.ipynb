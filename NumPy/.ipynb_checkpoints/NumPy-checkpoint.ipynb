{
 "cells": [
  {
   "cell_type": "markdown",
   "metadata": {},
   "source": [
    "## NumPy Imports"
   ]
  },
  {
   "cell_type": "code",
   "execution_count": null,
   "metadata": {},
   "outputs": [],
   "source": [
    "# Import Numpy Library\n",
    "# Use alias as np because it is global convention\n",
    "import numpy as np"
   ]
  },
  {
   "cell_type": "code",
   "execution_count": null,
   "metadata": {},
   "outputs": [],
   "source": [
    "# Import random module from Numpy Library\n",
    "from numpy import random"
   ]
  },
  {
   "cell_type": "code",
   "execution_count": null,
   "metadata": {},
   "outputs": [],
   "source": [
    "# Provides beautiful plots of numerous type \n",
    "# that are either static, animated and/or interactive\n",
    "import matplotlib.pylab as plt"
   ]
  },
  {
   "cell_type": "markdown",
   "metadata": {},
   "source": [
    "## NumPy Array Creation"
   ]
  },
  {
   "cell_type": "code",
   "execution_count": null,
   "metadata": {},
   "outputs": [],
   "source": [
    "# A Python list\n",
    "list_1 = [1, 2, 3, 4, 5]"
   ]
  },
  {
   "cell_type": "code",
   "execution_count": null,
   "metadata": {},
   "outputs": [],
   "source": [
    "# Create NumPy 1 dimensional (1 axis) array list object of type byte (-128 to 127)\n",
    "# A N-dimensional array is a usyally fixed size multidimensional array that contains items of the same type. \n",
    "np_arr_1 = np.array(list_1, dtype=np.int8)\n",
    "np_arr_1"
   ]
  },
  {
   "cell_type": "code",
   "execution_count": null,
   "metadata": {},
   "outputs": [],
   "source": [
    "# Create multidimenional list\n",
    "m_list_1 = [[1, 2, 3], [4, 5, 6], [7, 8, 9]]"
   ]
  },
  {
   "cell_type": "code",
   "execution_count": null,
   "metadata": {},
   "outputs": [],
   "source": [
    "# Create NumPy multidimensional (2 axis) array without defining type\n",
    "np_m_arr_1 = np.array(m_list_1)"
   ]
  },
  {
   "cell_type": "code",
   "execution_count": null,
   "metadata": {},
   "outputs": [],
   "source": [
    "# You can also create arrays by defining the start value,stop value (up to but not include stop) and step amount\n",
    "np.arange(1, 10)"
   ]
  },
  {
   "cell_type": "code",
   "execution_count": null,
   "metadata": {},
   "outputs": [],
   "source": [
    "# With floats define start, end and number of values\n",
    "np.linspace(0, 5, 7)"
   ]
  },
  {
   "cell_type": "code",
   "execution_count": null,
   "metadata": {},
   "outputs": [],
   "source": [
    "# You can create a 3 item array of zeroes\n",
    "np.zeros(4)"
   ]
  },
  {
   "cell_type": "code",
   "execution_count": null,
   "metadata": {},
   "outputs": [],
   "source": [
    "# You can create multidimensional arrays of zeroes by passing\n",
    "# a tuple with the 1st value being rows and the 2nd columns\n",
    "np.zeros((2, 3))"
   ]
  },
  {
   "cell_type": "code",
   "execution_count": null,
   "metadata": {},
   "outputs": [],
   "source": [
    "# Create array of 1s\n",
    "np.ones((2, 3))"
   ]
  },
  {
   "cell_type": "code",
   "execution_count": null,
   "metadata": {},
   "outputs": [],
   "source": [
    "# Get number of items in the array\n",
    "np_m_arr_1.size"
   ]
  },
  {
   "cell_type": "code",
   "execution_count": null,
   "metadata": {},
   "outputs": [],
   "source": [
    "# Create array with defined values\n",
    "np_arr_2 = np.array([1, 2, 3, 4, 5, 6])"
   ]
  },
  {
   "cell_type": "code",
   "execution_count": null,
   "metadata": {},
   "outputs": [],
   "source": [
    "# Get type for array\n",
    "np_arr_2.dtype"
   ]
  },
  {
   "cell_type": "code",
   "execution_count": null,
   "metadata": {},
   "outputs": [],
   "source": [
    "# Data Types\n",
    "# Boolean : np.bool_\n",
    "# Char : np.byte\n",
    "# Short : np.short\n",
    "# Integer : np.short\n",
    "# Long : np.int_\n",
    "# Float : np.single & np.float32\n",
    "# Double : np.double & np.float64\n",
    "# np.int8 : -128 to 127\n",
    "# np.int16 : -32768 to 32767\n",
    "# np.int32 : -2147483648 to 2147483647\n",
    "# np.int64 : -9223372036854775808 to 9223372036854775807"
   ]
  },
  {
   "cell_type": "code",
   "execution_count": null,
   "metadata": {},
   "outputs": [],
   "source": [
    "# Create random 5 value 1D array from 10 to 50\n",
    "np.random.randint(10, 50, 5)"
   ]
  },
  {
   "cell_type": "code",
   "execution_count": null,
   "metadata": {
    "scrolled": true
   },
   "outputs": [],
   "source": [
    "# Create random matrix 2x3 with values between 10 and 50\n",
    "np.random.randint(10, 50, size=(2, 3))"
   ]
  },
  {
   "cell_type": "code",
   "execution_count": null,
   "metadata": {},
   "outputs": [],
   "source": [
    "# Get help with a function\n",
    "np.random.randint?"
   ]
  },
  {
   "cell_type": "markdown",
   "metadata": {},
   "source": [
    "## Slicing and Indexes"
   ]
  },
  {
   "cell_type": "code",
   "execution_count": null,
   "metadata": {},
   "outputs": [],
   "source": [
    "# Change value at index\n",
    "# np_m_arr_1[0,0] = 2\n",
    "# np_m_arr_1.itemset((0,1), 1)\n",
    "np_m_arr_1"
   ]
  },
  {
   "cell_type": "code",
   "execution_count": null,
   "metadata": {},
   "outputs": [],
   "source": [
    "# Get size of array\n",
    "np_m_arr_1.shape"
   ]
  },
  {
   "cell_type": "code",
   "execution_count": null,
   "metadata": {},
   "outputs": [],
   "source": [
    "# Get value by index\n",
    "np_m_arr_1[0,1]\n"
   ]
  },
  {
   "cell_type": "code",
   "execution_count": null,
   "metadata": {},
   "outputs": [],
   "source": [
    "# Get value by index\n",
    "np_m_arr_1.item(0,1)"
   ]
  },
  {
   "cell_type": "code",
   "execution_count": null,
   "metadata": {},
   "outputs": [],
   "source": [
    "# Get specific indices\n",
    "np.take(np_m_arr_1, [0, 3, 6])"
   ]
  },
  {
   "cell_type": "code",
   "execution_count": null,
   "metadata": {},
   "outputs": [],
   "source": [
    "# Replace provided index values with new values\n",
    "np.put(np_m_arr_1, [0, 3, 6], [10, 10, 10])\n",
    "print(np_m_arr_1)"
   ]
  },
  {
   "cell_type": "code",
   "execution_count": null,
   "metadata": {},
   "outputs": [],
   "source": [
    "# Start at 1st through 5th with 2 step\n",
    "np_arr_1[:5:2]"
   ]
  },
  {
   "cell_type": "code",
   "execution_count": null,
   "metadata": {},
   "outputs": [],
   "source": [
    "# Get 2nd value from each row\n",
    "np_m_arr_1[:,1]"
   ]
  },
  {
   "cell_type": "code",
   "execution_count": null,
   "metadata": {},
   "outputs": [],
   "source": [
    "# Flip Array\n",
    "np_arr_1[::-1]"
   ]
  },
  {
   "cell_type": "code",
   "execution_count": null,
   "metadata": {},
   "outputs": [],
   "source": [
    "# Get evens\n",
    "evens = np_m_arr_1[np_m_arr_1%2==0]\n",
    "evens"
   ]
  },
  {
   "cell_type": "code",
   "execution_count": null,
   "metadata": {},
   "outputs": [],
   "source": [
    "# Get values > 5\n",
    "np_m_arr_1[np_m_arr_1 > 5]"
   ]
  },
  {
   "cell_type": "code",
   "execution_count": null,
   "metadata": {},
   "outputs": [],
   "source": [
    "# 5 < value < 9\n",
    "np_m_arr_1[(np_m_arr_1 > 5) & (np_m_arr_1 < 9)]"
   ]
  },
  {
   "cell_type": "code",
   "execution_count": null,
   "metadata": {},
   "outputs": [],
   "source": [
    "# 5 < value or value = 10\n",
    "np_m_arr_1[(np_m_arr_1 > 5) | (np_m_arr_1 == 10)]"
   ]
  },
  {
   "cell_type": "code",
   "execution_count": null,
   "metadata": {},
   "outputs": [],
   "source": [
    "# Find uniques\n",
    "np.unique(np_m_arr_1)"
   ]
  },
  {
   "cell_type": "markdown",
   "metadata": {},
   "source": [
    "## Reshaping Arrays"
   ]
  },
  {
   "cell_type": "code",
   "execution_count": null,
   "metadata": {},
   "outputs": [],
   "source": [
    "# Reshape array to 1 by 9\n",
    "np_m_arr_1.reshape((1, 9))"
   ]
  },
  {
   "cell_type": "code",
   "execution_count": null,
   "metadata": {},
   "outputs": [],
   "source": [
    "# Reshape array to 9 by 1 (Items are either lost or 0s added)\n",
    "np_m_arr_1.resize((9,1))\n",
    "np_m_arr_1"
   ]
  },
  {
   "cell_type": "code",
   "execution_count": null,
   "metadata": {},
   "outputs": [],
   "source": [
    "# Transpose axes\n",
    "np_m_arr_1.transpose()"
   ]
  },
  {
   "cell_type": "code",
   "execution_count": null,
   "metadata": {},
   "outputs": [],
   "source": [
    "# Swap axes \n",
    "np_m_arr_1.swapaxes(0,1)"
   ]
  },
  {
   "cell_type": "code",
   "execution_count": null,
   "metadata": {},
   "outputs": [],
   "source": [
    "# Flatten in order\n",
    "np_m_arr_1.flatten()"
   ]
  },
  {
   "cell_type": "code",
   "execution_count": null,
   "metadata": {},
   "outputs": [],
   "source": [
    "# Flatten in column order\n",
    "np_m_arr_1.flatten('F')"
   ]
  },
  {
   "cell_type": "code",
   "execution_count": null,
   "metadata": {},
   "outputs": [],
   "source": [
    "# Sort rows\n",
    "np_m_arr_1.sort(axis=1)\n",
    "print(np_m_arr_1)"
   ]
  },
  {
   "cell_type": "code",
   "execution_count": null,
   "metadata": {},
   "outputs": [],
   "source": [
    "# Sort columns\n",
    "np_m_arr_1.sort(axis=0)\n",
    "np_m_arr_1"
   ]
  },
  {
   "cell_type": "markdown",
   "metadata": {},
   "source": [
    "## Stacking & Splitting"
   ]
  },
  {
   "cell_type": "code",
   "execution_count": null,
   "metadata": {},
   "outputs": [],
   "source": [
    "# Generate random arrays\n",
    "ss_arr_1 = np.random.randint(10, size=(2, 2))\n",
    "print(\"ss_arr_1\\n\", ss_arr_1)\n",
    "ss_arr_2 = np.random.randint(10, size=(2, 2))\n",
    "print(\"ss_arr_2\\n\", ss_arr_2)"
   ]
  },
  {
   "cell_type": "code",
   "execution_count": null,
   "metadata": {},
   "outputs": [],
   "source": [
    "# Stack Vertically (arr_2 under arr_1)\n",
    "np.vstack((ss_arr_1, ss_arr_2))"
   ]
  },
  {
   "cell_type": "code",
   "execution_count": null,
   "metadata": {},
   "outputs": [],
   "source": [
    "# Stack horizontally\n",
    "np.hstack((ss_arr_1, ss_arr_2))"
   ]
  },
  {
   "cell_type": "code",
   "execution_count": null,
   "metadata": {},
   "outputs": [],
   "source": [
    "# Delete 2nd row on each array\n",
    "ss_arr_3 = np.delete(ss_arr_1, 1, 0)\n",
    "ss_arr_4 = np.delete(ss_arr_2, 1, 0)\n",
    "print(\"ss_arr_3\\n\", ss_arr_3)\n",
    "print(\"ss_arr_4\\n\", ss_arr_4)"
   ]
  },
  {
   "cell_type": "code",
   "execution_count": null,
   "metadata": {},
   "outputs": [],
   "source": [
    "# Combine arrays\n",
    "np.column_stack((ss_arr_3, ss_arr_4))"
   ]
  },
  {
   "cell_type": "code",
   "execution_count": null,
   "metadata": {},
   "outputs": [],
   "source": [
    "# Stack row wise in a 2D array\n",
    "np.row_stack((ss_arr_3, ss_arr_4))"
   ]
  },
  {
   "cell_type": "code",
   "execution_count": null,
   "metadata": {},
   "outputs": [],
   "source": [
    "# Generate 2x10 array\n",
    "ss_arr_5 = np.random.randint(10, size=(2, 10))\n",
    "print(\"ss_arr_5\\n\", ss_arr_5)"
   ]
  },
  {
   "cell_type": "code",
   "execution_count": null,
   "metadata": {},
   "outputs": [],
   "source": [
    "# Split into 5 arrays taking from both arrays in multidimensional array\n",
    "np.hsplit(ss_arr_5, 5)"
   ]
  },
  {
   "cell_type": "code",
   "execution_count": null,
   "metadata": {},
   "outputs": [],
   "source": [
    "# Split after 2nd & 4th column\n",
    "np.hsplit(ss_arr_5, (2, 4))"
   ]
  },
  {
   "cell_type": "markdown",
   "metadata": {},
   "source": [
    "## Copy and View"
   ]
  },
  {
   "cell_type": "code",
   "execution_count": null,
   "metadata": {},
   "outputs": [],
   "source": [
    "cp_arr_1 = np.random.randint(10, size=(2, 2))\n",
    "cp_arr_1"
   ]
  },
  {
   "cell_type": "code",
   "execution_count": null,
   "metadata": {},
   "outputs": [],
   "source": [
    "# Both variables point at the same array\n",
    "cp_arr_2 = cp_arr_1\n",
    "cp_arr_2"
   ]
  },
  {
   "cell_type": "code",
   "execution_count": null,
   "metadata": {},
   "outputs": [],
   "source": [
    "# Change value\n",
    "cp_arr_1[0,0] = 2\n",
    "print(\"cp_arr_1\\n\", cp_arr_1)\n",
    "print(\"cp_arr_2\\n\", cp_arr_2)"
   ]
  },
  {
   "cell_type": "code",
   "execution_count": null,
   "metadata": {},
   "outputs": [],
   "source": [
    "# Create a view of data where changes don't effect original\n",
    "cp_arr_3 = cp_arr_1.view()\n",
    "print(\"cp_arr_3\\n\", cp_arr_3)"
   ]
  },
  {
   "cell_type": "code",
   "execution_count": null,
   "metadata": {},
   "outputs": [],
   "source": [
    "cp_arr_3 = cp_arr_3.flatten('F')\n",
    "print(\"cp_arr_3\\n\", cp_arr_3)\n",
    "print(\"cp_arr_1\\n\", cp_arr_1)"
   ]
  },
  {
   "cell_type": "code",
   "execution_count": null,
   "metadata": {},
   "outputs": [],
   "source": [
    "# Copy and create new array\n",
    "cp_arr_4 = cp_arr_1.copy()\n",
    "cp_arr_4"
   ]
  },
  {
   "cell_type": "markdown",
   "metadata": {},
   "source": [
    "## Basic Mathematics"
   ]
  },
  {
   "cell_type": "code",
   "execution_count": null,
   "metadata": {},
   "outputs": [],
   "source": [
    "arr_3 = np.array([1, 2, 3, 4])\n",
    "arr_4 = np.array([2, 4, 6, 8])\n",
    "print(arr_3)\n",
    "print(arr_4)"
   ]
  },
  {
   "cell_type": "code",
   "execution_count": null,
   "metadata": {},
   "outputs": [],
   "source": [
    "# Add values\n",
    "arr_3 + arr_4"
   ]
  },
  {
   "cell_type": "code",
   "execution_count": null,
   "metadata": {},
   "outputs": [],
   "source": [
    "# Subtract\n",
    "arr_3 - arr_4"
   ]
  },
  {
   "cell_type": "code",
   "execution_count": null,
   "metadata": {},
   "outputs": [],
   "source": [
    "# Multiply\n",
    "arr_3 * arr_4"
   ]
  },
  {
   "cell_type": "code",
   "execution_count": null,
   "metadata": {},
   "outputs": [],
   "source": [
    "# Divide\n",
    "arr_3 / arr_4"
   ]
  },
  {
   "cell_type": "code",
   "execution_count": null,
   "metadata": {},
   "outputs": [],
   "source": [
    "# Random 4 digit 1D array between 0 to 100\n",
    "arr_5 = random.randint(100, size=(4))\n",
    "arr_5"
   ]
  },
  {
   "cell_type": "code",
   "execution_count": null,
   "metadata": {},
   "outputs": [],
   "source": [
    "# Random 2 by 3 digit 2D array between 0 to 100\n",
    "arr_6 = random.randint(100, size=(2, 3))\n",
    "arr_6"
   ]
  },
  {
   "cell_type": "code",
   "execution_count": null,
   "metadata": {},
   "outputs": [],
   "source": [
    "# 4 random floats\n",
    "random.rand(4)"
   ]
  },
  {
   "cell_type": "code",
   "execution_count": null,
   "metadata": {},
   "outputs": [],
   "source": [
    "# Get random value from an array\n",
    "random.choice(arr_3)"
   ]
  },
  {
   "cell_type": "code",
   "execution_count": null,
   "metadata": {},
   "outputs": [],
   "source": [
    "# Sum of values in array\n",
    "arr_3.sum()"
   ]
  },
  {
   "cell_type": "code",
   "execution_count": null,
   "metadata": {},
   "outputs": [],
   "source": [
    "# Sum columns\n",
    "print(arr_6)\n",
    "arr_6.sum(axis=0)"
   ]
  },
  {
   "cell_type": "code",
   "execution_count": null,
   "metadata": {},
   "outputs": [],
   "source": [
    "# Cumulative sum of rows\n",
    "arr_6.cumsum(axis=1)"
   ]
  },
  {
   "cell_type": "code",
   "execution_count": null,
   "metadata": {},
   "outputs": [],
   "source": [
    "# Min of each row\n",
    "arr_6.min(axis=1)"
   ]
  },
  {
   "cell_type": "code",
   "execution_count": null,
   "metadata": {},
   "outputs": [],
   "source": [
    "# Max of each column\n",
    "arr_6.max(axis=0)"
   ]
  },
  {
   "cell_type": "code",
   "execution_count": null,
   "metadata": {},
   "outputs": [],
   "source": [
    "print(\"arr_3\", arr_3)\n",
    "print(\"arr_4\", arr_4)"
   ]
  },
  {
   "cell_type": "code",
   "execution_count": null,
   "metadata": {},
   "outputs": [],
   "source": [
    "# Add individual numbers to array\n",
    "np.add(arr_3, 5)"
   ]
  },
  {
   "cell_type": "code",
   "execution_count": null,
   "metadata": {},
   "outputs": [],
   "source": [
    "# Add arrays\n",
    "np.add(arr_3, arr_4)"
   ]
  },
  {
   "cell_type": "code",
   "execution_count": null,
   "metadata": {},
   "outputs": [],
   "source": [
    "# Subtract\n",
    "np.subtract(arr_3, arr_4)"
   ]
  },
  {
   "cell_type": "code",
   "execution_count": null,
   "metadata": {},
   "outputs": [],
   "source": [
    "# Multiply\n",
    "np.multiply(arr_3, arr_4)"
   ]
  },
  {
   "cell_type": "code",
   "execution_count": null,
   "metadata": {},
   "outputs": [],
   "source": [
    "# Divide\n",
    "np.divide(arr_3, arr_4)"
   ]
  },
  {
   "cell_type": "code",
   "execution_count": null,
   "metadata": {},
   "outputs": [],
   "source": [
    "arr_5 = np.array([[1, 2], [3, 4]])\n",
    "arr_6 = np.array([[2, 4], [6, 9]])\n",
    "print(\"arr_5\\n\", arr_5)\n",
    "print(\"arr_6\\n\", arr_6)"
   ]
  },
  {
   "cell_type": "code",
   "execution_count": null,
   "metadata": {},
   "outputs": [],
   "source": [
    "# Divides elements in 1st array by 2nd array and returns remainder\n",
    "np.remainder(arr_6, arr_5)"
   ]
  },
  {
   "cell_type": "code",
   "execution_count": null,
   "metadata": {},
   "outputs": [],
   "source": [
    "# Return values in 1st array to powers defined in 2nd array\n",
    "np.power(arr_6, arr_5)"
   ]
  },
  {
   "cell_type": "code",
   "execution_count": null,
   "metadata": {},
   "outputs": [],
   "source": [
    "# Square root\n",
    "np.sqrt(arr_3)"
   ]
  },
  {
   "cell_type": "code",
   "execution_count": null,
   "metadata": {},
   "outputs": [],
   "source": [
    "# Cube root\n",
    "np.cbrt(arr_3)"
   ]
  },
  {
   "cell_type": "code",
   "execution_count": null,
   "metadata": {},
   "outputs": [],
   "source": [
    "# Absolute value of every element\n",
    "np.absolute([-1, -2])"
   ]
  },
  {
   "cell_type": "code",
   "execution_count": null,
   "metadata": {},
   "outputs": [],
   "source": [
    "# Exponential of all elements in array\n",
    "np.exp(arr_3)"
   ]
  },
  {
   "cell_type": "code",
   "execution_count": null,
   "metadata": {},
   "outputs": [],
   "source": [
    "# log functions\n",
    "np.log(arr_3)\n",
    "np.log2(arr_3)\n",
    "np.log10(arr_3)"
   ]
  },
  {
   "cell_type": "code",
   "execution_count": null,
   "metadata": {},
   "outputs": [],
   "source": [
    "# Greatest common divisor\n",
    "np.gcd.reduce([9, 12, 15])"
   ]
  },
  {
   "cell_type": "code",
   "execution_count": null,
   "metadata": {},
   "outputs": [],
   "source": [
    "# Lowest common multiple\n",
    "np.lcm.reduce([9, 12, 15])"
   ]
  },
  {
   "cell_type": "code",
   "execution_count": null,
   "metadata": {},
   "outputs": [],
   "source": [
    "# Round down\n",
    "np.floor([1.2, 2.5])"
   ]
  },
  {
   "cell_type": "code",
   "execution_count": null,
   "metadata": {},
   "outputs": [],
   "source": [
    "# Round up\n",
    "np.ceil([1.2, 2.5])"
   ]
  },
  {
   "cell_type": "code",
   "execution_count": null,
   "metadata": {},
   "outputs": [],
   "source": [
    "# Can receive 6 values and square them\n",
    "sq_arr = np.arange(6)**2\n",
    "sq_arr[arr_3]"
   ]
  },
  {
   "cell_type": "code",
   "execution_count": null,
   "metadata": {},
   "outputs": [],
   "source": [
    "arr_7 = random.randint(100, size=(5, 3))\n",
    "print(\"arr_7\\n\", arr_7)"
   ]
  },
  {
   "cell_type": "code",
   "execution_count": null,
   "metadata": {},
   "outputs": [],
   "source": [
    "# Get index for max value per column\n",
    "mc_index = arr_7.argmax(axis=0)\n",
    "mc_index"
   ]
  },
  {
   "cell_type": "code",
   "execution_count": null,
   "metadata": {},
   "outputs": [],
   "source": [
    "# Get numbers corresponding to indexes\n",
    "max_nums = arr_7[mc_index]\n",
    "arr_7[mc_index, range(arr_7.shape[1])]"
   ]
  },
  {
   "cell_type": "markdown",
   "metadata": {},
   "source": [
    "## Reading from Files"
   ]
  },
  {
   "cell_type": "code",
   "execution_count": null,
   "metadata": {},
   "outputs": [],
   "source": [
    "# Pandas is used to manipulate tabular data and more\n",
    "import pandas as pd"
   ]
  },
  {
   "cell_type": "code",
   "execution_count": null,
   "metadata": {},
   "outputs": [],
   "source": [
    "# Import using NumPy\n",
    "from numpy import genfromtxt"
   ]
  },
  {
   "cell_type": "code",
   "execution_count": null,
   "metadata": {},
   "outputs": [],
   "source": [
    "# Read table of data from CSV file and convert to Numpy array\n",
    "ic_sales = pd.read_csv('icecreamsales.csv').to_numpy()\n",
    "ic_sales"
   ]
  },
  {
   "cell_type": "code",
   "execution_count": null,
   "metadata": {},
   "outputs": [],
   "source": [
    "# Read data using NumPy\n",
    "ic_sales_2 = genfromtxt('icecreamsales.csv', delimiter=',')\n",
    "ic_sales_2"
   ]
  },
  {
   "cell_type": "code",
   "execution_count": null,
   "metadata": {},
   "outputs": [],
   "source": [
    "# Remove NANs\n",
    "ic_sales_2 = [row[~np.isnan(row)] for row in ic_sales_2]\n",
    "ic_sales_2"
   ]
  },
  {
   "cell_type": "markdown",
   "metadata": {},
   "source": [
    "## Statistics Functions"
   ]
  },
  {
   "cell_type": "code",
   "execution_count": null,
   "metadata": {},
   "outputs": [],
   "source": [
    "# Array 1 - 5\n",
    "sarr_1 = np.arange(1, 6)\n",
    "print(sarr_1)"
   ]
  },
  {
   "cell_type": "code",
   "execution_count": null,
   "metadata": {},
   "outputs": [],
   "source": [
    "np.mean(sarr_1)"
   ]
  },
  {
   "cell_type": "code",
   "execution_count": null,
   "metadata": {},
   "outputs": [],
   "source": [
    "np.median(sarr_1)"
   ]
  },
  {
   "cell_type": "code",
   "execution_count": null,
   "metadata": {},
   "outputs": [],
   "source": [
    "np.average(sarr_1)"
   ]
  },
  {
   "cell_type": "code",
   "execution_count": null,
   "metadata": {},
   "outputs": [],
   "source": [
    "np.std([4, 6, 3, 5, 2]) # Standard Deviation"
   ]
  },
  {
   "cell_type": "code",
   "execution_count": null,
   "metadata": {},
   "outputs": [],
   "source": [
    "np.var([4, 6, 3, 5, 2]) # Variance"
   ]
  },
  {
   "cell_type": "code",
   "execution_count": null,
   "metadata": {},
   "outputs": [],
   "source": [
    "# Also nanmedian, nanmean, nanstd, nanvar\n",
    "\n",
    "print(\"ic_sales\\n\", ic_sales)"
   ]
  },
  {
   "cell_type": "code",
   "execution_count": null,
   "metadata": {},
   "outputs": [],
   "source": [
    "# Get the 50th percentile of the data\n",
    "np.percentile(ic_sales, 50, axis=0)"
   ]
  },
  {
   "cell_type": "code",
   "execution_count": null,
   "metadata": {},
   "outputs": [],
   "source": [
    "# Get 1st column\n",
    "ic_sales[:,0]\n"
   ]
  },
  {
   "cell_type": "code",
   "execution_count": null,
   "metadata": {},
   "outputs": [],
   "source": [
    "# Correlation coefficient : Measure of correlation between data\n",
    "# Closer to 1 the more the data is correlated\n",
    "np.corrcoef(ic_sales[:,0], ic_sales[:,1])"
   ]
  },
  {
   "cell_type": "code",
   "execution_count": null,
   "metadata": {},
   "outputs": [],
   "source": [
    "# Calculating Regression line\n",
    "# Σ(x-x̅)*(y-ȳ) / Σ(x-x̅)2\n",
    "temp_mean = np.mean(ic_sales[:,0])\n",
    "temp_mean"
   ]
  },
  {
   "cell_type": "code",
   "execution_count": null,
   "metadata": {},
   "outputs": [],
   "source": [
    "sales_mean = np.mean(ic_sales[:,1])\n",
    "sales_mean"
   ]
  },
  {
   "cell_type": "code",
   "execution_count": null,
   "metadata": {},
   "outputs": [],
   "source": [
    "numerator = np.sum(((ic_sales[:,0] - temp_mean)*(ic_sales[:,1] - sales_mean)))\n",
    "numerator"
   ]
  },
  {
   "cell_type": "code",
   "execution_count": null,
   "metadata": {},
   "outputs": [],
   "source": [
    "denominator = np.sum(np.square(ic_sales[:,0] - temp_mean))\n",
    "denominator"
   ]
  },
  {
   "cell_type": "code",
   "execution_count": null,
   "metadata": {},
   "outputs": [],
   "source": [
    "slope = numerator/denominator\n",
    "slope"
   ]
  },
  {
   "cell_type": "code",
   "execution_count": null,
   "metadata": {},
   "outputs": [],
   "source": [
    "# Calculate y intercept\n",
    "y_i = sales_mean - slope * temp_mean\n",
    "y_i"
   ]
  },
  {
   "cell_type": "code",
   "execution_count": null,
   "metadata": {},
   "outputs": [],
   "source": [
    "reg_arr = ic_sales[:,0] * slope + y_i\n",
    "reg_arr"
   ]
  },
  {
   "cell_type": "markdown",
   "metadata": {},
   "source": [
    "## Trigonometric Functions"
   ]
  },
  {
   "cell_type": "code",
   "execution_count": null,
   "metadata": {},
   "outputs": [],
   "source": [
    "# Generate array of 200 values between -pi & pi\n",
    "t_arr = np.linspace(-np.pi, np.pi, 200)\n",
    "t_arr"
   ]
  },
  {
   "cell_type": "code",
   "execution_count": null,
   "metadata": {},
   "outputs": [],
   "source": [
    "# Plot with x axis & y axis data \n",
    "# plt.plot(t_arr, np.sin(t_arr)) # SIN\n",
    "# plt.plot(t_arr, np.cos(t_arr)) # COS\n",
    "# plt.plot(t_arr, np.tan(t_arr)) # TAN\n",
    "# Display plot\n",
    "# plt.show()"
   ]
  },
  {
   "cell_type": "code",
   "execution_count": null,
   "metadata": {},
   "outputs": [],
   "source": [
    "# Provides inverse of If y = cos(x), x = arccos(y)\n",
    "np.arcsin(1)\n",
    "np.arccos(1)\n",
    "np.arctan(0)\n",
    "# Also arctan2, sinh, cosh, tanh, arcsinh, arccosh, arctanh"
   ]
  },
  {
   "cell_type": "code",
   "execution_count": null,
   "metadata": {},
   "outputs": [],
   "source": [
    "# Radians to degrees\n",
    "np.rad2deg(np.pi)"
   ]
  },
  {
   "cell_type": "code",
   "execution_count": null,
   "metadata": {},
   "outputs": [],
   "source": [
    "# Degrees to radians\n",
    "np.deg2rad(180)"
   ]
  },
  {
   "cell_type": "code",
   "execution_count": null,
   "metadata": {},
   "outputs": [],
   "source": [
    "# Hypotenuse c = √w² + h²\n",
    "np.hypot(10,10)"
   ]
  },
  {
   "cell_type": "markdown",
   "metadata": {},
   "source": [
    "## Matrix Functions"
   ]
  },
  {
   "cell_type": "code",
   "execution_count": null,
   "metadata": {},
   "outputs": [],
   "source": [
    "from numpy import linalg as LA"
   ]
  },
  {
   "cell_type": "code",
   "execution_count": null,
   "metadata": {},
   "outputs": [],
   "source": [
    "print(\"arr_5\\n\", arr_5)\n",
    "print(\"arr_6\\n\", arr_6)"
   ]
  },
  {
   "cell_type": "code",
   "execution_count": null,
   "metadata": {},
   "outputs": [],
   "source": [
    "arr_8 = np.array([[5, 6], [7, 8]])"
   ]
  },
  {
   "cell_type": "code",
   "execution_count": null,
   "metadata": {},
   "outputs": [],
   "source": [
    "# Matrix multiplication with Dot Product\n",
    "# (1 * 2) + (2 * 6) = 14 [0,0]\n",
    "# (1 * 4) + (2 * 9) = 22 [0,1]\n",
    "# (3 * 2) + (4 * 6) = 30 [1,0]\n",
    "# (3 * 4) + (4 * 9) = 12 + 36 = 48 [1,1]\n",
    "np.dot(arr_5, arr_6)"
   ]
  },
  {
   "cell_type": "code",
   "execution_count": null,
   "metadata": {},
   "outputs": [],
   "source": [
    "# Compute dot product of 2 or more arrays\n",
    "LA.multi_dot([arr_5, arr_6, arr_8])"
   ]
  },
  {
   "cell_type": "code",
   "execution_count": null,
   "metadata": {},
   "outputs": [],
   "source": [
    "# Inner product \n",
    "# (1 * 2) + (2 * 4) = 10 [0,0]\n",
    "# (1 * 6) + (2 * 9) = 24 [0,1]\n",
    "# (3 * 2) + (4 * 4) = 22 [1,0]\n",
    "# (3 * 6) + (4 * 9) = 54 [1,1]\n",
    "np.inner(arr_5, arr_6)\n",
    "np.dot(arr_5, arr_6)"
   ]
  },
  {
   "cell_type": "code",
   "execution_count": null,
   "metadata": {},
   "outputs": [],
   "source": [
    "# Tensor Dot Product\n",
    "# (1 * 1) + (2 * 2) + (3 * 3) + (4 * 4) = 30\n",
    "# (5 * 1) + (6 * 2) + (7 * 3) + (8 * 4) = \n",
    "arr_9 = np.array([[[1, 2],[3, 4]],[[5, 6],[7, 8]]])\n",
    "arr_10 = np.array([[1, 2],[3, 4]], dtype=object)\n",
    "np.tensordot(arr_9, arr_10)"
   ]
  },
  {
   "cell_type": "code",
   "execution_count": null,
   "metadata": {},
   "outputs": [],
   "source": [
    "# Einstein Summation : Provides many ways to perform\n",
    "# operations on multiple arrays\n",
    "arr_11 = np.array([0, 1])\n",
    "arr_12 = np.array([[0, 1, 2, 3], [4, 5, 6, 7]])"
   ]
  },
  {
   "cell_type": "code",
   "execution_count": null,
   "metadata": {},
   "outputs": [],
   "source": [
    "# Left Side of -> : 1 axis for arr_11 and 2 axis for arr_12\n",
    "# Right of -> : Array we want (1D Array)\n",
    "# ij : Means multiply arr_11 single item by each column of arr_12 and sum\n",
    "# [0, 4 + 5 + 6 + 7]\n",
    "np.einsum('i,ij->i', arr_11, arr_12)"
   ]
  },
  {
   "cell_type": "code",
   "execution_count": null,
   "metadata": {},
   "outputs": [],
   "source": [
    "# Sum values in arr_11\n",
    "np.einsum('i->', arr_11)"
   ]
  },
  {
   "cell_type": "code",
   "execution_count": null,
   "metadata": {},
   "outputs": [],
   "source": [
    "# Dot Product\n",
    "print(\"arr_3\\n\", arr_3)\n",
    "print(\"arr_4\\n\", arr_4)\n",
    "np.einsum('i,i->', arr_3, arr_4)"
   ]
  },
  {
   "cell_type": "code",
   "execution_count": null,
   "metadata": {},
   "outputs": [],
   "source": [
    "# Matrix multiplication\n",
    "np.einsum('ij,jk', arr_5, arr_6)"
   ]
  },
  {
   "cell_type": "code",
   "execution_count": null,
   "metadata": {},
   "outputs": [],
   "source": [
    "# Get diagonal\n",
    "np.einsum('ii', arr_5)"
   ]
  },
  {
   "cell_type": "code",
   "execution_count": null,
   "metadata": {},
   "outputs": [],
   "source": [
    "# Transpose\n",
    "np.einsum('ji', arr_5)"
   ]
  },
  {
   "cell_type": "code",
   "execution_count": null,
   "metadata": {},
   "outputs": [],
   "source": [
    "# Raise matrix to the power of n\n",
    "# Given [[a, b], [c, d]]\n",
    "# [[a² + bc, ab +db], [ac + dc, d² + bc]\n",
    "LA.matrix_power(arr_5, 2)"
   ]
  },
  {
   "cell_type": "code",
   "execution_count": null,
   "metadata": {},
   "outputs": [],
   "source": [
    "# Kronecker product of 2 arrays\n",
    "# Given [[a, b], [c, d]], [[e, f], [g, h]]\n",
    "# [[a*e, a*f, b*e, b*f], [a*g, a*h, b*g, b*h], ...]\n",
    "np.kron(arr_5, arr_6)"
   ]
  },
  {
   "cell_type": "code",
   "execution_count": null,
   "metadata": {},
   "outputs": [],
   "source": [
    "# Compute eigenvalues\n",
    "LA.eig(arr_5) # Returns eigenvectors\n",
    "LA.eigvals(arr_5)"
   ]
  },
  {
   "cell_type": "code",
   "execution_count": null,
   "metadata": {},
   "outputs": [],
   "source": [
    "# Get Vector Norm sqrt(sum(x**2))\n",
    "LA.norm(arr_5)"
   ]
  },
  {
   "cell_type": "code",
   "execution_count": null,
   "metadata": {},
   "outputs": [],
   "source": [
    "# Get Multiplicative Inverse of a matrix\n",
    "LA.inv(arr_5)"
   ]
  },
  {
   "cell_type": "code",
   "execution_count": null,
   "metadata": {},
   "outputs": [],
   "source": [
    "# Get Condition number of matrix\n",
    "LA.cond(arr_5)"
   ]
  },
  {
   "cell_type": "code",
   "execution_count": null,
   "metadata": {},
   "outputs": [],
   "source": [
    "# Determinates are used to compute volume, area, to solve systems\n",
    "# of equations and more. It is a way you can multiply values in a\n",
    "# matrix to get 1 number.\n",
    "# For a matrix to have an inverse its determinate must not equal 0\n",
    "# det([[a, b], [c, d]]) = a*d - b*c\n",
    "arr_12 = np.array([[1, 2], [3, 4]])\n",
    "# 1*4 - 2*3 = -2\n",
    "LA.det(arr_12)"
   ]
  },
  {
   "cell_type": "code",
   "execution_count": null,
   "metadata": {},
   "outputs": [],
   "source": [
    "# Determinate of 3x3 Matrix\n",
    "# det([[a, b, c], [d, e, f], [g, h, i]]) = a*e*i - b*d*i + c*d*h\n",
    "# - a*f*h + b*f*g - c*e*g"
   ]
  },
  {
   "cell_type": "code",
   "execution_count": null,
   "metadata": {},
   "outputs": [],
   "source": [
    "# When we multiply a matrix times its inverse we get the identity\n",
    "# matrix [[1,0],[0,1]] for a 2x2 matrix\n",
    "# Calculate the inverse 1/(a*d - b*c) * [[d, -b], [-c, a]]\n",
    "# 1/(4 - 6) = -.5 -> [[-.5*4, -.5*-2], [-.5*-3, -.5*a]]\n",
    "arr_12_i = LA.inv(arr_12)\n",
    "arr_12_i"
   ]
  },
  {
   "cell_type": "code",
   "execution_count": null,
   "metadata": {},
   "outputs": [],
   "source": [
    "np.dot(arr_12, arr_12_i)"
   ]
  },
  {
   "cell_type": "code",
   "execution_count": null,
   "metadata": {},
   "outputs": [],
   "source": [
    "# Solving Systems of Linear Equations\n",
    "# If you have 3x + 5 = 9x -> 5 = 6x -> x = 5/6\n",
    "# If you have x + 4y = 10 & 6x + 18y = 42\n",
    "# Isolate x -> x = 10 - 4y\n",
    "# 6(10 - 4y) + 18y = 42 -> 60 - 24y + 18y = 42 - > -6y = -18 -> y = 3\n",
    "# x + 4*3 = 10 -> x = -2\n",
    "arr_13 = np.array([[1, 4], [6, 18]])\n",
    "arr_14 = np.array([10, 42])"
   ]
  },
  {
   "cell_type": "code",
   "execution_count": null,
   "metadata": {},
   "outputs": [],
   "source": [
    "# Solve will solve this for you as well\n",
    "LA.solve(arr_13, arr_14)"
   ]
  },
  {
   "cell_type": "code",
   "execution_count": null,
   "metadata": {},
   "outputs": [],
   "source": [
    "# Return a identity matrix with defined number of rows and columns\n",
    "np.eye(2, 2, dtype=int)"
   ]
  },
  {
   "cell_type": "markdown",
   "metadata": {},
   "source": [
    "## Saving & Loading NumPy Objects"
   ]
  },
  {
   "cell_type": "code",
   "execution_count": null,
   "metadata": {},
   "outputs": [],
   "source": [
    "arr_15 = np.array([[1, 2], [3, 4]])"
   ]
  },
  {
   "cell_type": "code",
   "execution_count": null,
   "metadata": {},
   "outputs": [],
   "source": [
    "# Save as randarray.npy\n",
    "np.save('randarray', arr_15)"
   ]
  },
  {
   "cell_type": "code",
   "execution_count": null,
   "metadata": {},
   "outputs": [],
   "source": [
    "# Load saved array \n",
    "arr_16 = np.load('randarray.npy')\n",
    "arr_16"
   ]
  },
  {
   "cell_type": "code",
   "execution_count": null,
   "metadata": {},
   "outputs": [],
   "source": [
    "# Save as a CSV \n",
    "np.savetxt('randcsv.csv', arr_15)"
   ]
  },
  {
   "cell_type": "code",
   "execution_count": null,
   "metadata": {},
   "outputs": [],
   "source": [
    "# Load CSV\n",
    "arr_17 = np.loadtxt('randcsv.csv')\n",
    "arr_17"
   ]
  },
  {
   "cell_type": "markdown",
   "metadata": {},
   "source": [
    "## Financial Functions"
   ]
  },
  {
   "cell_type": "code",
   "execution_count": null,
   "metadata": {},
   "outputs": [],
   "source": [
    "# Install in Conda terminal with\n",
    "# conda install pip\n",
    "# pip install numpy-financial\n",
    "import numpy_financial as npf"
   ]
  },
  {
   "cell_type": "code",
   "execution_count": null,
   "metadata": {},
   "outputs": [],
   "source": [
    "# Compute future value of $400 investment every month\n",
    "# with an annual rate of 8% after 10 years\n",
    "npf.fv(.08/12, 10*12, -400, -400)"
   ]
  },
  {
   "cell_type": "code",
   "execution_count": null,
   "metadata": {},
   "outputs": [],
   "source": [
    "# Calculate interest portion of payment on a loan of $3,000\n",
    "# at 9.25% per year compounded monthly\n",
    "# Period of loan (year)\n",
    "period = np.arange(1*12) + 1\n",
    "principle = 3000.00"
   ]
  },
  {
   "cell_type": "code",
   "execution_count": null,
   "metadata": {},
   "outputs": [],
   "source": [
    "# Interest Payment\n",
    "ipmt = npf.ipmt(0.0925/12, period, 1*12, principle)"
   ]
  },
  {
   "cell_type": "code",
   "execution_count": null,
   "metadata": {},
   "outputs": [],
   "source": [
    "# Principle Payment\n",
    "ppmt = npf.ppmt(0.0925/12, period, 1*12, principle)\n",
    "for payment in period:\n",
    "    index = payment - 1\n",
    "    principle = principle + ppmt[index]\n",
    "    print(f\"{payment}   {np.round(ppmt[index], 2)}    {np.round(ipmt[index],2)}    {np.round(principle, 2)}\")"
   ]
  },
  {
   "cell_type": "code",
   "execution_count": null,
   "metadata": {},
   "outputs": [],
   "source": [
    "# Compute number of payments to pay off $3,000 if you paid\n",
    "# $150 per month with an interest rate of 9.25%\n",
    "np.round(npf.nper(0.0925/12, -150, 3000.00), 2)\n"
   ]
  },
  {
   "cell_type": "code",
   "execution_count": null,
   "metadata": {},
   "outputs": [],
   "source": [
    "# Calculate net present value of cash flows of $4,000, $5,000\n",
    "# $6,000, $7,000 after $15,000 investment with .08 rate per period\n",
    "npf.npv(0.08, [-15000, 4000, 5000, 6000, 7000]).round(2)"
   ]
  },
  {
   "cell_type": "markdown",
   "metadata": {},
   "source": [
    "## Comparison Functions"
   ]
  },
  {
   "cell_type": "code",
   "execution_count": null,
   "metadata": {},
   "outputs": [],
   "source": [
    "carr_1 = np.array([2, 3])\n",
    "carr_2 = np.array([3, 2])"
   ]
  },
  {
   "cell_type": "code",
   "execution_count": null,
   "metadata": {},
   "outputs": [],
   "source": [
    "# Returns boolean based on whether arr_1 value Comparison arr_2 value"
   ]
  },
  {
   "cell_type": "code",
   "execution_count": null,
   "metadata": {},
   "outputs": [],
   "source": [
    "np.greater(carr_1, carr_2)"
   ]
  },
  {
   "cell_type": "code",
   "execution_count": null,
   "metadata": {},
   "outputs": [],
   "source": [
    "np.greater_equal(carr_1, carr_2)"
   ]
  },
  {
   "cell_type": "code",
   "execution_count": null,
   "metadata": {},
   "outputs": [],
   "source": [
    "np.less(carr_1, carr_2)"
   ]
  },
  {
   "cell_type": "code",
   "execution_count": null,
   "metadata": {},
   "outputs": [],
   "source": [
    "np.less_equal(carr_1, carr_2)"
   ]
  },
  {
   "cell_type": "code",
   "execution_count": null,
   "metadata": {},
   "outputs": [],
   "source": [
    "np.not_equal(carr_1, carr_2)"
   ]
  },
  {
   "cell_type": "code",
   "execution_count": null,
   "metadata": {},
   "outputs": [],
   "source": [
    "np.equal(carr_1, carr_2)"
   ]
  }
 ],
 "metadata": {
  "kernelspec": {
   "display_name": "Python 3",
   "language": "python",
   "name": "python3"
  },
  "language_info": {
   "codemirror_mode": {
    "name": "ipython",
    "version": 3
   },
   "file_extension": ".py",
   "mimetype": "text/x-python",
   "name": "python",
   "nbconvert_exporter": "python",
   "pygments_lexer": "ipython3",
   "version": "3.8.5"
  }
 },
 "nbformat": 4,
 "nbformat_minor": 4
}
