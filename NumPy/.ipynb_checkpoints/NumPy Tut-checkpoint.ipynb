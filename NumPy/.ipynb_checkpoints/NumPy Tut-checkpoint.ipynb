{
 "cells": [
  {
   "cell_type": "markdown",
   "metadata": {},
   "source": [
    "# NumPy Tutorial"
   ]
  },
  {
   "cell_type": "markdown",
   "metadata": {},
   "source": [
    "NumPy is an amazing scientific computing library that is used by numerous other Python Data Science libraries. It contains many mathematical, array and string functions that are extremely useful. Along with all the basic math functions you'll also find them for Linear Algebra, Statistics, Simulation, etc.\n",
    "\n",
    "I recommend that you use the Jupyter setup and use with Anaconda so that you'll have access to all of NumPys dependencies. \n",
    "\n",
    "NumPy utilizes vector (1D Arrays) and matrice arrays (2D Arrays). "
   ]
  },
  {
   "cell_type": "code",
   "execution_count": 26,
   "metadata": {},
   "outputs": [],
   "source": [
    "# Import Numpy Library\n",
    "# Use alias as np because it is global convention\n",
    "import numpy as np"
   ]
  },
  {
   "cell_type": "code",
   "execution_count": 27,
   "metadata": {},
   "outputs": [],
   "source": [
    "# Import random module from Numpy Library\n",
    "from numpy import random"
   ]
  },
  {
   "cell_type": "code",
   "execution_count": 28,
   "metadata": {},
   "outputs": [],
   "source": [
    "# Provides beautiful plots of numerous type \n",
    "# that are either static, animated and/or interactive\n",
    "import matplotlib.pylab as plt"
   ]
  },
  {
   "cell_type": "markdown",
   "metadata": {},
   "source": [
    "## NumPy Arrays : Creating Arrays"
   ]
  },
  {
   "cell_type": "code",
   "execution_count": 29,
   "metadata": {},
   "outputs": [],
   "source": [
    "# A Python list\n",
    "list_1 = [1, 2, 3, 4, 5]"
   ]
  },
  {
   "cell_type": "code",
   "execution_count": 30,
   "metadata": {},
   "outputs": [
    {
     "data": {
      "text/plain": [
       "array([1, 2, 3, 4, 5], dtype=int8)"
      ]
     },
     "execution_count": 30,
     "metadata": {},
     "output_type": "execute_result"
    }
   ],
   "source": [
    "# Create NumPy 1 dimensional (1 axis) array list object of type byte (-128 to 127)\n",
    "# A N-dimensional array is a usyally fixed size multidimensional array that contains items of the same type. \n",
    "np_arr_1 = np.array(list_1, dtype=np.int8)\n",
    "np_arr_1"
   ]
  },
  {
   "cell_type": "code",
   "execution_count": 31,
   "metadata": {},
   "outputs": [],
   "source": [
    "# Create multidimenional list\n",
    "m_list_1 = [[1, 2, 3], [4, 5, 6], [7, 8, 9]]"
   ]
  },
  {
   "cell_type": "code",
   "execution_count": 32,
   "metadata": {},
   "outputs": [],
   "source": [
    "# Create NumPy multidimensional (2 axis) array without defining type\n",
    "np_m_arr_1 = np.array(m_list_1)"
   ]
  },
  {
   "cell_type": "code",
   "execution_count": 33,
   "metadata": {},
   "outputs": [
    {
     "data": {
      "text/plain": [
       "array([1, 2, 3, 4, 5, 6, 7, 8, 9])"
      ]
     },
     "execution_count": 33,
     "metadata": {},
     "output_type": "execute_result"
    }
   ],
   "source": [
    "# You can also create arrays by defining the start value,stop value (up to but not include stop) and step amount\n",
    "np.arange(1, 10)"
   ]
  },
  {
   "cell_type": "code",
   "execution_count": 34,
   "metadata": {},
   "outputs": [
    {
     "data": {
      "text/plain": [
       "array([0.        , 0.83333333, 1.66666667, 2.5       , 3.33333333,\n",
       "       4.16666667, 5.        ])"
      ]
     },
     "execution_count": 34,
     "metadata": {},
     "output_type": "execute_result"
    }
   ],
   "source": [
    "# With floats define start, end and number of values\n",
    "np.linspace(0, 5, 7)"
   ]
  },
  {
   "cell_type": "code",
   "execution_count": 35,
   "metadata": {},
   "outputs": [
    {
     "data": {
      "text/plain": [
       "array([0., 0., 0., 0.])"
      ]
     },
     "execution_count": 35,
     "metadata": {},
     "output_type": "execute_result"
    }
   ],
   "source": [
    "# You can create a 3 item array of zeroes\n",
    "np.zeros(4)"
   ]
  },
  {
   "cell_type": "code",
   "execution_count": 36,
   "metadata": {},
   "outputs": [
    {
     "data": {
      "text/plain": [
       "array([[0., 0., 0.],\n",
       "       [0., 0., 0.]])"
      ]
     },
     "execution_count": 36,
     "metadata": {},
     "output_type": "execute_result"
    }
   ],
   "source": [
    "# You can create multidimensional arrays of zeroes by passing\n",
    "# a tuple with the 1st value being rows and the 2nd columns\n",
    "np.zeros((2, 3))"
   ]
  },
  {
   "cell_type": "code",
   "execution_count": 37,
   "metadata": {},
   "outputs": [
    {
     "data": {
      "text/plain": [
       "array([[1., 1., 1.],\n",
       "       [1., 1., 1.]])"
      ]
     },
     "execution_count": 37,
     "metadata": {},
     "output_type": "execute_result"
    }
   ],
   "source": [
    "# Create array of 1s\n",
    "np.ones((2, 3))"
   ]
  },
  {
   "cell_type": "code",
   "execution_count": 38,
   "metadata": {},
   "outputs": [
    {
     "data": {
      "text/plain": [
       "9"
      ]
     },
     "execution_count": 38,
     "metadata": {},
     "output_type": "execute_result"
    }
   ],
   "source": [
    "# Get number of items in the array\n",
    "np_m_arr_1.size"
   ]
  },
  {
   "cell_type": "code",
   "execution_count": 39,
   "metadata": {},
   "outputs": [],
   "source": [
    "# Create array with defined values\n",
    "np_arr_2 = np.array([1, 2, 3, 4, 5, 6])"
   ]
  },
  {
   "cell_type": "code",
   "execution_count": 40,
   "metadata": {},
   "outputs": [
    {
     "data": {
      "text/plain": [
       "dtype('int32')"
      ]
     },
     "execution_count": 40,
     "metadata": {},
     "output_type": "execute_result"
    }
   ],
   "source": [
    "# Get type for array\n",
    "np_arr_2.dtype"
   ]
  },
  {
   "cell_type": "code",
   "execution_count": 41,
   "metadata": {},
   "outputs": [],
   "source": [
    "# Data Types\n",
    "# Boolean : np.bool_\n",
    "# Char : np.byte\n",
    "# Short : np.short\n",
    "# Integer : np.short\n",
    "# Long : np.int_\n",
    "# Float : np.single & np.float32\n",
    "# Double : np.double & np.float64\n",
    "# np.int8 : -128 to 127\n",
    "# np.int16 : -32768 to 32767\n",
    "# np.int32 : -2147483648 to 2147483647\n",
    "# np.int64 : -9223372036854775808 to 9223372036854775807"
   ]
  },
  {
   "cell_type": "code",
   "execution_count": 42,
   "metadata": {},
   "outputs": [
    {
     "data": {
      "text/plain": [
       "array([13, 18, 12, 25, 33])"
      ]
     },
     "execution_count": 42,
     "metadata": {},
     "output_type": "execute_result"
    }
   ],
   "source": [
    "# Create random 5 value 1D array from 10 to 50\n",
    "np.random.randint(10, 50, 5)"
   ]
  },
  {
   "cell_type": "code",
   "execution_count": 43,
   "metadata": {
    "scrolled": true
   },
   "outputs": [
    {
     "data": {
      "text/plain": [
       "array([[28, 30, 12],\n",
       "       [36, 45, 47]])"
      ]
     },
     "execution_count": 43,
     "metadata": {},
     "output_type": "execute_result"
    }
   ],
   "source": [
    "# Create random matrix 2x3 with values between 10 and 50\n",
    "np.random.randint(10, 50, size=(2, 3))"
   ]
  },
  {
   "cell_type": "code",
   "execution_count": 44,
   "metadata": {},
   "outputs": [],
   "source": [
    "# Get help with a function\n",
    "np.random.randint?"
   ]
  },
  {
   "cell_type": "markdown",
   "metadata": {},
   "source": [
    "## Slicing and Indexes"
   ]
  },
  {
   "cell_type": "code",
   "execution_count": 56,
   "metadata": {},
   "outputs": [
    {
     "data": {
      "text/plain": [
       "array([[ 0,  3,  5,  9, 10],\n",
       "       [ 2,  6,  8, 10, 10]])"
      ]
     },
     "execution_count": 56,
     "metadata": {},
     "output_type": "execute_result"
    }
   ],
   "source": [
    "# Change value at index\n",
    "# np_m_arr_1[0,0] = 2\n",
    "# np_m_arr_1.itemset((0,1), 1)\n",
    "np_m_arr_1"
   ]
  },
  {
   "cell_type": "code",
   "execution_count": 57,
   "metadata": {},
   "outputs": [
    {
     "data": {
      "text/plain": [
       "(2, 5)"
      ]
     },
     "execution_count": 57,
     "metadata": {},
     "output_type": "execute_result"
    }
   ],
   "source": [
    "# Get size of array\n",
    "np_m_arr_1.shape"
   ]
  },
  {
   "cell_type": "code",
   "execution_count": 58,
   "metadata": {},
   "outputs": [
    {
     "data": {
      "text/plain": [
       "3"
      ]
     },
     "execution_count": 58,
     "metadata": {},
     "output_type": "execute_result"
    }
   ],
   "source": [
    "# Get value by index\n",
    "np_m_arr_1[0,1]\n"
   ]
  },
  {
   "cell_type": "code",
   "execution_count": 60,
   "metadata": {},
   "outputs": [
    {
     "data": {
      "text/plain": [
       "3"
      ]
     },
     "execution_count": 60,
     "metadata": {},
     "output_type": "execute_result"
    }
   ],
   "source": [
    "# Get value by index\n",
    "np_m_arr_1.item(0,1)"
   ]
  },
  {
   "cell_type": "code",
   "execution_count": 61,
   "metadata": {},
   "outputs": [
    {
     "data": {
      "text/plain": [
       "array([0, 9, 6])"
      ]
     },
     "execution_count": 61,
     "metadata": {},
     "output_type": "execute_result"
    }
   ],
   "source": [
    "# Get specific indices\n",
    "np.take(np_m_arr_1, [0, 3, 6])"
   ]
  },
  {
   "cell_type": "code",
   "execution_count": 62,
   "metadata": {},
   "outputs": [
    {
     "name": "stdout",
     "output_type": "stream",
     "text": [
      "[[10  3  5 10 10]\n",
      " [ 2 10  8 10 10]]\n"
     ]
    }
   ],
   "source": [
    "# Replace provided index values with new values\n",
    "np.put(np_m_arr_1, [0, 3, 6], [10, 10, 10])\n",
    "print(np_m_arr_1)"
   ]
  },
  {
   "cell_type": "code",
   "execution_count": 63,
   "metadata": {},
   "outputs": [
    {
     "data": {
      "text/plain": [
       "array([1, 3, 5], dtype=int8)"
      ]
     },
     "execution_count": 63,
     "metadata": {},
     "output_type": "execute_result"
    }
   ],
   "source": [
    "# Start at 1st through 5th with 2 step\n",
    "np_arr_1[:5:2]"
   ]
  },
  {
   "cell_type": "code",
   "execution_count": 64,
   "metadata": {},
   "outputs": [
    {
     "data": {
      "text/plain": [
       "array([ 3, 10])"
      ]
     },
     "execution_count": 64,
     "metadata": {},
     "output_type": "execute_result"
    }
   ],
   "source": [
    "# Get 2nd value from each row\n",
    "np_m_arr_1[:,1]"
   ]
  },
  {
   "cell_type": "code",
   "execution_count": 65,
   "metadata": {},
   "outputs": [
    {
     "data": {
      "text/plain": [
       "array([5, 4, 3, 2, 1], dtype=int8)"
      ]
     },
     "execution_count": 65,
     "metadata": {},
     "output_type": "execute_result"
    }
   ],
   "source": [
    "# Flip Array\n",
    "np_arr_1[::-1]"
   ]
  },
  {
   "cell_type": "code",
   "execution_count": 66,
   "metadata": {},
   "outputs": [
    {
     "data": {
      "text/plain": [
       "array([10, 10, 10,  2, 10,  8, 10, 10])"
      ]
     },
     "execution_count": 66,
     "metadata": {},
     "output_type": "execute_result"
    }
   ],
   "source": [
    "# Get evens\n",
    "evens = np_m_arr_1[np_m_arr_1%2==0]\n",
    "evens"
   ]
  },
  {
   "cell_type": "code",
   "execution_count": 67,
   "metadata": {},
   "outputs": [
    {
     "data": {
      "text/plain": [
       "array([10, 10, 10, 10,  8, 10, 10])"
      ]
     },
     "execution_count": 67,
     "metadata": {},
     "output_type": "execute_result"
    }
   ],
   "source": [
    "# Get values > 5\n",
    "np_m_arr_1[np_m_arr_1 > 5]"
   ]
  },
  {
   "cell_type": "code",
   "execution_count": 68,
   "metadata": {},
   "outputs": [
    {
     "data": {
      "text/plain": [
       "array([8])"
      ]
     },
     "execution_count": 68,
     "metadata": {},
     "output_type": "execute_result"
    }
   ],
   "source": [
    "# 5 < value < 9\n",
    "np_m_arr_1[(np_m_arr_1 > 5) & (np_m_arr_1 < 9)]"
   ]
  },
  {
   "cell_type": "code",
   "execution_count": 69,
   "metadata": {},
   "outputs": [
    {
     "data": {
      "text/plain": [
       "array([10, 10, 10, 10,  8, 10, 10])"
      ]
     },
     "execution_count": 69,
     "metadata": {},
     "output_type": "execute_result"
    }
   ],
   "source": [
    "# 5 < value or value = 10\n",
    "np_m_arr_1[(np_m_arr_1 > 5) | (np_m_arr_1 == 10)]"
   ]
  },
  {
   "cell_type": "code",
   "execution_count": 70,
   "metadata": {},
   "outputs": [
    {
     "data": {
      "text/plain": [
       "array([ 2,  3,  5,  8, 10])"
      ]
     },
     "execution_count": 70,
     "metadata": {},
     "output_type": "execute_result"
    }
   ],
   "source": [
    "# Find uniques\n",
    "np.unique(np_m_arr_1)"
   ]
  },
  {
   "cell_type": "markdown",
   "metadata": {},
   "source": [
    "## Reshaping Arrays"
   ]
  },
  {
   "cell_type": "code",
   "execution_count": 76,
   "metadata": {},
   "outputs": [
    {
     "data": {
      "text/plain": [
       "array([[10,  3],\n",
       "       [ 5, 10],\n",
       "       [10,  2],\n",
       "       [10,  8],\n",
       "       [10, 10]])"
      ]
     },
     "execution_count": 76,
     "metadata": {},
     "output_type": "execute_result"
    }
   ],
   "source": [
    "# Reshape array to 5 by 2\n",
    "np_m_arr_1.reshape((5, 2))"
   ]
  },
  {
   "cell_type": "code",
   "execution_count": 80,
   "metadata": {},
   "outputs": [
    {
     "data": {
      "text/plain": [
       "array([[10,  3],\n",
       "       [ 5, 10],\n",
       "       [10,  2],\n",
       "       [10,  8],\n",
       "       [10, 10]])"
      ]
     },
     "execution_count": 80,
     "metadata": {},
     "output_type": "execute_result"
    }
   ],
   "source": [
    "# Reshape array to 5 by 2 (Items are either lost or 0s added)\n",
    "np_m_arr_1.resize((5,2))\n",
    "np_m_arr_1"
   ]
  },
  {
   "cell_type": "code",
   "execution_count": 86,
   "metadata": {},
   "outputs": [
    {
     "data": {
      "text/plain": [
       "array([[10,  5, 10, 10, 10],\n",
       "       [ 3, 10,  2,  8, 10]])"
      ]
     },
     "execution_count": 86,
     "metadata": {},
     "output_type": "execute_result"
    }
   ],
   "source": [
    "# Transpose axes\n",
    "np_m_arr_1.transpose()"
   ]
  },
  {
   "cell_type": "code",
   "execution_count": 85,
   "metadata": {},
   "outputs": [
    {
     "data": {
      "text/plain": [
       "array([[10,  5, 10, 10, 10],\n",
       "       [ 3, 10,  2,  8, 10]])"
      ]
     },
     "execution_count": 85,
     "metadata": {},
     "output_type": "execute_result"
    }
   ],
   "source": [
    "# Swap axes \n",
    "np_m_arr_1.swapaxes(0,1)"
   ]
  },
  {
   "cell_type": "code",
   "execution_count": 87,
   "metadata": {},
   "outputs": [
    {
     "data": {
      "text/plain": [
       "array([10,  3,  5, 10, 10,  2, 10,  8, 10, 10])"
      ]
     },
     "execution_count": 87,
     "metadata": {},
     "output_type": "execute_result"
    }
   ],
   "source": [
    "# Flatten in order\n",
    "np_m_arr_1.flatten()"
   ]
  },
  {
   "cell_type": "code",
   "execution_count": 88,
   "metadata": {},
   "outputs": [
    {
     "data": {
      "text/plain": [
       "array([10,  5, 10, 10, 10,  3, 10,  2,  8, 10])"
      ]
     },
     "execution_count": 88,
     "metadata": {},
     "output_type": "execute_result"
    }
   ],
   "source": [
    "# Flatten in column order\n",
    "np_m_arr_1.flatten('F')"
   ]
  },
  {
   "cell_type": "code",
   "execution_count": 91,
   "metadata": {},
   "outputs": [
    {
     "name": "stdout",
     "output_type": "stream",
     "text": [
      "[[ 3 10]\n",
      " [ 5 10]\n",
      " [ 2 10]\n",
      " [ 8 10]\n",
      " [10 10]]\n"
     ]
    }
   ],
   "source": [
    "# Sort rows\n",
    "np_m_arr_1.sort(axis=1)\n",
    "print(np_m_arr_1)"
   ]
  },
  {
   "cell_type": "code",
   "execution_count": 92,
   "metadata": {},
   "outputs": [
    {
     "data": {
      "text/plain": [
       "array([[ 2, 10],\n",
       "       [ 3, 10],\n",
       "       [ 5, 10],\n",
       "       [ 8, 10],\n",
       "       [10, 10]])"
      ]
     },
     "execution_count": 92,
     "metadata": {},
     "output_type": "execute_result"
    }
   ],
   "source": [
    "# Sort columns\n",
    "np_m_arr_1.sort(axis=0)\n",
    "np_m_arr_1"
   ]
  },
  {
   "cell_type": "markdown",
   "metadata": {},
   "source": [
    "## Stacking & Splitting"
   ]
  },
  {
   "cell_type": "code",
   "execution_count": 93,
   "metadata": {},
   "outputs": [
    {
     "name": "stdout",
     "output_type": "stream",
     "text": [
      "ss_arr_1\n",
      " [[1 3]\n",
      " [1 4]]\n",
      "ss_arr_2\n",
      " [[2 2]\n",
      " [4 8]]\n"
     ]
    }
   ],
   "source": [
    "# Generate random arrays\n",
    "ss_arr_1 = np.random.randint(10, size=(2, 2))\n",
    "print(\"ss_arr_1\\n\", ss_arr_1)\n",
    "ss_arr_2 = np.random.randint(10, size=(2, 2))\n",
    "print(\"ss_arr_2\\n\", ss_arr_2)"
   ]
  },
  {
   "cell_type": "code",
   "execution_count": 94,
   "metadata": {},
   "outputs": [
    {
     "data": {
      "text/plain": [
       "array([[1, 3],\n",
       "       [1, 4],\n",
       "       [2, 2],\n",
       "       [4, 8]])"
      ]
     },
     "execution_count": 94,
     "metadata": {},
     "output_type": "execute_result"
    }
   ],
   "source": [
    "# Stack Vertically (arr_2 under arr_1)\n",
    "np.vstack((ss_arr_1, ss_arr_2))"
   ]
  },
  {
   "cell_type": "code",
   "execution_count": 95,
   "metadata": {},
   "outputs": [
    {
     "data": {
      "text/plain": [
       "array([[1, 3, 2, 2],\n",
       "       [1, 4, 4, 8]])"
      ]
     },
     "execution_count": 95,
     "metadata": {},
     "output_type": "execute_result"
    }
   ],
   "source": [
    "# Stack horizontally\n",
    "np.hstack((ss_arr_1, ss_arr_2))"
   ]
  },
  {
   "cell_type": "code",
   "execution_count": 96,
   "metadata": {},
   "outputs": [
    {
     "name": "stdout",
     "output_type": "stream",
     "text": [
      "ss_arr_3\n",
      " [[1 3]]\n",
      "ss_arr_4\n",
      " [[2 2]]\n"
     ]
    }
   ],
   "source": [
    "# Delete 2nd row on each array\n",
    "ss_arr_3 = np.delete(ss_arr_1, 1, 0)\n",
    "ss_arr_4 = np.delete(ss_arr_2, 1, 0)\n",
    "print(\"ss_arr_3\\n\", ss_arr_3)\n",
    "print(\"ss_arr_4\\n\", ss_arr_4)"
   ]
  },
  {
   "cell_type": "code",
   "execution_count": 97,
   "metadata": {},
   "outputs": [
    {
     "data": {
      "text/plain": [
       "array([[1, 3, 2, 2]])"
      ]
     },
     "execution_count": 97,
     "metadata": {},
     "output_type": "execute_result"
    }
   ],
   "source": [
    "# Combine arrays\n",
    "np.column_stack((ss_arr_3, ss_arr_4))"
   ]
  },
  {
   "cell_type": "code",
   "execution_count": 98,
   "metadata": {},
   "outputs": [
    {
     "data": {
      "text/plain": [
       "array([[1, 3],\n",
       "       [2, 2]])"
      ]
     },
     "execution_count": 98,
     "metadata": {},
     "output_type": "execute_result"
    }
   ],
   "source": [
    "# Stack row wise in a 2D array\n",
    "np.row_stack((ss_arr_3, ss_arr_4))"
   ]
  },
  {
   "cell_type": "code",
   "execution_count": 99,
   "metadata": {},
   "outputs": [
    {
     "name": "stdout",
     "output_type": "stream",
     "text": [
      "ss_arr_5\n",
      " [[0 7 4 5 3 9 0 7 8 5]\n",
      " [0 6 5 9 8 8 5 2 3 3]]\n"
     ]
    }
   ],
   "source": [
    "# Generate 2x10 array\n",
    "ss_arr_5 = np.random.randint(10, size=(2, 10))\n",
    "print(\"ss_arr_5\\n\", ss_arr_5)"
   ]
  },
  {
   "cell_type": "code",
   "execution_count": 100,
   "metadata": {},
   "outputs": [
    {
     "data": {
      "text/plain": [
       "[array([[0, 7],\n",
       "        [0, 6]]),\n",
       " array([[4, 5],\n",
       "        [5, 9]]),\n",
       " array([[3, 9],\n",
       "        [8, 8]]),\n",
       " array([[0, 7],\n",
       "        [5, 2]]),\n",
       " array([[8, 5],\n",
       "        [3, 3]])]"
      ]
     },
     "execution_count": 100,
     "metadata": {},
     "output_type": "execute_result"
    }
   ],
   "source": [
    "# Split into 5 arrays taking from both arrays in multidimensional array\n",
    "np.hsplit(ss_arr_5, 5)"
   ]
  },
  {
   "cell_type": "code",
   "execution_count": 101,
   "metadata": {},
   "outputs": [
    {
     "data": {
      "text/plain": [
       "[array([[0, 7],\n",
       "        [0, 6]]),\n",
       " array([[4, 5],\n",
       "        [5, 9]]),\n",
       " array([[3, 9, 0, 7, 8, 5],\n",
       "        [8, 8, 5, 2, 3, 3]])]"
      ]
     },
     "execution_count": 101,
     "metadata": {},
     "output_type": "execute_result"
    }
   ],
   "source": [
    "# Split after 2nd & 4th column\n",
    "np.hsplit(ss_arr_5, (2, 4))"
   ]
  },
  {
   "cell_type": "markdown",
   "metadata": {},
   "source": [
    "## Copy and View"
   ]
  },
  {
   "cell_type": "code",
   "execution_count": 103,
   "metadata": {},
   "outputs": [
    {
     "data": {
      "text/plain": [
       "array([[2, 7],\n",
       "       [7, 2]])"
      ]
     },
     "execution_count": 103,
     "metadata": {},
     "output_type": "execute_result"
    }
   ],
   "source": [
    "cp_arr_1 = np.random.randint(10, size=(2, 2))\n",
    "cp_arr_1"
   ]
  },
  {
   "cell_type": "code",
   "execution_count": 106,
   "metadata": {},
   "outputs": [
    {
     "data": {
      "text/plain": [
       "array([[2, 7],\n",
       "       [7, 2]])"
      ]
     },
     "execution_count": 106,
     "metadata": {},
     "output_type": "execute_result"
    }
   ],
   "source": [
    "# Both variables point at the same array\n",
    "cp_arr_2 = cp_arr_1\n",
    "cp_arr_2"
   ]
  },
  {
   "cell_type": "code",
   "execution_count": 107,
   "metadata": {},
   "outputs": [
    {
     "name": "stdout",
     "output_type": "stream",
     "text": [
      "cp_arr_1\n",
      " [[2 7]\n",
      " [7 2]]\n",
      "cp_arr_2\n",
      " [[2 7]\n",
      " [7 2]]\n"
     ]
    }
   ],
   "source": [
    "# Change value\n",
    "cp_arr_1[0,0] = 2\n",
    "print(\"cp_arr_1\\n\", cp_arr_1)\n",
    "print(\"cp_arr_2\\n\", cp_arr_2)"
   ]
  },
  {
   "cell_type": "code",
   "execution_count": 108,
   "metadata": {},
   "outputs": [
    {
     "name": "stdout",
     "output_type": "stream",
     "text": [
      "cp_arr_3\n",
      " [[2 7]\n",
      " [7 2]]\n"
     ]
    }
   ],
   "source": [
    "# Create a view of data where changes don't effect original\n",
    "cp_arr_3 = cp_arr_1.view()\n",
    "print(\"cp_arr_3\\n\", cp_arr_3)"
   ]
  },
  {
   "cell_type": "code",
   "execution_count": 109,
   "metadata": {},
   "outputs": [
    {
     "name": "stdout",
     "output_type": "stream",
     "text": [
      "cp_arr_3\n",
      " [2 7 7 2]\n",
      "cp_arr_1\n",
      " [[2 7]\n",
      " [7 2]]\n"
     ]
    }
   ],
   "source": [
    "cp_arr_3 = cp_arr_3.flatten('F')\n",
    "print(\"cp_arr_3\\n\", cp_arr_3)\n",
    "print(\"cp_arr_1\\n\", cp_arr_1)"
   ]
  },
  {
   "cell_type": "code",
   "execution_count": 111,
   "metadata": {},
   "outputs": [
    {
     "data": {
      "text/plain": [
       "array([[2, 7],\n",
       "       [7, 2]])"
      ]
     },
     "execution_count": 111,
     "metadata": {},
     "output_type": "execute_result"
    }
   ],
   "source": [
    "# Copy and create new array\n",
    "cp_arr_4 = cp_arr_1.copy()\n",
    "cp_arr_4"
   ]
  },
  {
   "cell_type": "markdown",
   "metadata": {},
   "source": [
    "## Basic Mathematics"
   ]
  },
  {
   "cell_type": "code",
   "execution_count": 113,
   "metadata": {},
   "outputs": [],
   "source": [
    "arr_3 = np.array([1, 2, 3, 4])\n",
    "arr_4 = np.array([2, 4, 6, 8])"
   ]
  },
  {
   "cell_type": "code",
   "execution_count": 114,
   "metadata": {},
   "outputs": [
    {
     "data": {
      "text/plain": [
       "array([ 3,  6,  9, 12])"
      ]
     },
     "execution_count": 114,
     "metadata": {},
     "output_type": "execute_result"
    }
   ],
   "source": [
    "# Add values\n",
    "arr_3 + arr_4"
   ]
  },
  {
   "cell_type": "code",
   "execution_count": 115,
   "metadata": {},
   "outputs": [
    {
     "data": {
      "text/plain": [
       "array([-1, -2, -3, -4])"
      ]
     },
     "execution_count": 115,
     "metadata": {},
     "output_type": "execute_result"
    }
   ],
   "source": [
    "# Subtract\n",
    "arr_3 - arr_4"
   ]
  },
  {
   "cell_type": "code",
   "execution_count": 116,
   "metadata": {},
   "outputs": [
    {
     "data": {
      "text/plain": [
       "array([ 2,  8, 18, 32])"
      ]
     },
     "execution_count": 116,
     "metadata": {},
     "output_type": "execute_result"
    }
   ],
   "source": [
    "# Multiply\n",
    "arr_3 * arr_4"
   ]
  },
  {
   "cell_type": "code",
   "execution_count": 117,
   "metadata": {},
   "outputs": [
    {
     "data": {
      "text/plain": [
       "array([0.5, 0.5, 0.5, 0.5])"
      ]
     },
     "execution_count": 117,
     "metadata": {},
     "output_type": "execute_result"
    }
   ],
   "source": [
    "# Divide\n",
    "arr_3 / arr_4"
   ]
  },
  {
   "cell_type": "code",
   "execution_count": 118,
   "metadata": {},
   "outputs": [
    {
     "data": {
      "text/plain": [
       "array([93, 66, 90, 65])"
      ]
     },
     "execution_count": 118,
     "metadata": {},
     "output_type": "execute_result"
    }
   ],
   "source": [
    "# Random 4 digit 1D array between 0 to 100\n",
    "arr_5 = random.randint(100, size=(4))\n",
    "arr_5"
   ]
  },
  {
   "cell_type": "code",
   "execution_count": 119,
   "metadata": {},
   "outputs": [
    {
     "data": {
      "text/plain": [
       "array([[29, 41, 43],\n",
       "       [32,  3, 62]])"
      ]
     },
     "execution_count": 119,
     "metadata": {},
     "output_type": "execute_result"
    }
   ],
   "source": [
    "# Random 2 by 3 digit 2D array between 0 to 100\n",
    "arr_6 = random.randint(100, size=(2, 3))\n",
    "arr_6"
   ]
  },
  {
   "cell_type": "code",
   "execution_count": 120,
   "metadata": {},
   "outputs": [
    {
     "data": {
      "text/plain": [
       "array([0.03070334, 0.56546378, 0.23253429, 0.68462578])"
      ]
     },
     "execution_count": 120,
     "metadata": {},
     "output_type": "execute_result"
    }
   ],
   "source": [
    "# 4 random floats\n",
    "random.rand(4)"
   ]
  },
  {
   "cell_type": "code",
   "execution_count": 121,
   "metadata": {},
   "outputs": [
    {
     "data": {
      "text/plain": [
       "1"
      ]
     },
     "execution_count": 121,
     "metadata": {},
     "output_type": "execute_result"
    }
   ],
   "source": [
    "# Get random value from an array\n",
    "random.choice(arr_3)"
   ]
  },
  {
   "cell_type": "code",
   "execution_count": 122,
   "metadata": {},
   "outputs": [
    {
     "data": {
      "text/plain": [
       "10"
      ]
     },
     "execution_count": 122,
     "metadata": {},
     "output_type": "execute_result"
    }
   ],
   "source": [
    "# Sum of values in array\n",
    "arr_3.sum()"
   ]
  },
  {
   "cell_type": "code",
   "execution_count": 123,
   "metadata": {},
   "outputs": [
    {
     "name": "stdout",
     "output_type": "stream",
     "text": [
      "[[29 41 43]\n",
      " [32  3 62]]\n"
     ]
    },
    {
     "data": {
      "text/plain": [
       "array([ 61,  44, 105])"
      ]
     },
     "execution_count": 123,
     "metadata": {},
     "output_type": "execute_result"
    }
   ],
   "source": [
    "# Sum columns\n",
    "print(arr_6)\n",
    "arr_6.sum(axis=0)"
   ]
  },
  {
   "cell_type": "code",
   "execution_count": 124,
   "metadata": {},
   "outputs": [
    {
     "data": {
      "text/plain": [
       "array([[ 29,  70, 113],\n",
       "       [ 32,  35,  97]], dtype=int32)"
      ]
     },
     "execution_count": 124,
     "metadata": {},
     "output_type": "execute_result"
    }
   ],
   "source": [
    "# Cumulative sum of rows\n",
    "arr_6.cumsum(axis=1)"
   ]
  },
  {
   "cell_type": "code",
   "execution_count": 125,
   "metadata": {},
   "outputs": [
    {
     "data": {
      "text/plain": [
       "array([29,  3])"
      ]
     },
     "execution_count": 125,
     "metadata": {},
     "output_type": "execute_result"
    }
   ],
   "source": [
    "# Min of each row\n",
    "arr_6.min(axis=1)"
   ]
  },
  {
   "cell_type": "code",
   "execution_count": 126,
   "metadata": {},
   "outputs": [
    {
     "data": {
      "text/plain": [
       "array([32, 41, 62])"
      ]
     },
     "execution_count": 126,
     "metadata": {},
     "output_type": "execute_result"
    }
   ],
   "source": [
    "# Max of each column\n",
    "arr_6.max(axis=0)"
   ]
  },
  {
   "cell_type": "code",
   "execution_count": 127,
   "metadata": {},
   "outputs": [
    {
     "name": "stdout",
     "output_type": "stream",
     "text": [
      "arr_3 [1 2 3 4]\n",
      "arr_4 [2 4 6 8]\n"
     ]
    }
   ],
   "source": [
    "print(\"arr_3\", arr_3)\n",
    "print(\"arr_4\", arr_4)"
   ]
  },
  {
   "cell_type": "code",
   "execution_count": 128,
   "metadata": {},
   "outputs": [
    {
     "data": {
      "text/plain": [
       "array([6, 7, 8, 9])"
      ]
     },
     "execution_count": 128,
     "metadata": {},
     "output_type": "execute_result"
    }
   ],
   "source": [
    "# Add individual numbers to array\n",
    "np.add(arr_3, 5)"
   ]
  },
  {
   "cell_type": "code",
   "execution_count": 129,
   "metadata": {},
   "outputs": [
    {
     "data": {
      "text/plain": [
       "array([ 3,  6,  9, 12])"
      ]
     },
     "execution_count": 129,
     "metadata": {},
     "output_type": "execute_result"
    }
   ],
   "source": [
    "# Add arrays\n",
    "np.add(arr_3, arr_4)"
   ]
  },
  {
   "cell_type": "code",
   "execution_count": 130,
   "metadata": {},
   "outputs": [
    {
     "data": {
      "text/plain": [
       "array([-1, -2, -3, -4])"
      ]
     },
     "execution_count": 130,
     "metadata": {},
     "output_type": "execute_result"
    }
   ],
   "source": [
    "# Subtract\n",
    "np.subtract(arr_3, arr_4)"
   ]
  },
  {
   "cell_type": "code",
   "execution_count": 131,
   "metadata": {},
   "outputs": [
    {
     "data": {
      "text/plain": [
       "array([ 2,  8, 18, 32])"
      ]
     },
     "execution_count": 131,
     "metadata": {},
     "output_type": "execute_result"
    }
   ],
   "source": [
    "# Multiply\n",
    "np.multiply(arr_3, arr_4)"
   ]
  },
  {
   "cell_type": "code",
   "execution_count": 132,
   "metadata": {},
   "outputs": [
    {
     "data": {
      "text/plain": [
       "array([0.5, 0.5, 0.5, 0.5])"
      ]
     },
     "execution_count": 132,
     "metadata": {},
     "output_type": "execute_result"
    }
   ],
   "source": [
    "# Divide\n",
    "np.divide(arr_3, arr_4)"
   ]
  },
  {
   "cell_type": "code",
   "execution_count": 133,
   "metadata": {},
   "outputs": [
    {
     "name": "stdout",
     "output_type": "stream",
     "text": [
      "arr_5\n",
      " [[1 2]\n",
      " [3 4]]\n",
      "arr_6\n",
      " [[2 4]\n",
      " [6 9]]\n"
     ]
    }
   ],
   "source": [
    "arr_5 = np.array([[1, 2], [3, 4]])\n",
    "arr_6 = np.array([[2, 4], [6, 9]])\n",
    "print(\"arr_5\\n\", arr_5)\n",
    "print(\"arr_6\\n\", arr_6)"
   ]
  },
  {
   "cell_type": "code",
   "execution_count": 134,
   "metadata": {},
   "outputs": [
    {
     "data": {
      "text/plain": [
       "array([[0, 0],\n",
       "       [0, 1]], dtype=int32)"
      ]
     },
     "execution_count": 134,
     "metadata": {},
     "output_type": "execute_result"
    }
   ],
   "source": [
    "# Divides elements in 1st array by 2nd array and returns remainder\n",
    "np.remainder(arr_6, arr_5)"
   ]
  },
  {
   "cell_type": "code",
   "execution_count": 135,
   "metadata": {},
   "outputs": [
    {
     "data": {
      "text/plain": [
       "array([[   2,   16],\n",
       "       [ 216, 6561]], dtype=int32)"
      ]
     },
     "execution_count": 135,
     "metadata": {},
     "output_type": "execute_result"
    }
   ],
   "source": [
    "# Return values in 1st array to powers defined in 2nd array\n",
    "np.power(arr_6, arr_5)"
   ]
  },
  {
   "cell_type": "code",
   "execution_count": 136,
   "metadata": {},
   "outputs": [
    {
     "data": {
      "text/plain": [
       "array([1.        , 1.41421356, 1.73205081, 2.        ])"
      ]
     },
     "execution_count": 136,
     "metadata": {},
     "output_type": "execute_result"
    }
   ],
   "source": [
    "# Square root\n",
    "np.sqrt(arr_3)"
   ]
  },
  {
   "cell_type": "code",
   "execution_count": 137,
   "metadata": {},
   "outputs": [
    {
     "data": {
      "text/plain": [
       "array([1.        , 1.25992105, 1.44224957, 1.58740105])"
      ]
     },
     "execution_count": 137,
     "metadata": {},
     "output_type": "execute_result"
    }
   ],
   "source": [
    "# Cube root\n",
    "np.cbrt(arr_3)"
   ]
  },
  {
   "cell_type": "code",
   "execution_count": 138,
   "metadata": {},
   "outputs": [
    {
     "data": {
      "text/plain": [
       "array([1, 2])"
      ]
     },
     "execution_count": 138,
     "metadata": {},
     "output_type": "execute_result"
    }
   ],
   "source": [
    "# Absolute value of every element\n",
    "np.absolute([-1, -2])"
   ]
  },
  {
   "cell_type": "code",
   "execution_count": 139,
   "metadata": {},
   "outputs": [
    {
     "data": {
      "text/plain": [
       "array([ 2.71828183,  7.3890561 , 20.08553692, 54.59815003])"
      ]
     },
     "execution_count": 139,
     "metadata": {},
     "output_type": "execute_result"
    }
   ],
   "source": [
    "# Exponential of all elements in array\n",
    "np.exp(arr_3)"
   ]
  },
  {
   "cell_type": "code",
   "execution_count": 140,
   "metadata": {},
   "outputs": [
    {
     "data": {
      "text/plain": [
       "array([0.        , 0.30103   , 0.47712125, 0.60205999])"
      ]
     },
     "execution_count": 140,
     "metadata": {},
     "output_type": "execute_result"
    }
   ],
   "source": [
    "# log functions\n",
    "np.log(arr_3)\n",
    "np.log2(arr_3)\n",
    "np.log10(arr_3)"
   ]
  },
  {
   "cell_type": "code",
   "execution_count": 141,
   "metadata": {},
   "outputs": [
    {
     "data": {
      "text/plain": [
       "3"
      ]
     },
     "execution_count": 141,
     "metadata": {},
     "output_type": "execute_result"
    }
   ],
   "source": [
    "# Greatest common divisor\n",
    "np.gcd.reduce([9, 12, 15])"
   ]
  },
  {
   "cell_type": "code",
   "execution_count": 142,
   "metadata": {},
   "outputs": [
    {
     "data": {
      "text/plain": [
       "180"
      ]
     },
     "execution_count": 142,
     "metadata": {},
     "output_type": "execute_result"
    }
   ],
   "source": [
    "# Lowest common multiple\n",
    "np.lcm.reduce([9, 12, 15])"
   ]
  },
  {
   "cell_type": "code",
   "execution_count": 143,
   "metadata": {},
   "outputs": [
    {
     "data": {
      "text/plain": [
       "array([1., 2.])"
      ]
     },
     "execution_count": 143,
     "metadata": {},
     "output_type": "execute_result"
    }
   ],
   "source": [
    "# Round down\n",
    "np.floor([1.2, 2.5])"
   ]
  },
  {
   "cell_type": "code",
   "execution_count": 144,
   "metadata": {},
   "outputs": [
    {
     "data": {
      "text/plain": [
       "array([2., 3.])"
      ]
     },
     "execution_count": 144,
     "metadata": {},
     "output_type": "execute_result"
    }
   ],
   "source": [
    "# Round up\n",
    "np.ceil([1.2, 2.5])"
   ]
  },
  {
   "cell_type": "code",
   "execution_count": 145,
   "metadata": {},
   "outputs": [
    {
     "data": {
      "text/plain": [
       "array([ 1,  4,  9, 16], dtype=int32)"
      ]
     },
     "execution_count": 145,
     "metadata": {},
     "output_type": "execute_result"
    }
   ],
   "source": [
    "# Can receive 6 values and square them\n",
    "sq_arr = np.arange(6)**2\n",
    "sq_arr[arr_3]"
   ]
  },
  {
   "cell_type": "code",
   "execution_count": 146,
   "metadata": {},
   "outputs": [
    {
     "name": "stdout",
     "output_type": "stream",
     "text": [
      "arr_7\n",
      " [[46 13 99]\n",
      " [22 11 49]\n",
      " [83 74 12]\n",
      " [27 49 91]\n",
      " [57 67 84]]\n"
     ]
    }
   ],
   "source": [
    "arr_7 = random.randint(100, size=(5, 3))\n",
    "print(\"arr_7\\n\", arr_7)"
   ]
  },
  {
   "cell_type": "code",
   "execution_count": 147,
   "metadata": {},
   "outputs": [
    {
     "data": {
      "text/plain": [
       "array([2, 2, 0], dtype=int64)"
      ]
     },
     "execution_count": 147,
     "metadata": {},
     "output_type": "execute_result"
    }
   ],
   "source": [
    "# Get index for max value per column\n",
    "mc_index = arr_7.argmax(axis=0)\n",
    "mc_index"
   ]
  },
  {
   "cell_type": "code",
   "execution_count": 148,
   "metadata": {},
   "outputs": [
    {
     "data": {
      "text/plain": [
       "array([83, 74, 99])"
      ]
     },
     "execution_count": 148,
     "metadata": {},
     "output_type": "execute_result"
    }
   ],
   "source": [
    "# Get numbers corresponding to indexes\n",
    "max_nums = arr_7[mc_index]\n",
    "arr_7[mc_index, range(arr_7.shape[1])]"
   ]
  },
  {
   "cell_type": "markdown",
   "metadata": {},
   "source": [
    "## Reading from Files"
   ]
  },
  {
   "cell_type": "code",
   "execution_count": 149,
   "metadata": {},
   "outputs": [],
   "source": [
    "# Pandas is used to manipulate tabular data and more\n",
    "import pandas as pd"
   ]
  },
  {
   "cell_type": "code",
   "execution_count": 150,
   "metadata": {},
   "outputs": [],
   "source": [
    "# Import using NumPy\n",
    "from numpy import genfromtxt"
   ]
  },
  {
   "cell_type": "code",
   "execution_count": 151,
   "metadata": {},
   "outputs": [
    {
     "data": {
      "text/plain": [
       "array([[ 37, 292],\n",
       "       [ 40, 228],\n",
       "       [ 49, 324],\n",
       "       [ 61, 376],\n",
       "       [ 72, 440],\n",
       "       [ 79, 496],\n",
       "       [ 83, 536],\n",
       "       [ 81, 556],\n",
       "       [ 75, 496],\n",
       "       [ 64, 412],\n",
       "       [ 53, 324],\n",
       "       [ 40, 320]], dtype=int64)"
      ]
     },
     "execution_count": 151,
     "metadata": {},
     "output_type": "execute_result"
    }
   ],
   "source": [
    "# Read table of data from CSV file and convert to Numpy array\n",
    "ic_sales = pd.read_csv('icecreamsales.csv').to_numpy()\n",
    "ic_sales"
   ]
  },
  {
   "cell_type": "code",
   "execution_count": 153,
   "metadata": {},
   "outputs": [
    {
     "data": {
      "text/plain": [
       "array([[ nan,  nan],\n",
       "       [ 37., 292.],\n",
       "       [ 40., 228.],\n",
       "       [ 49., 324.],\n",
       "       [ 61., 376.],\n",
       "       [ 72., 440.],\n",
       "       [ 79., 496.],\n",
       "       [ 83., 536.],\n",
       "       [ 81., 556.],\n",
       "       [ 75., 496.],\n",
       "       [ 64., 412.],\n",
       "       [ 53., 324.],\n",
       "       [ 40., 320.]])"
      ]
     },
     "execution_count": 153,
     "metadata": {},
     "output_type": "execute_result"
    }
   ],
   "source": [
    "# Read data using NumPy\n",
    "ic_sales_2 = genfromtxt('icecreamsales.csv', delimiter=',')\n",
    "ic_sales_2"
   ]
  },
  {
   "cell_type": "code",
   "execution_count": 154,
   "metadata": {},
   "outputs": [
    {
     "data": {
      "text/plain": [
       "[array([], dtype=float64),\n",
       " array([ 37., 292.]),\n",
       " array([ 40., 228.]),\n",
       " array([ 49., 324.]),\n",
       " array([ 61., 376.]),\n",
       " array([ 72., 440.]),\n",
       " array([ 79., 496.]),\n",
       " array([ 83., 536.]),\n",
       " array([ 81., 556.]),\n",
       " array([ 75., 496.]),\n",
       " array([ 64., 412.]),\n",
       " array([ 53., 324.]),\n",
       " array([ 40., 320.])]"
      ]
     },
     "execution_count": 154,
     "metadata": {},
     "output_type": "execute_result"
    }
   ],
   "source": [
    "# Remove NANs\n",
    "ic_sales_2 = [row[~np.isnan(row)] for row in ic_sales_2]\n",
    "ic_sales_2"
   ]
  },
  {
   "cell_type": "markdown",
   "metadata": {},
   "source": [
    "## Statistics Functions"
   ]
  },
  {
   "cell_type": "code",
   "execution_count": 174,
   "metadata": {},
   "outputs": [
    {
     "name": "stdout",
     "output_type": "stream",
     "text": [
      "[1 2 3 4 5]\n"
     ]
    }
   ],
   "source": [
    "# Array 1 - 5\n",
    "sarr_1 = np.arange(1, 6)\n",
    "print(sarr_1)"
   ]
  },
  {
   "cell_type": "code",
   "execution_count": 175,
   "metadata": {},
   "outputs": [
    {
     "data": {
      "text/plain": [
       "3.0"
      ]
     },
     "execution_count": 175,
     "metadata": {},
     "output_type": "execute_result"
    }
   ],
   "source": [
    "np.mean(sarr_1)"
   ]
  },
  {
   "cell_type": "code",
   "execution_count": 176,
   "metadata": {},
   "outputs": [
    {
     "data": {
      "text/plain": [
       "3.0"
      ]
     },
     "execution_count": 176,
     "metadata": {},
     "output_type": "execute_result"
    }
   ],
   "source": [
    "np.median(sarr_1)"
   ]
  },
  {
   "cell_type": "code",
   "execution_count": 177,
   "metadata": {},
   "outputs": [
    {
     "data": {
      "text/plain": [
       "3.0"
      ]
     },
     "execution_count": 177,
     "metadata": {},
     "output_type": "execute_result"
    }
   ],
   "source": [
    "np.average(sarr_1)"
   ]
  },
  {
   "cell_type": "code",
   "execution_count": 178,
   "metadata": {},
   "outputs": [
    {
     "data": {
      "text/plain": [
       "1.4142135623730951"
      ]
     },
     "execution_count": 178,
     "metadata": {},
     "output_type": "execute_result"
    }
   ],
   "source": [
    "np.std([4, 6, 3, 5, 2]) # Standard Deviation"
   ]
  },
  {
   "cell_type": "code",
   "execution_count": 179,
   "metadata": {},
   "outputs": [
    {
     "data": {
      "text/plain": [
       "2.0"
      ]
     },
     "execution_count": 179,
     "metadata": {},
     "output_type": "execute_result"
    }
   ],
   "source": [
    "np.var([4, 6, 3, 5, 2]) # Variance"
   ]
  },
  {
   "cell_type": "code",
   "execution_count": 180,
   "metadata": {},
   "outputs": [
    {
     "name": "stdout",
     "output_type": "stream",
     "text": [
      "ic_sales\n",
      " [[ 37 292]\n",
      " [ 40 228]\n",
      " [ 49 324]\n",
      " [ 61 376]\n",
      " [ 72 440]\n",
      " [ 79 496]\n",
      " [ 83 536]\n",
      " [ 81 556]\n",
      " [ 75 496]\n",
      " [ 64 412]\n",
      " [ 53 324]\n",
      " [ 40 320]]\n"
     ]
    }
   ],
   "source": [
    "# Also nanmedian, nanmean, nanstd, nanvar\n",
    "\n",
    "print(\"ic_sales\\n\", ic_sales)"
   ]
  },
  {
   "cell_type": "code",
   "execution_count": 181,
   "metadata": {},
   "outputs": [
    {
     "data": {
      "text/plain": [
       "array([ 62.5, 394. ])"
      ]
     },
     "execution_count": 181,
     "metadata": {},
     "output_type": "execute_result"
    }
   ],
   "source": [
    "# Get the 50th percentile of the data\n",
    "np.percentile(ic_sales, 50, axis=0)"
   ]
  },
  {
   "cell_type": "code",
   "execution_count": 182,
   "metadata": {},
   "outputs": [
    {
     "data": {
      "text/plain": [
       "array([37, 40, 49, 61, 72, 79, 83, 81, 75, 64, 53, 40], dtype=int64)"
      ]
     },
     "execution_count": 182,
     "metadata": {},
     "output_type": "execute_result"
    }
   ],
   "source": [
    "# Get 1st column\n",
    "ic_sales[:,0]\n"
   ]
  },
  {
   "cell_type": "code",
   "execution_count": 183,
   "metadata": {},
   "outputs": [
    {
     "data": {
      "text/plain": [
       "array([[1.        , 0.96181329],\n",
       "       [0.96181329, 1.        ]])"
      ]
     },
     "execution_count": 183,
     "metadata": {},
     "output_type": "execute_result"
    }
   ],
   "source": [
    "# Correlation coefficient : Measure of correlation between data\n",
    "# Closer to 1 the more the data is correlated\n",
    "np.corrcoef(ic_sales[:,0], ic_sales[:,1])"
   ]
  },
  {
   "cell_type": "code",
   "execution_count": 184,
   "metadata": {},
   "outputs": [
    {
     "data": {
      "text/plain": [
       "61.166666666666664"
      ]
     },
     "execution_count": 184,
     "metadata": {},
     "output_type": "execute_result"
    }
   ],
   "source": [
    "# Calculating Regression line\n",
    "# Σ(x-x̅)*(y-ȳ) / Σ(x-x̅)2\n",
    "temp_mean = np.mean(ic_sales[:,0])\n",
    "temp_mean"
   ]
  },
  {
   "cell_type": "code",
   "execution_count": 185,
   "metadata": {},
   "outputs": [
    {
     "data": {
      "text/plain": [
       "400.0"
      ]
     },
     "execution_count": 185,
     "metadata": {},
     "output_type": "execute_result"
    }
   ],
   "source": [
    "sales_mean = np.mean(ic_sales[:,1])\n",
    "sales_mean"
   ]
  },
  {
   "cell_type": "code",
   "execution_count": 186,
   "metadata": {},
   "outputs": [
    {
     "data": {
      "text/plain": [
       "19064.0"
      ]
     },
     "execution_count": 186,
     "metadata": {},
     "output_type": "execute_result"
    }
   ],
   "source": [
    "numerator = np.sum(((ic_sales[:,0] - temp_mean)*(ic_sales[:,1] - sales_mean)))\n",
    "numerator"
   ]
  },
  {
   "cell_type": "code",
   "execution_count": 187,
   "metadata": {},
   "outputs": [
    {
     "data": {
      "text/plain": [
       "3199.666666666667"
      ]
     },
     "execution_count": 187,
     "metadata": {},
     "output_type": "execute_result"
    }
   ],
   "source": [
    "denominator = np.sum(np.square(ic_sales[:,0] - temp_mean))\n",
    "denominator"
   ]
  },
  {
   "cell_type": "code",
   "execution_count": 188,
   "metadata": {},
   "outputs": [
    {
     "data": {
      "text/plain": [
       "5.958120637566412"
      ]
     },
     "execution_count": 188,
     "metadata": {},
     "output_type": "execute_result"
    }
   ],
   "source": [
    "slope = numerator/denominator\n",
    "slope"
   ]
  },
  {
   "cell_type": "code",
   "execution_count": 189,
   "metadata": {},
   "outputs": [
    {
     "data": {
      "text/plain": [
       "35.56162100218779"
      ]
     },
     "execution_count": 189,
     "metadata": {},
     "output_type": "execute_result"
    }
   ],
   "source": [
    "# Calculate y intercept\n",
    "y_i = sales_mean - slope * temp_mean\n",
    "y_i"
   ]
  },
  {
   "cell_type": "code",
   "execution_count": 190,
   "metadata": {},
   "outputs": [
    {
     "data": {
      "text/plain": [
       "array([256.01208459, 273.8864465 , 327.50953224, 399.00697989,\n",
       "       464.54630691, 506.25315137, 530.08563392, 518.16939265,\n",
       "       482.42066882, 416.88134181, 351.34201479, 273.8864465 ])"
      ]
     },
     "execution_count": 190,
     "metadata": {},
     "output_type": "execute_result"
    }
   ],
   "source": [
    "reg_arr = ic_sales[:,0] * slope + y_i\n",
    "reg_arr"
   ]
  },
  {
   "cell_type": "markdown",
   "metadata": {},
   "source": [
    "## Trigonometric Functions"
   ]
  },
  {
   "cell_type": "code",
   "execution_count": 191,
   "metadata": {},
   "outputs": [
    {
     "data": {
      "text/plain": [
       "array([-3.14159265, -3.11001886, -3.07844506, -3.04687127, -3.01529747,\n",
       "       -2.98372368, -2.95214988, -2.92057608, -2.88900229, -2.85742849,\n",
       "       -2.8258547 , -2.7942809 , -2.76270711, -2.73113331, -2.69955952,\n",
       "       -2.66798572, -2.63641193, -2.60483813, -2.57326433, -2.54169054,\n",
       "       -2.51011674, -2.47854295, -2.44696915, -2.41539536, -2.38382156,\n",
       "       -2.35224777, -2.32067397, -2.28910017, -2.25752638, -2.22595258,\n",
       "       -2.19437879, -2.16280499, -2.1312312 , -2.0996574 , -2.06808361,\n",
       "       -2.03650981, -2.00493602, -1.97336222, -1.94178842, -1.91021463,\n",
       "       -1.87864083, -1.84706704, -1.81549324, -1.78391945, -1.75234565,\n",
       "       -1.72077186, -1.68919806, -1.65762426, -1.62605047, -1.59447667,\n",
       "       -1.56290288, -1.53132908, -1.49975529, -1.46818149, -1.4366077 ,\n",
       "       -1.4050339 , -1.3734601 , -1.34188631, -1.31031251, -1.27873872,\n",
       "       -1.24716492, -1.21559113, -1.18401733, -1.15244354, -1.12086974,\n",
       "       -1.08929595, -1.05772215, -1.02614835, -0.99457456, -0.96300076,\n",
       "       -0.93142697, -0.89985317, -0.86827938, -0.83670558, -0.80513179,\n",
       "       -0.77355799, -0.74198419, -0.7104104 , -0.6788366 , -0.64726281,\n",
       "       -0.61568901, -0.58411522, -0.55254142, -0.52096763, -0.48939383,\n",
       "       -0.45782003, -0.42624624, -0.39467244, -0.36309865, -0.33152485,\n",
       "       -0.29995106, -0.26837726, -0.23680347, -0.20522967, -0.17365588,\n",
       "       -0.14208208, -0.11050828, -0.07893449, -0.04736069, -0.0157869 ,\n",
       "        0.0157869 ,  0.04736069,  0.07893449,  0.11050828,  0.14208208,\n",
       "        0.17365588,  0.20522967,  0.23680347,  0.26837726,  0.29995106,\n",
       "        0.33152485,  0.36309865,  0.39467244,  0.42624624,  0.45782003,\n",
       "        0.48939383,  0.52096763,  0.55254142,  0.58411522,  0.61568901,\n",
       "        0.64726281,  0.6788366 ,  0.7104104 ,  0.74198419,  0.77355799,\n",
       "        0.80513179,  0.83670558,  0.86827938,  0.89985317,  0.93142697,\n",
       "        0.96300076,  0.99457456,  1.02614835,  1.05772215,  1.08929595,\n",
       "        1.12086974,  1.15244354,  1.18401733,  1.21559113,  1.24716492,\n",
       "        1.27873872,  1.31031251,  1.34188631,  1.3734601 ,  1.4050339 ,\n",
       "        1.4366077 ,  1.46818149,  1.49975529,  1.53132908,  1.56290288,\n",
       "        1.59447667,  1.62605047,  1.65762426,  1.68919806,  1.72077186,\n",
       "        1.75234565,  1.78391945,  1.81549324,  1.84706704,  1.87864083,\n",
       "        1.91021463,  1.94178842,  1.97336222,  2.00493602,  2.03650981,\n",
       "        2.06808361,  2.0996574 ,  2.1312312 ,  2.16280499,  2.19437879,\n",
       "        2.22595258,  2.25752638,  2.28910017,  2.32067397,  2.35224777,\n",
       "        2.38382156,  2.41539536,  2.44696915,  2.47854295,  2.51011674,\n",
       "        2.54169054,  2.57326433,  2.60483813,  2.63641193,  2.66798572,\n",
       "        2.69955952,  2.73113331,  2.76270711,  2.7942809 ,  2.8258547 ,\n",
       "        2.85742849,  2.88900229,  2.92057608,  2.95214988,  2.98372368,\n",
       "        3.01529747,  3.04687127,  3.07844506,  3.11001886,  3.14159265])"
      ]
     },
     "execution_count": 191,
     "metadata": {},
     "output_type": "execute_result"
    }
   ],
   "source": [
    "# Generate array of 200 values between -pi & pi\n",
    "t_arr = np.linspace(-np.pi, np.pi, 200)\n",
    "t_arr"
   ]
  },
  {
   "cell_type": "code",
   "execution_count": 192,
   "metadata": {},
   "outputs": [],
   "source": [
    "# Plot with x axis & y axis data \n",
    "# plt.plot(t_arr, np.sin(t_arr)) # SIN\n",
    "# plt.plot(t_arr, np.cos(t_arr)) # COS\n",
    "# plt.plot(t_arr, np.tan(t_arr)) # TAN\n",
    "# Display plot\n",
    "# plt.show()"
   ]
  },
  {
   "cell_type": "code",
   "execution_count": 193,
   "metadata": {},
   "outputs": [
    {
     "data": {
      "text/plain": [
       "0.0"
      ]
     },
     "execution_count": 193,
     "metadata": {},
     "output_type": "execute_result"
    }
   ],
   "source": [
    "# Provides inverse of If y = cos(x), x = arccos(y)\n",
    "np.arcsin(1)\n",
    "np.arccos(1)\n",
    "np.arctan(0)\n",
    "# Also arctan2, sinh, cosh, tanh, arcsinh, arccosh, arctanh"
   ]
  },
  {
   "cell_type": "code",
   "execution_count": 194,
   "metadata": {},
   "outputs": [
    {
     "data": {
      "text/plain": [
       "180.0"
      ]
     },
     "execution_count": 194,
     "metadata": {},
     "output_type": "execute_result"
    }
   ],
   "source": [
    "# Radians to degrees\n",
    "np.rad2deg(np.pi)"
   ]
  },
  {
   "cell_type": "code",
   "execution_count": 195,
   "metadata": {},
   "outputs": [
    {
     "data": {
      "text/plain": [
       "3.141592653589793"
      ]
     },
     "execution_count": 195,
     "metadata": {},
     "output_type": "execute_result"
    }
   ],
   "source": [
    "# Degrees to radians\n",
    "np.deg2rad(180)"
   ]
  },
  {
   "cell_type": "code",
   "execution_count": 196,
   "metadata": {},
   "outputs": [
    {
     "data": {
      "text/plain": [
       "14.142135623730951"
      ]
     },
     "execution_count": 196,
     "metadata": {},
     "output_type": "execute_result"
    }
   ],
   "source": [
    "# Hypotenuse c = √w² + h²\n",
    "np.hypot(10,10)"
   ]
  },
  {
   "cell_type": "markdown",
   "metadata": {},
   "source": [
    "## Matrix Functions"
   ]
  },
  {
   "cell_type": "code",
   "execution_count": 53,
   "metadata": {},
   "outputs": [
    {
     "name": "stdout",
     "output_type": "stream",
     "text": [
      "arr_5\n",
      " [[1 2]\n",
      " [3 4]]\n",
      "arr_6\n",
      " [[2 4]\n",
      " [6 9]]\n",
      "arr_3\n",
      " [1 2 3 4]\n",
      "arr_4\n",
      " [2 4 6 8]\n"
     ]
    },
    {
     "data": {
      "text/plain": [
       "array([[1, 0],\n",
       "       [0, 1]])"
      ]
     },
     "execution_count": 53,
     "metadata": {},
     "output_type": "execute_result"
    }
   ],
   "source": [
    "from numpy import linalg as LA\n",
    "\n",
    "print(\"arr_5\\n\", arr_5)\n",
    "print(\"arr_6\\n\", arr_6)\n",
    "arr_8 = np.array([[5, 6], [7, 8]])\n",
    "\n",
    "# Matrix multiplication with Dot Product\n",
    "# (1 * 2) + (2 * 6) = 14 [0,0]\n",
    "# (1 * 4) + (2 * 9) = 22 [0,1]\n",
    "# (3 * 2) + (4 * 6) = 30 [1,0]\n",
    "# (3 * 4) + (4 * 9) = 12 + 36 = 48 [1,1]\n",
    "np.dot(arr_5, arr_6)\n",
    "# Compute dot product of 2 or more arrays\n",
    "LA.multi_dot([arr_5, arr_6, arr_8])\n",
    "\n",
    "# Inner product \n",
    "# (1 * 2) + (2 * 4) = 10 [0,0]\n",
    "# (1 * 6) + (2 * 9) = 24 [0,1]\n",
    "# (3 * 2) + (4 * 4) = 22 [1,0]\n",
    "# (3 * 6) + (4 * 9) = 54 [1,1]\n",
    "np.inner(arr_5, arr_6)\n",
    "np.dot(arr_5, arr_6)\n",
    "\n",
    "# Tensor Dot Product\n",
    "# (1 * 1) + (2 * 2) + (3 * 3) + (4 * 4) = 30\n",
    "# (5 * 1) + (6 * 2) + (7 * 3) + (8 * 4) = \n",
    "arr_9 = np.array([[[1, 2],\n",
    "        [3, 4]],\n",
    "       [[5, 6],\n",
    "        [7, 8]]])\n",
    "arr_10 = np.array([[1, 2],\n",
    "       [3, 4]], dtype=object)\n",
    "np.tensordot(arr_9, arr_10)\n",
    "\n",
    "# Einstein Summation : Provides many ways to perform\n",
    "# operations on multiple arrays\n",
    "arr_11 = np.array([0, 1])\n",
    "arr_12 = np.array([[0, 1, 2, 3], [4, 5, 6, 7]])\n",
    "# Left Side of -> : 1 axis for arr_11 and 2 axis for arr_12\n",
    "# Right of -> : Array we want (1D Array)\n",
    "# ij : Means multiply arr_11 single item by each column of arr_12 and sum\n",
    "# [0, 4 + 5 + 6 + 7]\n",
    "np.einsum('i,ij->i', arr_11, arr_12)\n",
    "# Sum values in arr_11\n",
    "np.einsum('i->', arr_11)\n",
    "# Dot Product\n",
    "print(\"arr_3\\n\", arr_3)\n",
    "print(\"arr_4\\n\", arr_4)\n",
    "np.einsum('i,i->', arr_3, arr_4)\n",
    "# Matrix multiplication\n",
    "np.einsum('ij,jk', arr_5, arr_6)\n",
    "# Get diagonal\n",
    "np.einsum('ii', arr_5)\n",
    "# Transpose\n",
    "np.einsum('ji', arr_5)\n",
    "\n",
    "# Raise matrix to the power of n\n",
    "# Given [[a, b], [c, d]]\n",
    "# [[a² + bc, ab +db], [ac + dc, d² + bc]\n",
    "LA.matrix_power(arr_5, 2)\n",
    "\n",
    "# Kronecker product of 2 arrays\n",
    "# Given [[a, b], [c, d]], [[e, f], [g, h]]\n",
    "# [[a*e, a*f, b*e, b*f], [a*g, a*h, b*g, b*h], ...]\n",
    "np.kron(arr_5, arr_6)\n",
    "\n",
    "# Compute eigenvalues\n",
    "LA.eig(arr_5) # Returns eigenvectors\n",
    "LA.eigvals(arr_5)\n",
    "\n",
    "# Get Vector Norm sqrt(sum(x**2))\n",
    "LA.norm(arr_5)\n",
    "\n",
    "# Get Multiplicative Inverse of a matrix\n",
    "LA.inv(arr_5)\n",
    "\n",
    "# Get Condition number of matrix\n",
    "LA.cond(arr_5)\n",
    "\n",
    "# Determinates are used to compute volume, area, to solve systems\n",
    "# of equations and more. It is a way you can multiply values in a\n",
    "# matrix to get 1 number.\n",
    "# For a matrix to have an inverse its determinate must not equal 0\n",
    "# det([[a, b], [c, d]]) = a*d - b*c\n",
    "arr_12 = np.array([[1, 2], [3, 4]])\n",
    "# 1*4 - 2*3 = -2\n",
    "LA.det(arr_12)\n",
    "\n",
    "# Determinate of 3x3 Matrix\n",
    "# det([[a, b, c], [d, e, f], [g, h, i]]) = a*e*i - b*d*i + c*d*h\n",
    "# - a*f*h + b*f*g - c*e*g\n",
    "\n",
    "# When we multiply a matrix times its inverse we get the identity\n",
    "# matrix [[1,0],[0,1]] for a 2x2 matrix\n",
    "# Calculate the inverse 1/(a*d - b*c) * [[d, -b], [-c, a]]\n",
    "# 1/(4 - 6) = -.5 -> [[-.5*4, -.5*-2], [-.5*-3, -.5*a]]\n",
    "arr_12_i = LA.inv(arr_12)\n",
    "arr_12_i\n",
    "\n",
    "np.dot(arr_12, arr_12_i)\n",
    "\n",
    "# Solving Systems of Linear Equations\n",
    "# If you have 3x + 5 = 9x -> 5 = 6x -> x = 5/6\n",
    "# If you have x + 4y = 10 & 6x + 18y = 42\n",
    "# Isolate x -> x = 10 - 4y\n",
    "# 6(10 - 4y) + 18y = 42 -> 60 - 24y + 18y = 42 - > -6y = -18 -> y = 3\n",
    "# x + 4*3 = 10 -> x = -2\n",
    "arr_13 = np.array([[1, 4], [6, 18]])\n",
    "arr_14 = np.array([10, 42])\n",
    "# Solve will solve this for you as well\n",
    "LA.solve(arr_13, arr_14)\n",
    "\n",
    "# Return a identity matrix with defined number of rows and columns\n",
    "np.eye(2, 2, dtype=int)"
   ]
  },
  {
   "cell_type": "markdown",
   "metadata": {},
   "source": [
    "### Saving & Loading NumPy Objects"
   ]
  },
  {
   "cell_type": "code",
   "execution_count": 54,
   "metadata": {},
   "outputs": [
    {
     "data": {
      "text/plain": [
       "array([[1., 2.],\n",
       "       [3., 4.]])"
      ]
     },
     "execution_count": 54,
     "metadata": {},
     "output_type": "execute_result"
    }
   ],
   "source": [
    "arr_15 = np.array([[1, 2], [3, 4]])\n",
    "# Save as randarray.npy\n",
    "np.save('randarray', arr_15)\n",
    "# Load saved array \n",
    "arr_16 = np.load('randarray.npy')\n",
    "arr_16\n",
    "\n",
    "# Save as a CSV \n",
    "np.savetxt('randcsv.csv', arr_15)\n",
    "# Load CSV\n",
    "arr_17 = np.loadtxt('randcsv.csv')\n",
    "arr_17"
   ]
  },
  {
   "cell_type": "markdown",
   "metadata": {},
   "source": [
    "### Financial Functions"
   ]
  },
  {
   "cell_type": "code",
   "execution_count": 55,
   "metadata": {},
   "outputs": [
    {
     "ename": "ModuleNotFoundError",
     "evalue": "No module named 'numpy_financial'",
     "output_type": "error",
     "traceback": [
      "\u001b[1;31m---------------------------------------------------------------------------\u001b[0m",
      "\u001b[1;31mModuleNotFoundError\u001b[0m                       Traceback (most recent call last)",
      "\u001b[1;32m<ipython-input-55-c075f9b51101>\u001b[0m in \u001b[0;36m<module>\u001b[1;34m\u001b[0m\n\u001b[0;32m      2\u001b[0m \u001b[1;31m# conda install pip\u001b[0m\u001b[1;33m\u001b[0m\u001b[1;33m\u001b[0m\u001b[1;33m\u001b[0m\u001b[0m\n\u001b[0;32m      3\u001b[0m \u001b[1;31m# pip install numpy-financial\u001b[0m\u001b[1;33m\u001b[0m\u001b[1;33m\u001b[0m\u001b[1;33m\u001b[0m\u001b[0m\n\u001b[1;32m----> 4\u001b[1;33m \u001b[1;32mimport\u001b[0m \u001b[0mnumpy_financial\u001b[0m \u001b[1;32mas\u001b[0m \u001b[0mnpf\u001b[0m\u001b[1;33m\u001b[0m\u001b[1;33m\u001b[0m\u001b[0m\n\u001b[0m\u001b[0;32m      5\u001b[0m \u001b[1;33m\u001b[0m\u001b[0m\n\u001b[0;32m      6\u001b[0m \u001b[1;31m# Compute future value of $400 investment every month\u001b[0m\u001b[1;33m\u001b[0m\u001b[1;33m\u001b[0m\u001b[1;33m\u001b[0m\u001b[0m\n",
      "\u001b[1;31mModuleNotFoundError\u001b[0m: No module named 'numpy_financial'"
     ]
    }
   ],
   "source": [
    "# Install in Conda terminal with\n",
    "# conda install pip\n",
    "# pip install numpy-financial\n",
    "import numpy_financial as npf\n",
    "\n",
    "# Compute future value of $400 investment every month\n",
    "# with an annual rate of 8% after 10 years\n",
    "npf.fv(.08/12, 10*12, -400, -400)\n",
    "\n",
    "# Calculate interest portion of payment on a loan of $3,000\n",
    "# at 9.25% per year compounded monthly\n",
    "# Period of loan (year)\n",
    "period = np.arange(1*12) + 1\n",
    "principle = 3000.00\n",
    "# Interest Payment\n",
    "ipmt = npf.ipmt(0.0925/12, period, 1*12, principle)\n",
    "# Principle Payment\n",
    "ppmt = npf.ppmt(0.0925/12, period, 1*12, principle)\n",
    "for payment in period:\n",
    "    index = payment - 1\n",
    "    principle = principle + ppmt[index]\n",
    "    print(f\"{payment}   {np.round(ppmt[index], 2)}    {np.round(ipmt[index],2)}    {np.round(principle, 2)}\")\n",
    "\n",
    "# Compute number of payments to pay off $3,000 if you paid\n",
    "# $150 per month with an interest rate of 9.25%\n",
    "np.round(npf.nper(0.0925/12, -150, 3000.00), 2)\n",
    "\n",
    "# Calculate net present value of cash flows of $4,000, $5,000\n",
    "# $6,000, $7,000 after $15,000 investment with .08 rate per period\n",
    "npf.npv(0.08, [-15000, 4000, 5000, 6000, 7000]).round(2)"
   ]
  },
  {
   "cell_type": "markdown",
   "metadata": {},
   "source": [
    "### Comparison Functions"
   ]
  },
  {
   "cell_type": "code",
   "execution_count": null,
   "metadata": {},
   "outputs": [],
   "source": [
    "carr_1 = np.array([2, 3])\n",
    "carr_2 = np.array([3, 2])\n",
    "# Returns boolean based on whether arr_1 value Comparison arr_2 value\n",
    "np.greater(carr_1, carr_2)\n",
    "np.greater_equal(carr_1, carr_2)\n",
    "np.less(carr_1, carr_2)\n",
    "np.less_equal(carr_1, carr_2)\n",
    "np.not_equal(carr_1, carr_2)\n",
    "np.equal(carr_1, carr_2)"
   ]
  }
 ],
 "metadata": {
  "kernelspec": {
   "display_name": "Python 3",
   "language": "python",
   "name": "python3"
  },
  "language_info": {
   "codemirror_mode": {
    "name": "ipython",
    "version": 3
   },
   "file_extension": ".py",
   "mimetype": "text/x-python",
   "name": "python",
   "nbconvert_exporter": "python",
   "pygments_lexer": "ipython3",
   "version": "3.8.5"
  }
 },
 "nbformat": 4,
 "nbformat_minor": 4
}
