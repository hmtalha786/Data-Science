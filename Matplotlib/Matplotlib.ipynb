{
 "cells": [
  {
   "cell_type": "markdown",
   "metadata": {},
   "source": [
    "## Matplotlib Tutorial"
   ]
  },
  {
   "cell_type": "markdown",
   "metadata": {},
   "source": [
    "### Imports"
   ]
  },
  {
   "cell_type": "code",
   "execution_count": null,
   "metadata": {},
   "outputs": [],
   "source": [
    "# Import Matplotlib and allow plots to show in the Jupyter Notebook\n",
    "import matplotlib.pyplot as plt\n",
    "%matplotlib inline"
   ]
  },
  {
   "cell_type": "code",
   "execution_count": null,
   "metadata": {},
   "outputs": [],
   "source": [
    "# Import NumPy and Pandas\n",
    "import numpy as np\n",
    "import pandas as pd"
   ]
  },
  {
   "cell_type": "code",
   "execution_count": null,
   "metadata": {},
   "outputs": [],
   "source": [
    "# Auto reloads notebook when changes are made\n",
    "%reload_ext autoreload\n",
    "%autoreload 2"
   ]
  },
  {
   "cell_type": "markdown",
   "metadata": {},
   "source": [
    "### Functional Plot"
   ]
  },
  {
   "cell_type": "code",
   "execution_count": null,
   "metadata": {},
   "outputs": [],
   "source": [
    "# Create x & y NumPy arrays (10 Floats from 0 to 5)\n",
    "# Any NumPy array will do for x & y points as long as you have \n",
    "# an equal number \n",
    "x_1 = np.linspace(0,5,10)\n",
    "y_1 = x_1**2"
   ]
  },
  {
   "cell_type": "code",
   "execution_count": null,
   "metadata": {},
   "outputs": [],
   "source": [
    "# Display plot with x & y\n",
    "plt.plot(x_1, y_1)"
   ]
  },
  {
   "cell_type": "code",
   "execution_count": null,
   "metadata": {},
   "outputs": [],
   "source": [
    "# Add a title\n",
    "plt.title('Days Squared Chart')"
   ]
  },
  {
   "cell_type": "code",
   "execution_count": null,
   "metadata": {},
   "outputs": [],
   "source": [
    "# Add an X & Y Label\n",
    "plt.xlabel('Days')\n",
    "plt.ylabel('Days Squared')"
   ]
  },
  {
   "cell_type": "code",
   "execution_count": null,
   "metadata": {},
   "outputs": [],
   "source": [
    "# If not in Jupyter Notebook use\n",
    "# plt.show()"
   ]
  },
  {
   "cell_type": "markdown",
   "metadata": {},
   "source": [
    "### Print Multiple Plots"
   ]
  },
  {
   "cell_type": "code",
   "execution_count": null,
   "metadata": {},
   "outputs": [],
   "source": [
    "# You can print multiple plots at once\n",
    "# Define the row and column to print the plot with a number assigned to the plot"
   ]
  },
  {
   "cell_type": "code",
   "execution_count": null,
   "metadata": {},
   "outputs": [],
   "source": [
    "# First subplot with row=1, column=2, plot=1\n",
    "plt.subplot(1,2,1)"
   ]
  },
  {
   "cell_type": "code",
   "execution_count": null,
   "metadata": {},
   "outputs": [],
   "source": [
    "# Make the line red\n",
    "plt.plot(x_1,y_1,'r')"
   ]
  },
  {
   "cell_type": "code",
   "execution_count": null,
   "metadata": {},
   "outputs": [],
   "source": [
    "# Second subplot with row=1, column=2, plot=2\n",
    "plt.subplot(1,2,2)"
   ]
  },
  {
   "cell_type": "code",
   "execution_count": null,
   "metadata": {},
   "outputs": [],
   "source": [
    "# Make the line blue\n",
    "plt.plot(y_1,x_1,'b')"
   ]
  },
  {
   "cell_type": "markdown",
   "metadata": {},
   "source": [
    "### Using Figure Objects"
   ]
  },
  {
   "cell_type": "code",
   "execution_count": null,
   "metadata": {},
   "outputs": [],
   "source": [
    "# A figure is an object that contains all the plot elements\n",
    "# It can contain many axes\n",
    "# Define width & height in inches\n",
    "# Dots per inch\n",
    "fig_1 = plt.figure(figsize=(5,4),dpi=100)"
   ]
  },
  {
   "cell_type": "code",
   "execution_count": null,
   "metadata": {},
   "outputs": [],
   "source": [
    "# Adds axes with a left, bottom, width and height that ranges from 0 to 1\n",
    "# which is the percent of the canvas you want to use\n",
    "axes_1 = fig_1.add_axes([0.1,0.1,0.9,0.9])"
   ]
  },
  {
   "cell_type": "code",
   "execution_count": null,
   "metadata": {},
   "outputs": [],
   "source": [
    "# Set lables and title\n",
    "axes_1.set_xlabel('Days')\n",
    "axes_1.set_ylabel('Days Squared')\n",
    "axes_1.set_title('Days Squared Chart')"
   ]
  },
  {
   "cell_type": "code",
   "execution_count": null,
   "metadata": {},
   "outputs": [],
   "source": [
    "# Plot on the axes (If you want a label associated with the legend add it with label)\n",
    "axes_1.plot(x_1,y_1,label='x / x²')"
   ]
  },
  {
   "cell_type": "code",
   "execution_count": null,
   "metadata": {},
   "outputs": [],
   "source": [
    "# You can plot to plots using the same axes\n",
    "axes_1.plot(y_1,x_1,label='x² / x')"
   ]
  },
  {
   "cell_type": "code",
   "execution_count": null,
   "metadata": {},
   "outputs": [],
   "source": [
    "# Add the optional legend with a location number (best: 0, \n",
    "# upper right: 1, upper left: 2, lower left: 3, lower right: 4,\n",
    "# https://matplotlib.org/3.3.1/api/_as_gen/matplotlib.pyplot.legend.html)\n",
    "# or supply a tuple of x & y from lower left\n",
    "axes_1.legend(loc=0)"
   ]
  },
  {
   "cell_type": "code",
   "execution_count": null,
   "metadata": {},
   "outputs": [],
   "source": [
    "# You can create axis inside of others\n",
    "axes_2 = fig_1.add_axes([0.45,0.45,0.4,0.3])\n",
    "axes_2.set_xlabel('Days')\n",
    "axes_2.set_ylabel('Days Squared')\n",
    "axes_2.set_title('Small Days Squared Chart')\n",
    "axes_2.plot(x_1,y_1,'r')"
   ]
  },
  {
   "cell_type": "code",
   "execution_count": null,
   "metadata": {},
   "outputs": [],
   "source": [
    "# Add text to plot from central point of 0,0\n",
    "axes_2.text(0, 40, 'Message')"
   ]
  },
  {
   "cell_type": "markdown",
   "metadata": {},
   "source": [
    "### SubPlots"
   ]
  },
  {
   "cell_type": "code",
   "execution_count": null,
   "metadata": {},
   "outputs": [],
   "source": [
    "# You can define multiple plots with subplots and it handles creating the axes objects\n",
    "# axes_2 is a list of axes objects\n",
    "fig_2, axes_2 = plt.subplots(figsize=(8,4), nrows=1, ncols=3)"
   ]
  },
  {
   "cell_type": "code",
   "execution_count": null,
   "metadata": {},
   "outputs": [],
   "source": [
    "# Put space between plots\n",
    "plt.tight_layout()"
   ]
  },
  {
   "cell_type": "code",
   "execution_count": null,
   "metadata": {},
   "outputs": [],
   "source": [
    "# You can access the plots by index\n",
    "axes_2[1].set_title('Plot 2')\n",
    "axes_2[1].set_xlabel('X')\n",
    "axes_2[1].set_ylabel('X Squared')\n",
    "axes_2[1].plot(x_1,y_1)"
   ]
  },
  {
   "cell_type": "markdown",
   "metadata": {},
   "source": [
    "### Appearance Options"
   ]
  },
  {
   "cell_type": "code",
   "execution_count": null,
   "metadata": {},
   "outputs": [],
   "source": [
    "fig_3 = plt.figure(figsize=(6,4))"
   ]
  },
  {
   "cell_type": "code",
   "execution_count": null,
   "metadata": {},
   "outputs": [],
   "source": [
    "axes_3 = fig_3.add_axes([0,0,1,1])"
   ]
  },
  {
   "cell_type": "code",
   "execution_count": null,
   "metadata": {},
   "outputs": [],
   "source": [
    "# Default colors (b: blue, g: green, r: red, c: cyan, m: magenta,\n",
    "# y: yellow, k: black, w: white)\n",
    "# color=\"0.75\" creates a 75% gray\n",
    "# You can use hexcodes color=\"#eeefff\"\n",
    "# You can use color names found next like this color=\"burlywood\"\n",
    "# https://en.wikipedia.org/wiki/Web_colors\n",
    "# alpha defines the percentage of opacity"
   ]
  },
  {
   "cell_type": "code",
   "execution_count": null,
   "metadata": {},
   "outputs": [],
   "source": [
    "# The default line width is 1, so to double it put in 2 and so forth"
   ]
  },
  {
   "cell_type": "code",
   "execution_count": null,
   "metadata": {},
   "outputs": [],
   "source": [
    "# There are many line styles \n",
    "# matplotlib.org/3.1.0/gallery/lines_bars_and_markers/linestyles.html\n",
    "# You can also provide a sample like '-.'"
   ]
  },
  {
   "cell_type": "code",
   "execution_count": null,
   "metadata": {},
   "outputs": [],
   "source": [
    "# Markers can mark your provided points on the graph\n",
    "# https://matplotlib.org/3.3.0/api/markers_api.html\n",
    "# You can change the markersize as well"
   ]
  },
  {
   "cell_type": "code",
   "execution_count": null,
   "metadata": {},
   "outputs": [],
   "source": [
    "# markerfacecolor changes the marker fill color\n",
    "# markeredgecolor changes the marker stroke color\n",
    "# markeredgewidth changes the markers stroke size"
   ]
  },
  {
   "cell_type": "code",
   "execution_count": null,
   "metadata": {},
   "outputs": [],
   "source": [
    "axes_3.plot(x_1,y_1,color='navy', alpha=.75, lw=2, ls='-.',\n",
    "           marker='o', markersize=7, markerfacecolor='y',\n",
    "           markeredgecolor='y', markeredgewidth=4)"
   ]
  },
  {
   "cell_type": "code",
   "execution_count": null,
   "metadata": {},
   "outputs": [],
   "source": [
    "# Set the lower and upper bound of x & y axis\n",
    "axes_3.set_xlim([0,3])\n",
    "axes_3.set_ylim([0,8])"
   ]
  },
  {
   "cell_type": "code",
   "execution_count": null,
   "metadata": {},
   "outputs": [],
   "source": [
    "# Add a grid, color, dashes(5pts 1 pt dashes separated by 2pt space)\n",
    "axes_3.grid(True, color='0.6', dashes=(5, 2, 1, 2))"
   ]
  },
  {
   "cell_type": "code",
   "execution_count": null,
   "metadata": {},
   "outputs": [],
   "source": [
    "# Set grid background color\n",
    "axes_3.set_facecolor('#FAEBD7')"
   ]
  },
  {
   "cell_type": "markdown",
   "metadata": {},
   "source": [
    "### Save a Visualization to a File"
   ]
  },
  {
   "cell_type": "code",
   "execution_count": null,
   "metadata": {},
   "outputs": [],
   "source": [
    "# You can save your plots to numerous file types : png, pdf, ps, eps, svg, pgf, \n",
    "fig_3.savefig('1st_plot.png')"
   ]
  },
  {
   "cell_type": "markdown",
   "metadata": {},
   "source": [
    "### Working with Pandas DataFrame"
   ]
  },
  {
   "cell_type": "code",
   "execution_count": null,
   "metadata": {},
   "outputs": [],
   "source": [
    "# Read in ice cream sales data\n",
    "ics_df = pd.read_csv('icecreamsales.csv')\n",
    "ics_df = ics_df.sort_values(by='Temperature')"
   ]
  },
  {
   "cell_type": "code",
   "execution_count": null,
   "metadata": {},
   "outputs": [],
   "source": [
    "# Convert from Pandas to NumPy array\n",
    "np_arr = ics_df.values"
   ]
  },
  {
   "cell_type": "code",
   "execution_count": null,
   "metadata": {},
   "outputs": [],
   "source": [
    "# Get x & y values and put in array\n",
    "x_2 = np_arr[:,0]\n",
    "y_2 = np_arr[:,1]"
   ]
  },
  {
   "cell_type": "code",
   "execution_count": null,
   "metadata": {},
   "outputs": [],
   "source": [
    "fig_4 = plt.figure(figsize=(6,4))\n",
    "axes_4 = fig_4.add_axes([0,0,1,1])\n",
    "axes_4.set_title('Ice Cream Sales vs. Temperature')\n",
    "axes_4.set_xlabel('Temperature')\n",
    "axes_4.set_ylabel('Ice Cream Sales')\n",
    "axes_4.plot(x_2,y_2)"
   ]
  },
  {
   "cell_type": "code",
   "execution_count": null,
   "metadata": {},
   "outputs": [],
   "source": [
    "# Add Annotations by supplying the x & y to point at and the position of the text\n",
    "# based off of lower left had corner being 0,0\n",
    "axes_4.annotate('Good Month', xy=(83, 536), xytext=(60, 520), arrowprops=dict(facecolor='black', shrink=0.05),)"
   ]
  },
  {
   "cell_type": "code",
   "execution_count": null,
   "metadata": {},
   "outputs": [],
   "source": [
    "# Add bars to the plot\n",
    "plt.bar(x_2,y_2)"
   ]
  },
  {
   "cell_type": "markdown",
   "metadata": {},
   "source": [
    "### TeX Markup"
   ]
  },
  {
   "cell_type": "code",
   "execution_count": null,
   "metadata": {},
   "outputs": [],
   "source": [
    "# You can use a subset of TeX markup by placing text between $\n",
    "# matplotlib.org/tutorials/text/mathtext.html\n",
    "fig_5 = plt.figure(figsize=(5,4),dpi=100)\n",
    "axes_5 = fig_5.add_axes([0.1,0.1,0.9,0.9])"
   ]
  },
  {
   "cell_type": "code",
   "execution_count": null,
   "metadata": {},
   "outputs": [],
   "source": [
    "# All listed plus kappa, iota, zeta, nu, rho, eta, xi, omicron, gamma, tau, phi, \n",
    "# chi, psi, delta (Capitalize the first letter for uppercase)\n",
    "axes_5.text(0, 23,  r'$\\alpha \\beta \\sigma \\omega \\epsilon \\mu \\pi \\theta \\lambda$', fontsize=18)"
   ]
  },
  {
   "cell_type": "code",
   "execution_count": null,
   "metadata": {},
   "outputs": [],
   "source": [
    "# Subscripts, multiletter superscript, sum, fractions, binomial\n",
    "axes_5.text(0, 18, r'$\\delta_i \\gamma^{ij} \\sum_{i=0}^\\infty x_i \\frac{3}{4} \\binom{3}{4}$', fontsize=18)"
   ]
  },
  {
   "cell_type": "code",
   "execution_count": null,
   "metadata": {
    "scrolled": true
   },
   "outputs": [],
   "source": [
    "# Another fraction, sqrt, cbrt, trig functions : \n",
    "axes_5.text(0, 13, \n",
    "            r'$\\frac{8 - \\frac{x}{5}}{8} \\sqrt{9} \\sin(\\pi) \\sqrt[3]{8} \\acute a \\div$', \n",
    "            fontsize=18)\n",
    "axes_5.text(0, 8, \n",
    "            r'$\\bar a \\hat a \\tilde a \\vec a \\overline {a} \\lim_{x \\to 2} f(x) = 5$', \n",
    "            fontsize=18)\n",
    "axes_5.text(0, 3, \n",
    "            r'$\\geq \\leq \\ne$', \n",
    "            fontsize=18)\n",
    "axes_5.plot(x_1,y_1)\n"
   ]
  },
  {
   "cell_type": "markdown",
   "metadata": {},
   "source": [
    "### Histograms"
   ]
  },
  {
   "cell_type": "code",
   "execution_count": null,
   "metadata": {},
   "outputs": [],
   "source": [
    "# Roll 2 6 sided dies get the sum and plot the histogram\n",
    "arr_1 = np.random.randint(1,7,5000)\n",
    "arr_2 = np.random.randint(1,7,5000)\n",
    "arr_3 = arr_1 + arr_2"
   ]
  },
  {
   "cell_type": "code",
   "execution_count": null,
   "metadata": {},
   "outputs": [],
   "source": [
    "# Bins reprsent the number of options available 2 thru 12 = 11\n",
    "# Density returns the frequency of each bin\n",
    "# Range gets tuple with bin range interested in\n",
    "# cumulative=True use a cumulative distribution\n",
    "# histtype='step' genrates a line plot\n",
    "# orientation='horizontal' \n",
    "# color='orange' change bar color\n",
    "plt.hist(arr_3, bins=11, density=True, stacked=True)"
   ]
  },
  {
   "cell_type": "markdown",
   "metadata": {},
   "source": [
    "### Bar Charts"
   ]
  },
  {
   "cell_type": "code",
   "execution_count": null,
   "metadata": {},
   "outputs": [],
   "source": [
    "# Analyze where France gets its electricity from\n",
    "x = ['Nuclear', 'Hydro', 'Coal', 'Gas', 'Solar', 'Wind', 'Other']\n",
    "per_1 = [71, 10, 3, 7, 2, 4, 3]"
   ]
  },
  {
   "cell_type": "code",
   "execution_count": null,
   "metadata": {},
   "outputs": [],
   "source": [
    "# Chart variance in usage\n",
    "variance = [8, 3, 1, 3, 1, 2, 1]"
   ]
  },
  {
   "cell_type": "code",
   "execution_count": null,
   "metadata": {},
   "outputs": [],
   "source": [
    "# barh makes horizontal chart\n",
    "# Also yerr, change error color with ecolor\n",
    "# plt.bar(x, per_1, color='purple', yerr=variance)"
   ]
  },
  {
   "cell_type": "code",
   "execution_count": null,
   "metadata": {},
   "outputs": [],
   "source": [
    "# Show percentages of males & females in engineering\n",
    "m_eng = (76, 85, 86, 88, 93)\n",
    "f_eng = (24, 15, 14, 12, 7)"
   ]
  },
  {
   "cell_type": "code",
   "execution_count": null,
   "metadata": {},
   "outputs": [],
   "source": [
    "# Get evenly spaced values for each interval\n",
    "spc = np.arange(5)"
   ]
  },
  {
   "cell_type": "code",
   "execution_count": null,
   "metadata": {},
   "outputs": [],
   "source": [
    "# Plot bars for men & women\n",
    "# Can also add yerr, xerr, \n",
    "# plt.bar(spc, m_eng, width=0.45, label='Male', edgecolor='k')\n",
    "# plt.bar(spc + 0.45, f_eng, width=0.45, label='Female', edgecolor='k')"
   ]
  },
  {
   "cell_type": "code",
   "execution_count": null,
   "metadata": {},
   "outputs": [],
   "source": [
    "# Define x tick names and place in middle of bars\n",
    "# plt.xticks(spc + 0.45 / 2, ('Aero', 'Chem', 'Civil', 'Elec', 'Mech'))"
   ]
  },
  {
   "cell_type": "code",
   "execution_count": null,
   "metadata": {},
   "outputs": [],
   "source": [
    "# Plot teachers by sex\n",
    "t_type = ['Kind', 'Elem', 'Sec', 'Spec']\n",
    "m_teach = np.array([2, 20, 44, 14])\n",
    "f_teach = np.array([98, 80, 56, 86])\n",
    "ind = [x for x, _ in enumerate(t_type)]"
   ]
  },
  {
   "cell_type": "code",
   "execution_count": null,
   "metadata": {},
   "outputs": [],
   "source": [
    "# Plot stacked bars for men and then women under\n",
    "plt.bar(ind, m_teach, width=0.45, label='Male', bottom=f_teach)\n",
    "plt.bar(ind, f_teach, width=0.45, label='Female')\n",
    "\n",
    "plt.legend(loc='lower right')"
   ]
  },
  {
   "cell_type": "markdown",
   "metadata": {},
   "source": [
    "### Pie Charts"
   ]
  },
  {
   "cell_type": "code",
   "execution_count": null,
   "metadata": {},
   "outputs": [],
   "source": [
    "import random"
   ]
  },
  {
   "cell_type": "code",
   "execution_count": null,
   "metadata": {},
   "outputs": [],
   "source": [
    "fig_6 = plt.figure(figsize=(8,5),dpi=100)\n",
    "axes_6 = fig_6.add_axes([0.1,0.1,0.9,0.9])"
   ]
  },
  {
   "cell_type": "code",
   "execution_count": null,
   "metadata": {},
   "outputs": [],
   "source": [
    "# Create a pie chart of the number of Pokemon by type\n",
    "types = ['Water', 'Normal', 'Flying', 'Grass', 'Psychic', 'Bug', 'Fire', 'Poison',\n",
    "'Ground', 'Rock', 'Fighting', 'Dark', 'Steel', 'Electric', 'Dragon', 'Fairy','Ghost', 'Ice']\n",
    "poke_num = [133, 109, 101, 98, 85, 77, 68, 66, 65, 60, 57, 54, 53, 51, 50, 50, 46, 40]"
   ]
  },
  {
   "cell_type": "code",
   "execution_count": null,
   "metadata": {},
   "outputs": [],
   "source": [
    "# Generate a random color array (Use lower values to make darkb)\n",
    "colors = []\n",
    "for i in range(18):\n",
    "    rgb = (random.uniform(0, .5), random.uniform(0, .5), random.uniform(0, .5))\n",
    "    colors.append(rgb)"
   ]
  },
  {
   "cell_type": "code",
   "execution_count": null,
   "metadata": {},
   "outputs": [],
   "source": [
    "# Explode biggest 1st slice\n",
    "explode = [0] * 18\n",
    "explode[0] = 0.2"
   ]
  },
  {
   "cell_type": "code",
   "execution_count": null,
   "metadata": {},
   "outputs": [],
   "source": [
    "# Provide values, what to explode and by how much, labels, colors, pct for values,\n",
    "# whether to shadow, amount to rotate pie, pie text color\n",
    "wedges, texts, autotexts = plt.pie(poke_num, explode=explode, labels=types, colors=colors, \n",
    "                                   autopct='%1.0f%%', shadow=True, startangle=140, \n",
    "                                   textprops=dict(color=\"w\"))"
   ]
  },
  {
   "cell_type": "code",
   "execution_count": null,
   "metadata": {
    "scrolled": true
   },
   "outputs": [],
   "source": [
    "# Create legend to right and move off pie with 1-1.5 axes point width\n",
    "plt.legend(wedges, types, loc='right', bbox_to_anchor=(1, 0, 0.5, 1))"
   ]
  },
  {
   "cell_type": "markdown",
   "metadata": {},
   "source": [
    "### Plot Timeseries"
   ]
  },
  {
   "cell_type": "code",
   "execution_count": null,
   "metadata": {},
   "outputs": [],
   "source": [
    "import datetime"
   ]
  },
  {
   "cell_type": "code",
   "execution_count": null,
   "metadata": {},
   "outputs": [],
   "source": [
    "# I'll show other ways of doing this when I cover Matplotlib Finance\n",
    "# Get Yahoo GOOG csv file and convert to NumPy array\n",
    "# https://finance.yahoo.com/quote/GOOG/history/\n",
    "goog_data = pd.read_csv('GOOG.csv')\n",
    "goog_data_np = goog_data.to_numpy()"
   ]
  },
  {
   "cell_type": "code",
   "execution_count": null,
   "metadata": {},
   "outputs": [],
   "source": [
    "# Get array of prices in 5th column\n",
    "goog_cp = goog_data_np[:,4]\n",
    "goog_cp"
   ]
  },
  {
   "cell_type": "code",
   "execution_count": null,
   "metadata": {},
   "outputs": [],
   "source": [
    "# Get NumPy array with just weekdays between dates excluding holidays\n",
    "holidays = [datetime.datetime(2020,5,25), datetime.datetime(2020,8,19)]\n",
    "date_arr = pd.bdate_range(start='5/20/2020', end='8/19/2020', freq='C', holidays=holidays)\n",
    "date_arr_np = date_arr.to_numpy()"
   ]
  },
  {
   "cell_type": "code",
   "execution_count": null,
   "metadata": {},
   "outputs": [],
   "source": [
    "fig_7 = plt.figure(figsize=(8,5),dpi=100)\n",
    "axes_7 = fig_7.add_axes([0.1,0.1,0.9,0.9])"
   ]
  },
  {
   "cell_type": "code",
   "execution_count": null,
   "metadata": {},
   "outputs": [],
   "source": [
    "plt.plot(date_arr_np, goog_cp)"
   ]
  },
  {
   "cell_type": "markdown",
   "metadata": {},
   "source": [
    "### Tables"
   ]
  },
  {
   "cell_type": "code",
   "execution_count": null,
   "metadata": {},
   "outputs": [],
   "source": [
    "# Format column data to 2 decimals\n",
    "goog_data['Open'] = pd.Series([round(val, 2) for val in goog_data['Open']], index = goog_data.index)\n",
    "\n",
    "goog_data['High'] = pd.Series([round(val, 2) for val in goog_data['High']], index = goog_data.index)\n",
    "\n",
    "goog_data['Low'] = pd.Series([round(val, 2) for val in goog_data['Low']], index = goog_data.index)\n",
    "\n",
    "goog_data['Close'] = pd.Series([round(val, 2) for val in goog_data['Close']], index = goog_data.index)\n",
    "\n",
    "goog_data['Adj Close'] = pd.Series([round(val, 2) for val in goog_data['Adj Close']], index = goog_data.index)"
   ]
  },
  {
   "cell_type": "code",
   "execution_count": null,
   "metadata": {},
   "outputs": [],
   "source": [
    "# Get most recent last 5 days of stock data\n",
    "stk_data = goog_data[-5:]\n",
    "stk_data"
   ]
  },
  {
   "cell_type": "code",
   "execution_count": null,
   "metadata": {},
   "outputs": [],
   "source": [
    "# Define headers\n",
    "col_head = ('Date','Open','High','Low','Close','Adj Close','Volume')"
   ]
  },
  {
   "cell_type": "code",
   "execution_count": null,
   "metadata": {},
   "outputs": [],
   "source": [
    "stk_data_np = stk_data.to_numpy()\n",
    "stk_data_np"
   ]
  },
  {
   "cell_type": "code",
   "execution_count": null,
   "metadata": {},
   "outputs": [],
   "source": [
    "# Add padding around cells in table\n",
    "plt.figure(linewidth=2, tight_layout={'pad':.5}, figsize=(5,3))"
   ]
  },
  {
   "cell_type": "code",
   "execution_count": null,
   "metadata": {},
   "outputs": [],
   "source": [
    "# Get rid of axes and plot box\n",
    "axes_8 = plt.gca()\n",
    "axes_8.get_xaxis().set_visible(False)\n",
    "axes_8.get_yaxis().set_visible(False)\n",
    "plt.box(on=None)"
   ]
  },
  {
   "cell_type": "code",
   "execution_count": null,
   "metadata": {},
   "outputs": [],
   "source": [
    "# np.full returns an array filled with 0.1\n",
    "# cm is a colormap object we are using to use a default blue color\n",
    "# matplotlib.org/3.1.0/tutorials/colors/colormaps.html\n",
    "ccolors = plt.cm.Blues(np.full(len(col_head), 0.2))"
   ]
  },
  {
   "cell_type": "code",
   "execution_count": null,
   "metadata": {},
   "outputs": [],
   "source": [
    "# Receives data, loc, list of column headers, column header color as array of colors\n",
    "# You can also add rowLabel, rowColours, rowLoc: Text alignment\n",
    "the_table = plt.table(cellText=stk_data_np, loc='center', colLabels=col_head, colColours=ccolors)"
   ]
  },
  {
   "cell_type": "code",
   "execution_count": null,
   "metadata": {},
   "outputs": [],
   "source": [
    "# Set table font size\n",
    "the_table.set_fontsize(14)\n",
    "the_table.scale(3, 2.5)"
   ]
  },
  {
   "cell_type": "markdown",
   "metadata": {},
   "source": [
    "### Scatterplots"
   ]
  },
  {
   "cell_type": "code",
   "execution_count": null,
   "metadata": {},
   "outputs": [],
   "source": [
    "# Country array\n",
    "cnt_arr = np.array(['Australia','Brazil','Canada','Chile','France','Germany','Greece',\n",
    "                   'Iceland','India','Iran','Italy','Mexico','New Zealand','Nigeria',\n",
    "                   'Norway','Pakistan','Peru','Russia','Saudi Arabia','Singapore',\n",
    "                   'South Africa','Spain','Sweden','Turkey','UK','US'])"
   ]
  },
  {
   "cell_type": "code",
   "execution_count": null,
   "metadata": {},
   "outputs": [],
   "source": [
    "# Death rate per 100k Coronavirus\n",
    "dr_arr = np.array([1.8,53,24.5,56.5,45.4,11.2,2.2,\n",
    "                   2.8,4,24.6,58.6,46.3,.5,.5,\n",
    "                   4.9,2.9,83.3,11,10.4,.5,\n",
    "                   21.5,61.6,56.9,7.3,62.4,52.9])"
   ]
  },
  {
   "cell_type": "code",
   "execution_count": null,
   "metadata": {},
   "outputs": [],
   "source": [
    "# Daily confirmed cases (Tests)\n",
    "test_arr = np.array([110,7197,600,1862,1636,1103,35,\n",
    "                   10,295,1658,1226,2490,8,243,\n",
    "                   48,1395,1101,4447,1443,280,\n",
    "                   2830,1602,447,1205,1546,24988])"
   ]
  },
  {
   "cell_type": "code",
   "execution_count": null,
   "metadata": {},
   "outputs": [],
   "source": [
    "# Dot size Confirmed cases\n",
    "cc_arr = np.array([24236,3456652,125408,390037,256534,229706,7684,\n",
    "                   2035,2836925,350279,255278,537031,1654,50488,\n",
    "                   10162,290445,549321,935066,302686,56031,\n",
    "                   596060,370867,85411,253108,323008,5529824])"
   ]
  },
  {
   "cell_type": "code",
   "execution_count": null,
   "metadata": {},
   "outputs": [],
   "source": [
    "cc_arr_sm = cc_arr / 1000\n",
    "color_arr = np.random.rand(26)"
   ]
  },
  {
   "cell_type": "code",
   "execution_count": null,
   "metadata": {},
   "outputs": [],
   "source": [
    "plt.title('Death Rate per 100k vs. Confirmed Cases')\n",
    "plt.xlabel('Death Rate per 100k')\n",
    "plt.ylabel('Confirmed Cases')\n",
    "plt.scatter(dr_arr,test_arr,s=cc_arr_sm,c=color_arr,alpha=0.5)"
   ]
  },
  {
   "cell_type": "markdown",
   "metadata": {},
   "source": [
    "### 3D Surface"
   ]
  },
  {
   "cell_type": "code",
   "execution_count": null,
   "metadata": {},
   "outputs": [],
   "source": [
    "# Needed for creating 3D axes\n",
    "from mpl_toolkits import mplot3d"
   ]
  },
  {
   "cell_type": "code",
   "execution_count": null,
   "metadata": {},
   "outputs": [],
   "source": [
    "fig_9 = plt.figure(figsize=(8,5),dpi=100)\n",
    "axes_9 = fig_9.add_axes([0.1,0.1,0.9,0.9], projection='3d')"
   ]
  },
  {
   "cell_type": "code",
   "execution_count": null,
   "metadata": {},
   "outputs": [],
   "source": [
    "# Create a 3D scatterplot\n",
    "# Te darker points are represented that way to seem closer to you\n",
    "z_3 = 15 * np.random.random(100)\n",
    "x_3 = np.sin(z_3) * np.random.randn(100)\n",
    "y_3 = np.cos(z_3) * np.random.randn(100)\n",
    "# axes_9.scatter3D(x_3, y_3, z_3, c=z_3, cmap='Blues')"
   ]
  },
  {
   "cell_type": "code",
   "execution_count": null,
   "metadata": {},
   "outputs": [],
   "source": [
    "# You can create contour plots by defining a function for z based on x & y\n",
    "def get_z(x, y):\n",
    "    return np.sin(np.sqrt(x**2 + y**2))\n",
    "\n",
    "x_4 = np.linspace(-6, 6, 30)\n",
    "y_4 = np.linspace(-6, 6, 30)"
   ]
  },
  {
   "cell_type": "code",
   "execution_count": null,
   "metadata": {},
   "outputs": [],
   "source": [
    "# Creates a rectangular grid out of 2 given 1D arrays\n",
    "x_4, y_4 = np.meshgrid(x_4, y_4)\n",
    "z_4 = get_z(x_4,y_4)"
   ]
  },
  {
   "cell_type": "code",
   "execution_count": null,
   "metadata": {},
   "outputs": [],
   "source": [
    "# Change viewing angle to reorient camera 60 degrees and rotate 55\n",
    "axes_9.view_init(45,55)"
   ]
  },
  {
   "cell_type": "code",
   "execution_count": null,
   "metadata": {},
   "outputs": [],
   "source": [
    "# Provide x, y, z, contours and color map\n",
    "# axes_9.contour3D(x_4,y_4,z_4,80,cmap='Blues')\n",
    "axes_9.set_xlabel('x')\n",
    "axes_9.set_ylabel('y')\n",
    "axes_9.set_zlabel('z')"
   ]
  },
  {
   "cell_type": "code",
   "execution_count": null,
   "metadata": {},
   "outputs": [],
   "source": [
    "# You can create wireframes\n",
    "# axes_9.plot_wireframe(x_4,y_4,z_4,color='blue')"
   ]
  },
  {
   "cell_type": "code",
   "execution_count": null,
   "metadata": {
    "scrolled": true
   },
   "outputs": [],
   "source": [
    "# You can create surface plots which is wireframe with filled faces\n",
    "axes_9.plot_surface(x_4,y_4,z_4, rstride=1, cstride=1,cmap='Blues',edgecolor='none')"
   ]
  },
  {
   "cell_type": "markdown",
   "metadata": {},
   "source": [
    "### Matplotlib Finance"
   ]
  },
  {
   "cell_type": "code",
   "execution_count": null,
   "metadata": {},
   "outputs": [],
   "source": [
    "# We need this module to handle the calculations\n",
    "import mplfinance as mpf"
   ]
  },
  {
   "cell_type": "code",
   "execution_count": null,
   "metadata": {},
   "outputs": [],
   "source": [
    "# Get stock data as DataFrame and define index\n",
    "goog_df = pd.read_csv('GOOG.csv',index_col=0,parse_dates=True)\n",
    "goog_df.index.name = 'Date'\n",
    "\n",
    "goog_df.shape"
   ]
  },
  {
   "cell_type": "code",
   "execution_count": null,
   "metadata": {},
   "outputs": [],
   "source": [
    "# A candlestick chart demonstrates the daily open, high, low and closing price of a stock\n",
    "# mpf.plot(goog_df,type='candle')"
   ]
  },
  {
   "cell_type": "code",
   "execution_count": null,
   "metadata": {},
   "outputs": [],
   "source": [
    "# Plot price changes\n",
    "# mpf.plot(goog_df,type='line')"
   ]
  },
  {
   "cell_type": "code",
   "execution_count": null,
   "metadata": {},
   "outputs": [],
   "source": [
    "# Moving averages provide trend information (Average of previous 4 observations)\n",
    "# mpf.plot(goog_df,type='ohlc',mav=4)"
   ]
  },
  {
   "cell_type": "code",
   "execution_count": null,
   "metadata": {},
   "outputs": [],
   "source": [
    "# You can plot multiple MAVs, volume, non-trading days\n",
    "mpf.plot(goog_df,type='ohlc',mav=(3,5,7),volume=True,show_nontrading=True)"
   ]
  },
  {
   "cell_type": "code",
   "execution_count": null,
   "metadata": {},
   "outputs": [],
   "source": [
    "# You can make additonal charts with intraday data"
   ]
  },
  {
   "cell_type": "markdown",
   "metadata": {},
   "source": [
    "### Heatmaps"
   ]
  },
  {
   "cell_type": "code",
   "execution_count": null,
   "metadata": {},
   "outputs": [],
   "source": [
    "# A heatmap is a color coded representation of data from a 2D list\n",
    "symptoms = [\"Coronavirus\",\"Influenza\",\"Pneumonia\",\"Dyspnea\"]\n",
    "dates = [\"Jun28\",\"Jul05\",\"Jul12\",\"Jul19\",\"Jul26\",\"Aug02\",\"Aug09\",\"Aug16\",\"Aug21\"]\n",
    "symp_per = np.array([[5.2, 5.5, 5.7, 5.6, 5.3, 5.1, 5.0, 4.9, 5.3],\n",
    "                    [3.5, 4.0, 4.3, 3.9, 3.5, 3.2, 2.7, 2.2, 2.0],\n",
    "                    [1.8, 2.2, 2.3, 2.2, 2.1, 1.9, 1.7, 1.4, 1.3],\n",
    "                    [1.0, 1.1, 1.1, 1.0, 0.9, 0.8, 0.8, 0.8, 0.7]])\n",
    "\n",
    "fig_10, axes_10 = plt.subplots()"
   ]
  },
  {
   "cell_type": "code",
   "execution_count": null,
   "metadata": {},
   "outputs": [],
   "source": [
    "# Dfine data to use and color map\n",
    "im = axes_10.imshow(symp_per, cmap=\"Wistia\")"
   ]
  },
  {
   "cell_type": "code",
   "execution_count": null,
   "metadata": {},
   "outputs": [],
   "source": [
    "# Add ticks at data points and labels\n",
    "axes_10.set_xticks(np.arange(len(dates)))\n",
    "axes_10.set_yticks(np.arange(len(symptoms)))\n",
    "axes_10.set_xticklabels(dates)\n",
    "axes_10.set_yticklabels(symptoms)"
   ]
  },
  {
   "cell_type": "code",
   "execution_count": null,
   "metadata": {},
   "outputs": [],
   "source": [
    "# Rotate labels on the bottom so they don't overlap\n",
    "plt.setp(axes_10.get_xticklabels(), rotation=45, ha=\"right\", rotation_mode=\"anchor\")"
   ]
  },
  {
   "cell_type": "code",
   "execution_count": null,
   "metadata": {},
   "outputs": [],
   "source": [
    "# Loop over data dimensions and create text annotations.\n",
    "for i in range(len(symptoms)):\n",
    "    for j in range(len(dates)):\n",
    "        text = axes_10.text(j, i, symp_per[i, j], ha=\"center\", va=\"center\", color=\"k\",fontweight=\"bold\")"
   ]
  }
 ],
 "metadata": {
  "kernelspec": {
   "display_name": "Python 3",
   "language": "python",
   "name": "python3"
  },
  "language_info": {
   "codemirror_mode": {
    "name": "ipython",
    "version": 3
   },
   "file_extension": ".py",
   "mimetype": "text/x-python",
   "name": "python",
   "nbconvert_exporter": "python",
   "pygments_lexer": "ipython3",
   "version": "3.8.5"
  }
 },
 "nbformat": 4,
 "nbformat_minor": 4
}
